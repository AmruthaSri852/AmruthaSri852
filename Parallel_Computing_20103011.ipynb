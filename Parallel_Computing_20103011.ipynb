{
  "nbformat": 4,
  "nbformat_minor": 0,
  "metadata": {
    "colab": {
      "provenance": [],
      "collapsed_sections": [],
      "toc_visible": true,
      "authorship_tag": "ABX9TyP3Y6TzPT+1nAPnkvr0lPrX",
      "include_colab_link": true
    },
    "kernelspec": {
      "name": "python3",
      "display_name": "Python 3"
    },
    "language_info": {
      "name": "python"
    },
    "accelerator": "GPU",
    "gpuClass": "standard"
  },
  "cells": [
    {
      "cell_type": "markdown",
      "metadata": {
        "id": "view-in-github",
        "colab_type": "text"
      },
      "source": [
        "<a href=\"https://colab.research.google.com/github/AmruthaSri852/AmruthaSri852/blob/main/Parallel_Computing_20103011.ipynb\" target=\"_parent\"><img src=\"https://colab.research.google.com/assets/colab-badge.svg\" alt=\"Open In Colab\"/></a>"
      ]
    },
    {
      "cell_type": "markdown",
      "source": [
        "# Lab 01 - 23rd August 2022"
      ],
      "metadata": {
        "id": "oUzI5WK5MpgB"
      }
    },
    {
      "cell_type": "markdown",
      "source": [
        "### Object 01"
      ],
      "metadata": {
        "id": "ugzHaFeCPT5p"
      }
    },
    {
      "cell_type": "code",
      "source": [
        "# !pip install seaborn\n",
        "# !pip install plotly\n",
        "# !pip install matplot\n",
        "# !pip install pandas\n",
        "!pip install numpy"
      ],
      "metadata": {
        "id": "uW2dlYqIHy-H"
      },
      "execution_count": null,
      "outputs": []
    },
    {
      "cell_type": "code",
      "execution_count": null,
      "metadata": {
        "id": "7yAM-rt-WTjp"
      },
      "outputs": [],
      "source": [
        "import pandas as pd\n",
        "import matplotlib.pyplot as plt\n",
        "import seaborn as sns\n",
        "import plotly.express as px\n",
        "import openpyxl"
      ]
    },
    {
      "cell_type": "code",
      "source": [
        "from google.colab import drive\n",
        "drive.mount('/content/drive')"
      ],
      "metadata": {
        "colab": {
          "base_uri": "https://localhost:8080/"
        },
        "id": "sLvlHDmSPPYu",
        "outputId": "140a822e-6491-4939-8619-d55bc6a11f29"
      },
      "execution_count": null,
      "outputs": [
        {
          "output_type": "stream",
          "name": "stdout",
          "text": [
            "Drive already mounted at /content/drive; to attempt to forcibly remount, call drive.mount(\"/content/drive\", force_remount=True).\n"
          ]
        }
      ]
    },
    {
      "cell_type": "markdown",
      "source": [],
      "metadata": {
        "id": "HS2enatvMraL"
      }
    },
    {
      "cell_type": "code",
      "execution_count": null,
      "metadata": {
        "id": "iZMcQZUEMaAW"
      },
      "outputs": [],
      "source": [
        "df = pd.read_csv('/content/drive/MyDrive/Parallel Computer Lab(20103011)/Covid 19 dataset - covid_19_clean_complete.csv')"
      ]
    },
    {
      "cell_type": "code",
      "source": [
        "df.info()"
      ],
      "metadata": {
        "colab": {
          "base_uri": "https://localhost:8080/"
        },
        "id": "AIXQUxnpgaPV",
        "outputId": "4afbc96d-44ae-4844-c329-81879a0426b7"
      },
      "execution_count": null,
      "outputs": [
        {
          "output_type": "stream",
          "name": "stdout",
          "text": [
            "<class 'pandas.core.frame.DataFrame'>\n",
            "RangeIndex: 24366 entries, 0 to 24365\n",
            "Data columns (total 8 columns):\n",
            " #   Column          Non-Null Count  Dtype  \n",
            "---  ------          --------------  -----  \n",
            " 0   Province/State  7440 non-null   object \n",
            " 1   Country/Region  24366 non-null  object \n",
            " 2   Lat             24366 non-null  float64\n",
            " 3   Long            24366 non-null  float64\n",
            " 4   Date            24366 non-null  object \n",
            " 5   Confirmed       24366 non-null  int64  \n",
            " 6   Deaths          24366 non-null  int64  \n",
            " 7   Recovered       24366 non-null  int64  \n",
            "dtypes: float64(2), int64(3), object(3)\n",
            "memory usage: 1.5+ MB\n"
          ]
        }
      ]
    },
    {
      "cell_type": "code",
      "source": [
        "df.head()"
      ],
      "metadata": {
        "colab": {
          "base_uri": "https://localhost:8080/",
          "height": 206
        },
        "id": "yEe9xfc4gmcd",
        "outputId": "4c18ec68-b8c8-46f0-e996-fae0078a0ad2"
      },
      "execution_count": null,
      "outputs": [
        {
          "output_type": "execute_result",
          "data": {
            "text/plain": [
              "  Province/State Country/Region      Lat     Long     Date  Confirmed  Deaths  \\\n",
              "0            NaN    Afghanistan  33.0000  65.0000  1/22/20          0       0   \n",
              "1            NaN        Albania  41.1533  20.1683  1/22/20          0       0   \n",
              "2            NaN        Algeria  28.0339   1.6596  1/22/20          0       0   \n",
              "3            NaN        Andorra  42.5063   1.5218  1/22/20          0       0   \n",
              "4            NaN         Angola -11.2027  17.8739  1/22/20          0       0   \n",
              "\n",
              "   Recovered  \n",
              "0          0  \n",
              "1          0  \n",
              "2          0  \n",
              "3          0  \n",
              "4          0  "
            ],
            "text/html": [
              "\n",
              "  <div id=\"df-10695523-bd97-4961-adb8-e317f26f9792\">\n",
              "    <div class=\"colab-df-container\">\n",
              "      <div>\n",
              "<style scoped>\n",
              "    .dataframe tbody tr th:only-of-type {\n",
              "        vertical-align: middle;\n",
              "    }\n",
              "\n",
              "    .dataframe tbody tr th {\n",
              "        vertical-align: top;\n",
              "    }\n",
              "\n",
              "    .dataframe thead th {\n",
              "        text-align: right;\n",
              "    }\n",
              "</style>\n",
              "<table border=\"1\" class=\"dataframe\">\n",
              "  <thead>\n",
              "    <tr style=\"text-align: right;\">\n",
              "      <th></th>\n",
              "      <th>Province/State</th>\n",
              "      <th>Country/Region</th>\n",
              "      <th>Lat</th>\n",
              "      <th>Long</th>\n",
              "      <th>Date</th>\n",
              "      <th>Confirmed</th>\n",
              "      <th>Deaths</th>\n",
              "      <th>Recovered</th>\n",
              "    </tr>\n",
              "  </thead>\n",
              "  <tbody>\n",
              "    <tr>\n",
              "      <th>0</th>\n",
              "      <td>NaN</td>\n",
              "      <td>Afghanistan</td>\n",
              "      <td>33.0000</td>\n",
              "      <td>65.0000</td>\n",
              "      <td>1/22/20</td>\n",
              "      <td>0</td>\n",
              "      <td>0</td>\n",
              "      <td>0</td>\n",
              "    </tr>\n",
              "    <tr>\n",
              "      <th>1</th>\n",
              "      <td>NaN</td>\n",
              "      <td>Albania</td>\n",
              "      <td>41.1533</td>\n",
              "      <td>20.1683</td>\n",
              "      <td>1/22/20</td>\n",
              "      <td>0</td>\n",
              "      <td>0</td>\n",
              "      <td>0</td>\n",
              "    </tr>\n",
              "    <tr>\n",
              "      <th>2</th>\n",
              "      <td>NaN</td>\n",
              "      <td>Algeria</td>\n",
              "      <td>28.0339</td>\n",
              "      <td>1.6596</td>\n",
              "      <td>1/22/20</td>\n",
              "      <td>0</td>\n",
              "      <td>0</td>\n",
              "      <td>0</td>\n",
              "    </tr>\n",
              "    <tr>\n",
              "      <th>3</th>\n",
              "      <td>NaN</td>\n",
              "      <td>Andorra</td>\n",
              "      <td>42.5063</td>\n",
              "      <td>1.5218</td>\n",
              "      <td>1/22/20</td>\n",
              "      <td>0</td>\n",
              "      <td>0</td>\n",
              "      <td>0</td>\n",
              "    </tr>\n",
              "    <tr>\n",
              "      <th>4</th>\n",
              "      <td>NaN</td>\n",
              "      <td>Angola</td>\n",
              "      <td>-11.2027</td>\n",
              "      <td>17.8739</td>\n",
              "      <td>1/22/20</td>\n",
              "      <td>0</td>\n",
              "      <td>0</td>\n",
              "      <td>0</td>\n",
              "    </tr>\n",
              "  </tbody>\n",
              "</table>\n",
              "</div>\n",
              "      <button class=\"colab-df-convert\" onclick=\"convertToInteractive('df-10695523-bd97-4961-adb8-e317f26f9792')\"\n",
              "              title=\"Convert this dataframe to an interactive table.\"\n",
              "              style=\"display:none;\">\n",
              "        \n",
              "  <svg xmlns=\"http://www.w3.org/2000/svg\" height=\"24px\"viewBox=\"0 0 24 24\"\n",
              "       width=\"24px\">\n",
              "    <path d=\"M0 0h24v24H0V0z\" fill=\"none\"/>\n",
              "    <path d=\"M18.56 5.44l.94 2.06.94-2.06 2.06-.94-2.06-.94-.94-2.06-.94 2.06-2.06.94zm-11 1L8.5 8.5l.94-2.06 2.06-.94-2.06-.94L8.5 2.5l-.94 2.06-2.06.94zm10 10l.94 2.06.94-2.06 2.06-.94-2.06-.94-.94-2.06-.94 2.06-2.06.94z\"/><path d=\"M17.41 7.96l-1.37-1.37c-.4-.4-.92-.59-1.43-.59-.52 0-1.04.2-1.43.59L10.3 9.45l-7.72 7.72c-.78.78-.78 2.05 0 2.83L4 21.41c.39.39.9.59 1.41.59.51 0 1.02-.2 1.41-.59l7.78-7.78 2.81-2.81c.8-.78.8-2.07 0-2.86zM5.41 20L4 18.59l7.72-7.72 1.47 1.35L5.41 20z\"/>\n",
              "  </svg>\n",
              "      </button>\n",
              "      \n",
              "  <style>\n",
              "    .colab-df-container {\n",
              "      display:flex;\n",
              "      flex-wrap:wrap;\n",
              "      gap: 12px;\n",
              "    }\n",
              "\n",
              "    .colab-df-convert {\n",
              "      background-color: #E8F0FE;\n",
              "      border: none;\n",
              "      border-radius: 50%;\n",
              "      cursor: pointer;\n",
              "      display: none;\n",
              "      fill: #1967D2;\n",
              "      height: 32px;\n",
              "      padding: 0 0 0 0;\n",
              "      width: 32px;\n",
              "    }\n",
              "\n",
              "    .colab-df-convert:hover {\n",
              "      background-color: #E2EBFA;\n",
              "      box-shadow: 0px 1px 2px rgba(60, 64, 67, 0.3), 0px 1px 3px 1px rgba(60, 64, 67, 0.15);\n",
              "      fill: #174EA6;\n",
              "    }\n",
              "\n",
              "    [theme=dark] .colab-df-convert {\n",
              "      background-color: #3B4455;\n",
              "      fill: #D2E3FC;\n",
              "    }\n",
              "\n",
              "    [theme=dark] .colab-df-convert:hover {\n",
              "      background-color: #434B5C;\n",
              "      box-shadow: 0px 1px 3px 1px rgba(0, 0, 0, 0.15);\n",
              "      filter: drop-shadow(0px 1px 2px rgba(0, 0, 0, 0.3));\n",
              "      fill: #FFFFFF;\n",
              "    }\n",
              "  </style>\n",
              "\n",
              "      <script>\n",
              "        const buttonEl =\n",
              "          document.querySelector('#df-10695523-bd97-4961-adb8-e317f26f9792 button.colab-df-convert');\n",
              "        buttonEl.style.display =\n",
              "          google.colab.kernel.accessAllowed ? 'block' : 'none';\n",
              "\n",
              "        async function convertToInteractive(key) {\n",
              "          const element = document.querySelector('#df-10695523-bd97-4961-adb8-e317f26f9792');\n",
              "          const dataTable =\n",
              "            await google.colab.kernel.invokeFunction('convertToInteractive',\n",
              "                                                     [key], {});\n",
              "          if (!dataTable) return;\n",
              "\n",
              "          const docLinkHtml = 'Like what you see? Visit the ' +\n",
              "            '<a target=\"_blank\" href=https://colab.research.google.com/notebooks/data_table.ipynb>data table notebook</a>'\n",
              "            + ' to learn more about interactive tables.';\n",
              "          element.innerHTML = '';\n",
              "          dataTable['output_type'] = 'display_data';\n",
              "          await google.colab.output.renderOutput(dataTable, element);\n",
              "          const docLink = document.createElement('div');\n",
              "          docLink.innerHTML = docLinkHtml;\n",
              "          element.appendChild(docLink);\n",
              "        }\n",
              "      </script>\n",
              "    </div>\n",
              "  </div>\n",
              "  "
            ]
          },
          "metadata": {},
          "execution_count": 43
        }
      ]
    },
    {
      "cell_type": "code",
      "source": [
        "df.rename(columns={\"Province/State\":\"state\",\"Country/Region\":\"country\"},inplace=True)"
      ],
      "metadata": {
        "id": "p3pJNo5rgqRT"
      },
      "execution_count": null,
      "outputs": []
    },
    {
      "cell_type": "code",
      "source": [
        "df.head()"
      ],
      "metadata": {
        "colab": {
          "base_uri": "https://localhost:8080/",
          "height": 206
        },
        "id": "g7mh59CZgwHq",
        "outputId": "ada3b30f-f289-4aa9-f34c-9723b3f3a7dc"
      },
      "execution_count": null,
      "outputs": [
        {
          "output_type": "execute_result",
          "data": {
            "text/plain": [
              "  state      country      Lat     Long     Date  Confirmed  Deaths  Recovered\n",
              "0   NaN  Afghanistan  33.0000  65.0000  1/22/20          0       0          0\n",
              "1   NaN      Albania  41.1533  20.1683  1/22/20          0       0          0\n",
              "2   NaN      Algeria  28.0339   1.6596  1/22/20          0       0          0\n",
              "3   NaN      Andorra  42.5063   1.5218  1/22/20          0       0          0\n",
              "4   NaN       Angola -11.2027  17.8739  1/22/20          0       0          0"
            ],
            "text/html": [
              "\n",
              "  <div id=\"df-50aa8a92-908a-49c4-8621-faf3644da5a8\">\n",
              "    <div class=\"colab-df-container\">\n",
              "      <div>\n",
              "<style scoped>\n",
              "    .dataframe tbody tr th:only-of-type {\n",
              "        vertical-align: middle;\n",
              "    }\n",
              "\n",
              "    .dataframe tbody tr th {\n",
              "        vertical-align: top;\n",
              "    }\n",
              "\n",
              "    .dataframe thead th {\n",
              "        text-align: right;\n",
              "    }\n",
              "</style>\n",
              "<table border=\"1\" class=\"dataframe\">\n",
              "  <thead>\n",
              "    <tr style=\"text-align: right;\">\n",
              "      <th></th>\n",
              "      <th>state</th>\n",
              "      <th>country</th>\n",
              "      <th>Lat</th>\n",
              "      <th>Long</th>\n",
              "      <th>Date</th>\n",
              "      <th>Confirmed</th>\n",
              "      <th>Deaths</th>\n",
              "      <th>Recovered</th>\n",
              "    </tr>\n",
              "  </thead>\n",
              "  <tbody>\n",
              "    <tr>\n",
              "      <th>0</th>\n",
              "      <td>NaN</td>\n",
              "      <td>Afghanistan</td>\n",
              "      <td>33.0000</td>\n",
              "      <td>65.0000</td>\n",
              "      <td>1/22/20</td>\n",
              "      <td>0</td>\n",
              "      <td>0</td>\n",
              "      <td>0</td>\n",
              "    </tr>\n",
              "    <tr>\n",
              "      <th>1</th>\n",
              "      <td>NaN</td>\n",
              "      <td>Albania</td>\n",
              "      <td>41.1533</td>\n",
              "      <td>20.1683</td>\n",
              "      <td>1/22/20</td>\n",
              "      <td>0</td>\n",
              "      <td>0</td>\n",
              "      <td>0</td>\n",
              "    </tr>\n",
              "    <tr>\n",
              "      <th>2</th>\n",
              "      <td>NaN</td>\n",
              "      <td>Algeria</td>\n",
              "      <td>28.0339</td>\n",
              "      <td>1.6596</td>\n",
              "      <td>1/22/20</td>\n",
              "      <td>0</td>\n",
              "      <td>0</td>\n",
              "      <td>0</td>\n",
              "    </tr>\n",
              "    <tr>\n",
              "      <th>3</th>\n",
              "      <td>NaN</td>\n",
              "      <td>Andorra</td>\n",
              "      <td>42.5063</td>\n",
              "      <td>1.5218</td>\n",
              "      <td>1/22/20</td>\n",
              "      <td>0</td>\n",
              "      <td>0</td>\n",
              "      <td>0</td>\n",
              "    </tr>\n",
              "    <tr>\n",
              "      <th>4</th>\n",
              "      <td>NaN</td>\n",
              "      <td>Angola</td>\n",
              "      <td>-11.2027</td>\n",
              "      <td>17.8739</td>\n",
              "      <td>1/22/20</td>\n",
              "      <td>0</td>\n",
              "      <td>0</td>\n",
              "      <td>0</td>\n",
              "    </tr>\n",
              "  </tbody>\n",
              "</table>\n",
              "</div>\n",
              "      <button class=\"colab-df-convert\" onclick=\"convertToInteractive('df-50aa8a92-908a-49c4-8621-faf3644da5a8')\"\n",
              "              title=\"Convert this dataframe to an interactive table.\"\n",
              "              style=\"display:none;\">\n",
              "        \n",
              "  <svg xmlns=\"http://www.w3.org/2000/svg\" height=\"24px\"viewBox=\"0 0 24 24\"\n",
              "       width=\"24px\">\n",
              "    <path d=\"M0 0h24v24H0V0z\" fill=\"none\"/>\n",
              "    <path d=\"M18.56 5.44l.94 2.06.94-2.06 2.06-.94-2.06-.94-.94-2.06-.94 2.06-2.06.94zm-11 1L8.5 8.5l.94-2.06 2.06-.94-2.06-.94L8.5 2.5l-.94 2.06-2.06.94zm10 10l.94 2.06.94-2.06 2.06-.94-2.06-.94-.94-2.06-.94 2.06-2.06.94z\"/><path d=\"M17.41 7.96l-1.37-1.37c-.4-.4-.92-.59-1.43-.59-.52 0-1.04.2-1.43.59L10.3 9.45l-7.72 7.72c-.78.78-.78 2.05 0 2.83L4 21.41c.39.39.9.59 1.41.59.51 0 1.02-.2 1.41-.59l7.78-7.78 2.81-2.81c.8-.78.8-2.07 0-2.86zM5.41 20L4 18.59l7.72-7.72 1.47 1.35L5.41 20z\"/>\n",
              "  </svg>\n",
              "      </button>\n",
              "      \n",
              "  <style>\n",
              "    .colab-df-container {\n",
              "      display:flex;\n",
              "      flex-wrap:wrap;\n",
              "      gap: 12px;\n",
              "    }\n",
              "\n",
              "    .colab-df-convert {\n",
              "      background-color: #E8F0FE;\n",
              "      border: none;\n",
              "      border-radius: 50%;\n",
              "      cursor: pointer;\n",
              "      display: none;\n",
              "      fill: #1967D2;\n",
              "      height: 32px;\n",
              "      padding: 0 0 0 0;\n",
              "      width: 32px;\n",
              "    }\n",
              "\n",
              "    .colab-df-convert:hover {\n",
              "      background-color: #E2EBFA;\n",
              "      box-shadow: 0px 1px 2px rgba(60, 64, 67, 0.3), 0px 1px 3px 1px rgba(60, 64, 67, 0.15);\n",
              "      fill: #174EA6;\n",
              "    }\n",
              "\n",
              "    [theme=dark] .colab-df-convert {\n",
              "      background-color: #3B4455;\n",
              "      fill: #D2E3FC;\n",
              "    }\n",
              "\n",
              "    [theme=dark] .colab-df-convert:hover {\n",
              "      background-color: #434B5C;\n",
              "      box-shadow: 0px 1px 3px 1px rgba(0, 0, 0, 0.15);\n",
              "      filter: drop-shadow(0px 1px 2px rgba(0, 0, 0, 0.3));\n",
              "      fill: #FFFFFF;\n",
              "    }\n",
              "  </style>\n",
              "\n",
              "      <script>\n",
              "        const buttonEl =\n",
              "          document.querySelector('#df-50aa8a92-908a-49c4-8621-faf3644da5a8 button.colab-df-convert');\n",
              "        buttonEl.style.display =\n",
              "          google.colab.kernel.accessAllowed ? 'block' : 'none';\n",
              "\n",
              "        async function convertToInteractive(key) {\n",
              "          const element = document.querySelector('#df-50aa8a92-908a-49c4-8621-faf3644da5a8');\n",
              "          const dataTable =\n",
              "            await google.colab.kernel.invokeFunction('convertToInteractive',\n",
              "                                                     [key], {});\n",
              "          if (!dataTable) return;\n",
              "\n",
              "          const docLinkHtml = 'Like what you see? Visit the ' +\n",
              "            '<a target=\"_blank\" href=https://colab.research.google.com/notebooks/data_table.ipynb>data table notebook</a>'\n",
              "            + ' to learn more about interactive tables.';\n",
              "          element.innerHTML = '';\n",
              "          dataTable['output_type'] = 'display_data';\n",
              "          await google.colab.output.renderOutput(dataTable, element);\n",
              "          const docLink = document.createElement('div');\n",
              "          docLink.innerHTML = docLinkHtml;\n",
              "          element.appendChild(docLink);\n",
              "        }\n",
              "      </script>\n",
              "    </div>\n",
              "  </div>\n",
              "  "
            ]
          },
          "metadata": {},
          "execution_count": 45
        }
      ]
    },
    {
      "cell_type": "code",
      "source": [
        "df['active'] = df['Confirmed'] - df['Deaths'] - df[\"Recovered\"]"
      ],
      "metadata": {
        "id": "A2knwLmfg26A"
      },
      "execution_count": null,
      "outputs": []
    },
    {
      "cell_type": "code",
      "source": [
        "df.tail()"
      ],
      "metadata": {
        "colab": {
          "base_uri": "https://localhost:8080/",
          "height": 285
        },
        "id": "khi78OCtg_3L",
        "outputId": "bd95b1a1-24d1-48c6-ea98-45a3fc37860f"
      },
      "execution_count": null,
      "outputs": [
        {
          "output_type": "execute_result",
          "data": {
            "text/plain": [
              "                           state                country        Lat       Long  \\\n",
              "24361  Saint Pierre and Miquelon                 France  46.885200 -56.315900   \n",
              "24362                        NaN            South Sudan   6.877000  31.307000   \n",
              "24363                        NaN         Western Sahara  24.215500 -12.885800   \n",
              "24364                        NaN  Sao Tome and Principe   0.186360   6.613081   \n",
              "24365                        NaN                  Yemen  15.552727  48.516388   \n",
              "\n",
              "          Date  Confirmed  Deaths  Recovered  active  \n",
              "24361  4/23/20          1       0          0       1  \n",
              "24362  4/23/20          5       0          0       5  \n",
              "24363  4/23/20          6       0          5       1  \n",
              "24364  4/23/20          4       0          0       4  \n",
              "24365  4/23/20          1       0          0       1  "
            ],
            "text/html": [
              "\n",
              "  <div id=\"df-f81fdfd8-0756-41c3-ba60-c392cd555382\">\n",
              "    <div class=\"colab-df-container\">\n",
              "      <div>\n",
              "<style scoped>\n",
              "    .dataframe tbody tr th:only-of-type {\n",
              "        vertical-align: middle;\n",
              "    }\n",
              "\n",
              "    .dataframe tbody tr th {\n",
              "        vertical-align: top;\n",
              "    }\n",
              "\n",
              "    .dataframe thead th {\n",
              "        text-align: right;\n",
              "    }\n",
              "</style>\n",
              "<table border=\"1\" class=\"dataframe\">\n",
              "  <thead>\n",
              "    <tr style=\"text-align: right;\">\n",
              "      <th></th>\n",
              "      <th>state</th>\n",
              "      <th>country</th>\n",
              "      <th>Lat</th>\n",
              "      <th>Long</th>\n",
              "      <th>Date</th>\n",
              "      <th>Confirmed</th>\n",
              "      <th>Deaths</th>\n",
              "      <th>Recovered</th>\n",
              "      <th>active</th>\n",
              "    </tr>\n",
              "  </thead>\n",
              "  <tbody>\n",
              "    <tr>\n",
              "      <th>24361</th>\n",
              "      <td>Saint Pierre and Miquelon</td>\n",
              "      <td>France</td>\n",
              "      <td>46.885200</td>\n",
              "      <td>-56.315900</td>\n",
              "      <td>4/23/20</td>\n",
              "      <td>1</td>\n",
              "      <td>0</td>\n",
              "      <td>0</td>\n",
              "      <td>1</td>\n",
              "    </tr>\n",
              "    <tr>\n",
              "      <th>24362</th>\n",
              "      <td>NaN</td>\n",
              "      <td>South Sudan</td>\n",
              "      <td>6.877000</td>\n",
              "      <td>31.307000</td>\n",
              "      <td>4/23/20</td>\n",
              "      <td>5</td>\n",
              "      <td>0</td>\n",
              "      <td>0</td>\n",
              "      <td>5</td>\n",
              "    </tr>\n",
              "    <tr>\n",
              "      <th>24363</th>\n",
              "      <td>NaN</td>\n",
              "      <td>Western Sahara</td>\n",
              "      <td>24.215500</td>\n",
              "      <td>-12.885800</td>\n",
              "      <td>4/23/20</td>\n",
              "      <td>6</td>\n",
              "      <td>0</td>\n",
              "      <td>5</td>\n",
              "      <td>1</td>\n",
              "    </tr>\n",
              "    <tr>\n",
              "      <th>24364</th>\n",
              "      <td>NaN</td>\n",
              "      <td>Sao Tome and Principe</td>\n",
              "      <td>0.186360</td>\n",
              "      <td>6.613081</td>\n",
              "      <td>4/23/20</td>\n",
              "      <td>4</td>\n",
              "      <td>0</td>\n",
              "      <td>0</td>\n",
              "      <td>4</td>\n",
              "    </tr>\n",
              "    <tr>\n",
              "      <th>24365</th>\n",
              "      <td>NaN</td>\n",
              "      <td>Yemen</td>\n",
              "      <td>15.552727</td>\n",
              "      <td>48.516388</td>\n",
              "      <td>4/23/20</td>\n",
              "      <td>1</td>\n",
              "      <td>0</td>\n",
              "      <td>0</td>\n",
              "      <td>1</td>\n",
              "    </tr>\n",
              "  </tbody>\n",
              "</table>\n",
              "</div>\n",
              "      <button class=\"colab-df-convert\" onclick=\"convertToInteractive('df-f81fdfd8-0756-41c3-ba60-c392cd555382')\"\n",
              "              title=\"Convert this dataframe to an interactive table.\"\n",
              "              style=\"display:none;\">\n",
              "        \n",
              "  <svg xmlns=\"http://www.w3.org/2000/svg\" height=\"24px\"viewBox=\"0 0 24 24\"\n",
              "       width=\"24px\">\n",
              "    <path d=\"M0 0h24v24H0V0z\" fill=\"none\"/>\n",
              "    <path d=\"M18.56 5.44l.94 2.06.94-2.06 2.06-.94-2.06-.94-.94-2.06-.94 2.06-2.06.94zm-11 1L8.5 8.5l.94-2.06 2.06-.94-2.06-.94L8.5 2.5l-.94 2.06-2.06.94zm10 10l.94 2.06.94-2.06 2.06-.94-2.06-.94-.94-2.06-.94 2.06-2.06.94z\"/><path d=\"M17.41 7.96l-1.37-1.37c-.4-.4-.92-.59-1.43-.59-.52 0-1.04.2-1.43.59L10.3 9.45l-7.72 7.72c-.78.78-.78 2.05 0 2.83L4 21.41c.39.39.9.59 1.41.59.51 0 1.02-.2 1.41-.59l7.78-7.78 2.81-2.81c.8-.78.8-2.07 0-2.86zM5.41 20L4 18.59l7.72-7.72 1.47 1.35L5.41 20z\"/>\n",
              "  </svg>\n",
              "      </button>\n",
              "      \n",
              "  <style>\n",
              "    .colab-df-container {\n",
              "      display:flex;\n",
              "      flex-wrap:wrap;\n",
              "      gap: 12px;\n",
              "    }\n",
              "\n",
              "    .colab-df-convert {\n",
              "      background-color: #E8F0FE;\n",
              "      border: none;\n",
              "      border-radius: 50%;\n",
              "      cursor: pointer;\n",
              "      display: none;\n",
              "      fill: #1967D2;\n",
              "      height: 32px;\n",
              "      padding: 0 0 0 0;\n",
              "      width: 32px;\n",
              "    }\n",
              "\n",
              "    .colab-df-convert:hover {\n",
              "      background-color: #E2EBFA;\n",
              "      box-shadow: 0px 1px 2px rgba(60, 64, 67, 0.3), 0px 1px 3px 1px rgba(60, 64, 67, 0.15);\n",
              "      fill: #174EA6;\n",
              "    }\n",
              "\n",
              "    [theme=dark] .colab-df-convert {\n",
              "      background-color: #3B4455;\n",
              "      fill: #D2E3FC;\n",
              "    }\n",
              "\n",
              "    [theme=dark] .colab-df-convert:hover {\n",
              "      background-color: #434B5C;\n",
              "      box-shadow: 0px 1px 3px 1px rgba(0, 0, 0, 0.15);\n",
              "      filter: drop-shadow(0px 1px 2px rgba(0, 0, 0, 0.3));\n",
              "      fill: #FFFFFF;\n",
              "    }\n",
              "  </style>\n",
              "\n",
              "      <script>\n",
              "        const buttonEl =\n",
              "          document.querySelector('#df-f81fdfd8-0756-41c3-ba60-c392cd555382 button.colab-df-convert');\n",
              "        buttonEl.style.display =\n",
              "          google.colab.kernel.accessAllowed ? 'block' : 'none';\n",
              "\n",
              "        async function convertToInteractive(key) {\n",
              "          const element = document.querySelector('#df-f81fdfd8-0756-41c3-ba60-c392cd555382');\n",
              "          const dataTable =\n",
              "            await google.colab.kernel.invokeFunction('convertToInteractive',\n",
              "                                                     [key], {});\n",
              "          if (!dataTable) return;\n",
              "\n",
              "          const docLinkHtml = 'Like what you see? Visit the ' +\n",
              "            '<a target=\"_blank\" href=https://colab.research.google.com/notebooks/data_table.ipynb>data table notebook</a>'\n",
              "            + ' to learn more about interactive tables.';\n",
              "          element.innerHTML = '';\n",
              "          dataTable['output_type'] = 'display_data';\n",
              "          await google.colab.output.renderOutput(dataTable, element);\n",
              "          const docLink = document.createElement('div');\n",
              "          docLink.innerHTML = docLinkHtml;\n",
              "          element.appendChild(docLink);\n",
              "        }\n",
              "      </script>\n",
              "    </div>\n",
              "  </div>\n",
              "  "
            ]
          },
          "metadata": {},
          "execution_count": 47
        }
      ]
    },
    {
      "cell_type": "code",
      "source": [
        "### Top Countries Data"
      ],
      "metadata": {
        "id": "9INtOg_ThEcZ"
      },
      "execution_count": null,
      "outputs": []
    },
    {
      "cell_type": "code",
      "source": [
        "df['Date'].max()"
      ],
      "metadata": {
        "colab": {
          "base_uri": "https://localhost:8080/",
          "height": 35
        },
        "id": "zenzEw-GhIPe",
        "outputId": "2b2039b2-c208-4c44-e50f-432a5e84406a"
      },
      "execution_count": null,
      "outputs": [
        {
          "output_type": "execute_result",
          "data": {
            "text/plain": [
              "'4/9/20'"
            ],
            "application/vnd.google.colaboratory.intrinsic+json": {
              "type": "string"
            }
          },
          "metadata": {},
          "execution_count": 49
        }
      ]
    },
    {
      "cell_type": "code",
      "source": [
        "top = df[df['Date'] == df['Date'].max()]\n",
        "top.head()"
      ],
      "metadata": {
        "colab": {
          "base_uri": "https://localhost:8080/",
          "height": 206
        },
        "id": "wXD7YPg9hLyI",
        "outputId": "0b607d02-4959-464e-d8c0-2e0c18ce7dd9"
      },
      "execution_count": null,
      "outputs": [
        {
          "output_type": "execute_result",
          "data": {
            "text/plain": [
              "      state      country      Lat     Long    Date  Confirmed  Deaths  \\\n",
              "20436   NaN  Afghanistan  33.0000  65.0000  4/9/20        484      15   \n",
              "20437   NaN      Albania  41.1533  20.1683  4/9/20        409      23   \n",
              "20438   NaN      Algeria  28.0339   1.6596  4/9/20       1666     235   \n",
              "20439   NaN      Andorra  42.5063   1.5218  4/9/20        583      25   \n",
              "20440   NaN       Angola -11.2027  17.8739  4/9/20         19       2   \n",
              "\n",
              "       Recovered  active  \n",
              "20436         32     437  \n",
              "20437        165     221  \n",
              "20438        347    1084  \n",
              "20439         58     500  \n",
              "20440          2      15  "
            ],
            "text/html": [
              "\n",
              "  <div id=\"df-13b3f5e0-f212-4837-ac43-ead1efc1463c\">\n",
              "    <div class=\"colab-df-container\">\n",
              "      <div>\n",
              "<style scoped>\n",
              "    .dataframe tbody tr th:only-of-type {\n",
              "        vertical-align: middle;\n",
              "    }\n",
              "\n",
              "    .dataframe tbody tr th {\n",
              "        vertical-align: top;\n",
              "    }\n",
              "\n",
              "    .dataframe thead th {\n",
              "        text-align: right;\n",
              "    }\n",
              "</style>\n",
              "<table border=\"1\" class=\"dataframe\">\n",
              "  <thead>\n",
              "    <tr style=\"text-align: right;\">\n",
              "      <th></th>\n",
              "      <th>state</th>\n",
              "      <th>country</th>\n",
              "      <th>Lat</th>\n",
              "      <th>Long</th>\n",
              "      <th>Date</th>\n",
              "      <th>Confirmed</th>\n",
              "      <th>Deaths</th>\n",
              "      <th>Recovered</th>\n",
              "      <th>active</th>\n",
              "    </tr>\n",
              "  </thead>\n",
              "  <tbody>\n",
              "    <tr>\n",
              "      <th>20436</th>\n",
              "      <td>NaN</td>\n",
              "      <td>Afghanistan</td>\n",
              "      <td>33.0000</td>\n",
              "      <td>65.0000</td>\n",
              "      <td>4/9/20</td>\n",
              "      <td>484</td>\n",
              "      <td>15</td>\n",
              "      <td>32</td>\n",
              "      <td>437</td>\n",
              "    </tr>\n",
              "    <tr>\n",
              "      <th>20437</th>\n",
              "      <td>NaN</td>\n",
              "      <td>Albania</td>\n",
              "      <td>41.1533</td>\n",
              "      <td>20.1683</td>\n",
              "      <td>4/9/20</td>\n",
              "      <td>409</td>\n",
              "      <td>23</td>\n",
              "      <td>165</td>\n",
              "      <td>221</td>\n",
              "    </tr>\n",
              "    <tr>\n",
              "      <th>20438</th>\n",
              "      <td>NaN</td>\n",
              "      <td>Algeria</td>\n",
              "      <td>28.0339</td>\n",
              "      <td>1.6596</td>\n",
              "      <td>4/9/20</td>\n",
              "      <td>1666</td>\n",
              "      <td>235</td>\n",
              "      <td>347</td>\n",
              "      <td>1084</td>\n",
              "    </tr>\n",
              "    <tr>\n",
              "      <th>20439</th>\n",
              "      <td>NaN</td>\n",
              "      <td>Andorra</td>\n",
              "      <td>42.5063</td>\n",
              "      <td>1.5218</td>\n",
              "      <td>4/9/20</td>\n",
              "      <td>583</td>\n",
              "      <td>25</td>\n",
              "      <td>58</td>\n",
              "      <td>500</td>\n",
              "    </tr>\n",
              "    <tr>\n",
              "      <th>20440</th>\n",
              "      <td>NaN</td>\n",
              "      <td>Angola</td>\n",
              "      <td>-11.2027</td>\n",
              "      <td>17.8739</td>\n",
              "      <td>4/9/20</td>\n",
              "      <td>19</td>\n",
              "      <td>2</td>\n",
              "      <td>2</td>\n",
              "      <td>15</td>\n",
              "    </tr>\n",
              "  </tbody>\n",
              "</table>\n",
              "</div>\n",
              "      <button class=\"colab-df-convert\" onclick=\"convertToInteractive('df-13b3f5e0-f212-4837-ac43-ead1efc1463c')\"\n",
              "              title=\"Convert this dataframe to an interactive table.\"\n",
              "              style=\"display:none;\">\n",
              "        \n",
              "  <svg xmlns=\"http://www.w3.org/2000/svg\" height=\"24px\"viewBox=\"0 0 24 24\"\n",
              "       width=\"24px\">\n",
              "    <path d=\"M0 0h24v24H0V0z\" fill=\"none\"/>\n",
              "    <path d=\"M18.56 5.44l.94 2.06.94-2.06 2.06-.94-2.06-.94-.94-2.06-.94 2.06-2.06.94zm-11 1L8.5 8.5l.94-2.06 2.06-.94-2.06-.94L8.5 2.5l-.94 2.06-2.06.94zm10 10l.94 2.06.94-2.06 2.06-.94-2.06-.94-.94-2.06-.94 2.06-2.06.94z\"/><path d=\"M17.41 7.96l-1.37-1.37c-.4-.4-.92-.59-1.43-.59-.52 0-1.04.2-1.43.59L10.3 9.45l-7.72 7.72c-.78.78-.78 2.05 0 2.83L4 21.41c.39.39.9.59 1.41.59.51 0 1.02-.2 1.41-.59l7.78-7.78 2.81-2.81c.8-.78.8-2.07 0-2.86zM5.41 20L4 18.59l7.72-7.72 1.47 1.35L5.41 20z\"/>\n",
              "  </svg>\n",
              "      </button>\n",
              "      \n",
              "  <style>\n",
              "    .colab-df-container {\n",
              "      display:flex;\n",
              "      flex-wrap:wrap;\n",
              "      gap: 12px;\n",
              "    }\n",
              "\n",
              "    .colab-df-convert {\n",
              "      background-color: #E8F0FE;\n",
              "      border: none;\n",
              "      border-radius: 50%;\n",
              "      cursor: pointer;\n",
              "      display: none;\n",
              "      fill: #1967D2;\n",
              "      height: 32px;\n",
              "      padding: 0 0 0 0;\n",
              "      width: 32px;\n",
              "    }\n",
              "\n",
              "    .colab-df-convert:hover {\n",
              "      background-color: #E2EBFA;\n",
              "      box-shadow: 0px 1px 2px rgba(60, 64, 67, 0.3), 0px 1px 3px 1px rgba(60, 64, 67, 0.15);\n",
              "      fill: #174EA6;\n",
              "    }\n",
              "\n",
              "    [theme=dark] .colab-df-convert {\n",
              "      background-color: #3B4455;\n",
              "      fill: #D2E3FC;\n",
              "    }\n",
              "\n",
              "    [theme=dark] .colab-df-convert:hover {\n",
              "      background-color: #434B5C;\n",
              "      box-shadow: 0px 1px 3px 1px rgba(0, 0, 0, 0.15);\n",
              "      filter: drop-shadow(0px 1px 2px rgba(0, 0, 0, 0.3));\n",
              "      fill: #FFFFFF;\n",
              "    }\n",
              "  </style>\n",
              "\n",
              "      <script>\n",
              "        const buttonEl =\n",
              "          document.querySelector('#df-13b3f5e0-f212-4837-ac43-ead1efc1463c button.colab-df-convert');\n",
              "        buttonEl.style.display =\n",
              "          google.colab.kernel.accessAllowed ? 'block' : 'none';\n",
              "\n",
              "        async function convertToInteractive(key) {\n",
              "          const element = document.querySelector('#df-13b3f5e0-f212-4837-ac43-ead1efc1463c');\n",
              "          const dataTable =\n",
              "            await google.colab.kernel.invokeFunction('convertToInteractive',\n",
              "                                                     [key], {});\n",
              "          if (!dataTable) return;\n",
              "\n",
              "          const docLinkHtml = 'Like what you see? Visit the ' +\n",
              "            '<a target=\"_blank\" href=https://colab.research.google.com/notebooks/data_table.ipynb>data table notebook</a>'\n",
              "            + ' to learn more about interactive tables.';\n",
              "          element.innerHTML = '';\n",
              "          dataTable['output_type'] = 'display_data';\n",
              "          await google.colab.output.renderOutput(dataTable, element);\n",
              "          const docLink = document.createElement('div');\n",
              "          docLink.innerHTML = docLinkHtml;\n",
              "          element.appendChild(docLink);\n",
              "        }\n",
              "      </script>\n",
              "    </div>\n",
              "  </div>\n",
              "  "
            ]
          },
          "metadata": {},
          "execution_count": 50
        }
      ]
    },
    {
      "cell_type": "code",
      "source": [
        "world = top.groupby('country')['Confirmed','Recovered','Deaths','active'].sum().reset_index()\n",
        "world.head()"
      ],
      "metadata": {
        "colab": {
          "base_uri": "https://localhost:8080/",
          "height": 276
        },
        "id": "ajfmExJ1hOgM",
        "outputId": "9a05eb86-b562-4a55-8397-9337765cd848"
      },
      "execution_count": null,
      "outputs": [
        {
          "output_type": "stream",
          "name": "stderr",
          "text": [
            "/usr/local/lib/python3.7/dist-packages/ipykernel_launcher.py:1: FutureWarning:\n",
            "\n",
            "Indexing with multiple keys (implicitly converted to a tuple of keys) will be deprecated, use a list instead.\n",
            "\n"
          ]
        },
        {
          "output_type": "execute_result",
          "data": {
            "text/plain": [
              "       country  Confirmed  Recovered  Deaths  active\n",
              "0  Afghanistan        484         32      15     437\n",
              "1      Albania        409        165      23     221\n",
              "2      Algeria       1666        347     235    1084\n",
              "3      Andorra        583         58      25     500\n",
              "4       Angola         19          2       2      15"
            ],
            "text/html": [
              "\n",
              "  <div id=\"df-dd18dbef-ceb0-45c3-b37d-8ae76b275749\">\n",
              "    <div class=\"colab-df-container\">\n",
              "      <div>\n",
              "<style scoped>\n",
              "    .dataframe tbody tr th:only-of-type {\n",
              "        vertical-align: middle;\n",
              "    }\n",
              "\n",
              "    .dataframe tbody tr th {\n",
              "        vertical-align: top;\n",
              "    }\n",
              "\n",
              "    .dataframe thead th {\n",
              "        text-align: right;\n",
              "    }\n",
              "</style>\n",
              "<table border=\"1\" class=\"dataframe\">\n",
              "  <thead>\n",
              "    <tr style=\"text-align: right;\">\n",
              "      <th></th>\n",
              "      <th>country</th>\n",
              "      <th>Confirmed</th>\n",
              "      <th>Recovered</th>\n",
              "      <th>Deaths</th>\n",
              "      <th>active</th>\n",
              "    </tr>\n",
              "  </thead>\n",
              "  <tbody>\n",
              "    <tr>\n",
              "      <th>0</th>\n",
              "      <td>Afghanistan</td>\n",
              "      <td>484</td>\n",
              "      <td>32</td>\n",
              "      <td>15</td>\n",
              "      <td>437</td>\n",
              "    </tr>\n",
              "    <tr>\n",
              "      <th>1</th>\n",
              "      <td>Albania</td>\n",
              "      <td>409</td>\n",
              "      <td>165</td>\n",
              "      <td>23</td>\n",
              "      <td>221</td>\n",
              "    </tr>\n",
              "    <tr>\n",
              "      <th>2</th>\n",
              "      <td>Algeria</td>\n",
              "      <td>1666</td>\n",
              "      <td>347</td>\n",
              "      <td>235</td>\n",
              "      <td>1084</td>\n",
              "    </tr>\n",
              "    <tr>\n",
              "      <th>3</th>\n",
              "      <td>Andorra</td>\n",
              "      <td>583</td>\n",
              "      <td>58</td>\n",
              "      <td>25</td>\n",
              "      <td>500</td>\n",
              "    </tr>\n",
              "    <tr>\n",
              "      <th>4</th>\n",
              "      <td>Angola</td>\n",
              "      <td>19</td>\n",
              "      <td>2</td>\n",
              "      <td>2</td>\n",
              "      <td>15</td>\n",
              "    </tr>\n",
              "  </tbody>\n",
              "</table>\n",
              "</div>\n",
              "      <button class=\"colab-df-convert\" onclick=\"convertToInteractive('df-dd18dbef-ceb0-45c3-b37d-8ae76b275749')\"\n",
              "              title=\"Convert this dataframe to an interactive table.\"\n",
              "              style=\"display:none;\">\n",
              "        \n",
              "  <svg xmlns=\"http://www.w3.org/2000/svg\" height=\"24px\"viewBox=\"0 0 24 24\"\n",
              "       width=\"24px\">\n",
              "    <path d=\"M0 0h24v24H0V0z\" fill=\"none\"/>\n",
              "    <path d=\"M18.56 5.44l.94 2.06.94-2.06 2.06-.94-2.06-.94-.94-2.06-.94 2.06-2.06.94zm-11 1L8.5 8.5l.94-2.06 2.06-.94-2.06-.94L8.5 2.5l-.94 2.06-2.06.94zm10 10l.94 2.06.94-2.06 2.06-.94-2.06-.94-.94-2.06-.94 2.06-2.06.94z\"/><path d=\"M17.41 7.96l-1.37-1.37c-.4-.4-.92-.59-1.43-.59-.52 0-1.04.2-1.43.59L10.3 9.45l-7.72 7.72c-.78.78-.78 2.05 0 2.83L4 21.41c.39.39.9.59 1.41.59.51 0 1.02-.2 1.41-.59l7.78-7.78 2.81-2.81c.8-.78.8-2.07 0-2.86zM5.41 20L4 18.59l7.72-7.72 1.47 1.35L5.41 20z\"/>\n",
              "  </svg>\n",
              "      </button>\n",
              "      \n",
              "  <style>\n",
              "    .colab-df-container {\n",
              "      display:flex;\n",
              "      flex-wrap:wrap;\n",
              "      gap: 12px;\n",
              "    }\n",
              "\n",
              "    .colab-df-convert {\n",
              "      background-color: #E8F0FE;\n",
              "      border: none;\n",
              "      border-radius: 50%;\n",
              "      cursor: pointer;\n",
              "      display: none;\n",
              "      fill: #1967D2;\n",
              "      height: 32px;\n",
              "      padding: 0 0 0 0;\n",
              "      width: 32px;\n",
              "    }\n",
              "\n",
              "    .colab-df-convert:hover {\n",
              "      background-color: #E2EBFA;\n",
              "      box-shadow: 0px 1px 2px rgba(60, 64, 67, 0.3), 0px 1px 3px 1px rgba(60, 64, 67, 0.15);\n",
              "      fill: #174EA6;\n",
              "    }\n",
              "\n",
              "    [theme=dark] .colab-df-convert {\n",
              "      background-color: #3B4455;\n",
              "      fill: #D2E3FC;\n",
              "    }\n",
              "\n",
              "    [theme=dark] .colab-df-convert:hover {\n",
              "      background-color: #434B5C;\n",
              "      box-shadow: 0px 1px 3px 1px rgba(0, 0, 0, 0.15);\n",
              "      filter: drop-shadow(0px 1px 2px rgba(0, 0, 0, 0.3));\n",
              "      fill: #FFFFFF;\n",
              "    }\n",
              "  </style>\n",
              "\n",
              "      <script>\n",
              "        const buttonEl =\n",
              "          document.querySelector('#df-dd18dbef-ceb0-45c3-b37d-8ae76b275749 button.colab-df-convert');\n",
              "        buttonEl.style.display =\n",
              "          google.colab.kernel.accessAllowed ? 'block' : 'none';\n",
              "\n",
              "        async function convertToInteractive(key) {\n",
              "          const element = document.querySelector('#df-dd18dbef-ceb0-45c3-b37d-8ae76b275749');\n",
              "          const dataTable =\n",
              "            await google.colab.kernel.invokeFunction('convertToInteractive',\n",
              "                                                     [key], {});\n",
              "          if (!dataTable) return;\n",
              "\n",
              "          const docLinkHtml = 'Like what you see? Visit the ' +\n",
              "            '<a target=\"_blank\" href=https://colab.research.google.com/notebooks/data_table.ipynb>data table notebook</a>'\n",
              "            + ' to learn more about interactive tables.';\n",
              "          element.innerHTML = '';\n",
              "          dataTable['output_type'] = 'display_data';\n",
              "          await google.colab.output.renderOutput(dataTable, element);\n",
              "          const docLink = document.createElement('div');\n",
              "          docLink.innerHTML = docLinkHtml;\n",
              "          element.appendChild(docLink);\n",
              "        }\n",
              "      </script>\n",
              "    </div>\n",
              "  </div>\n",
              "  "
            ]
          },
          "metadata": {},
          "execution_count": 51
        }
      ]
    },
    {
      "cell_type": "code",
      "source": [
        "len(world)"
      ],
      "metadata": {
        "colab": {
          "base_uri": "https://localhost:8080/"
        },
        "id": "JNa8uhqahctv",
        "outputId": "155d9d93-625d-4a0b-9ad7-236b01f9c6b5"
      },
      "execution_count": null,
      "outputs": [
        {
          "output_type": "execute_result",
          "data": {
            "text/plain": [
              "185"
            ]
          },
          "metadata": {},
          "execution_count": 52
        }
      ]
    },
    {
      "cell_type": "code",
      "source": [
        "### Plot on World Map\n",
        "\n",
        "figure = px.choropleth(world,locations=\"country\",locationmode='country names',color='active',\n",
        "                       hover_name=\"country\",range_color=[1,1000],color_continuous_scale=\"agsunset\",\n",
        "                       title = \"Country With Active Cases\")\n",
        "figure.show()"
      ],
      "metadata": {
        "colab": {
          "base_uri": "https://localhost:8080/",
          "height": 542
        },
        "id": "5rK2IL4DiAzL",
        "outputId": "f8e8270e-ee92-41c4-8d12-69b3b6c19265"
      },
      "execution_count": null,
      "outputs": [
        {
          "output_type": "display_data",
          "data": {
            "text/html": [
              "<html>\n",
              "<head><meta charset=\"utf-8\" /></head>\n",
              "<body>\n",
              "    <div>            <script src=\"https://cdnjs.cloudflare.com/ajax/libs/mathjax/2.7.5/MathJax.js?config=TeX-AMS-MML_SVG\"></script><script type=\"text/javascript\">if (window.MathJax) {MathJax.Hub.Config({SVG: {font: \"STIX-Web\"}});}</script>                <script type=\"text/javascript\">window.PlotlyConfig = {MathJaxConfig: 'local'};</script>\n",
              "        <script src=\"https://cdn.plot.ly/plotly-2.8.3.min.js\"></script>                <div id=\"41e89af2-fdf4-4f98-af09-1cdd26f84c16\" class=\"plotly-graph-div\" style=\"height:525px; width:100%;\"></div>            <script type=\"text/javascript\">                                    window.PLOTLYENV=window.PLOTLYENV || {};                                    if (document.getElementById(\"41e89af2-fdf4-4f98-af09-1cdd26f84c16\")) {                    Plotly.newPlot(                        \"41e89af2-fdf4-4f98-af09-1cdd26f84c16\",                        [{\"coloraxis\":\"coloraxis\",\"geo\":\"geo\",\"hovertemplate\":\"<b>%{hovertext}</b><br><br>country=%{location}<br>active=%{z}<extra></extra>\",\"hovertext\":[\"Afghanistan\",\"Albania\",\"Algeria\",\"Andorra\",\"Angola\",\"Antigua and Barbuda\",\"Argentina\",\"Armenia\",\"Australia\",\"Austria\",\"Azerbaijan\",\"Bahamas\",\"Bahrain\",\"Bangladesh\",\"Barbados\",\"Belarus\",\"Belgium\",\"Belize\",\"Benin\",\"Bhutan\",\"Bolivia\",\"Bosnia and Herzegovina\",\"Botswana\",\"Brazil\",\"Brunei\",\"Bulgaria\",\"Burkina Faso\",\"Burma\",\"Burundi\",\"Cabo Verde\",\"Cambodia\",\"Cameroon\",\"Canada\",\"Central African Republic\",\"Chad\",\"Chile\",\"China\",\"Colombia\",\"Congo (Brazzaville)\",\"Congo (Kinshasa)\",\"Costa Rica\",\"Cote d'Ivoire\",\"Croatia\",\"Cuba\",\"Cyprus\",\"Czechia\",\"Denmark\",\"Diamond Princess\",\"Djibouti\",\"Dominica\",\"Dominican Republic\",\"Ecuador\",\"Egypt\",\"El Salvador\",\"Equatorial Guinea\",\"Eritrea\",\"Estonia\",\"Eswatini\",\"Ethiopia\",\"Fiji\",\"Finland\",\"France\",\"Gabon\",\"Gambia\",\"Georgia\",\"Germany\",\"Ghana\",\"Greece\",\"Grenada\",\"Guatemala\",\"Guinea\",\"Guinea-Bissau\",\"Guyana\",\"Haiti\",\"Holy See\",\"Honduras\",\"Hungary\",\"Iceland\",\"India\",\"Indonesia\",\"Iran\",\"Iraq\",\"Ireland\",\"Israel\",\"Italy\",\"Jamaica\",\"Japan\",\"Jordan\",\"Kazakhstan\",\"Kenya\",\"Kosovo\",\"Kuwait\",\"Kyrgyzstan\",\"Laos\",\"Latvia\",\"Lebanon\",\"Liberia\",\"Libya\",\"Liechtenstein\",\"Lithuania\",\"Luxembourg\",\"MS Zaandam\",\"Madagascar\",\"Malawi\",\"Malaysia\",\"Maldives\",\"Mali\",\"Malta\",\"Mauritania\",\"Mauritius\",\"Mexico\",\"Moldova\",\"Monaco\",\"Mongolia\",\"Montenegro\",\"Morocco\",\"Mozambique\",\"Namibia\",\"Nepal\",\"Netherlands\",\"New Zealand\",\"Nicaragua\",\"Niger\",\"Nigeria\",\"North Macedonia\",\"Norway\",\"Oman\",\"Pakistan\",\"Panama\",\"Papua New Guinea\",\"Paraguay\",\"Peru\",\"Philippines\",\"Poland\",\"Portugal\",\"Qatar\",\"Romania\",\"Russia\",\"Rwanda\",\"Saint Kitts and Nevis\",\"Saint Lucia\",\"Saint Vincent and the Grenadines\",\"San Marino\",\"Sao Tome and Principe\",\"Saudi Arabia\",\"Senegal\",\"Serbia\",\"Seychelles\",\"Sierra Leone\",\"Singapore\",\"Slovakia\",\"Slovenia\",\"Somalia\",\"South Africa\",\"South Korea\",\"South Sudan\",\"Spain\",\"Sri Lanka\",\"Sudan\",\"Suriname\",\"Sweden\",\"Switzerland\",\"Syria\",\"Taiwan*\",\"Tanzania\",\"Thailand\",\"Timor-Leste\",\"Togo\",\"Trinidad and Tobago\",\"Tunisia\",\"Turkey\",\"US\",\"Uganda\",\"Ukraine\",\"United Arab Emirates\",\"United Kingdom\",\"Uruguay\",\"Uzbekistan\",\"Venezuela\",\"Vietnam\",\"West Bank and Gaza\",\"Western Sahara\",\"Yemen\",\"Zambia\",\"Zimbabwe\"],\"locationmode\":\"country names\",\"locations\":[\"Afghanistan\",\"Albania\",\"Algeria\",\"Andorra\",\"Angola\",\"Antigua and Barbuda\",\"Argentina\",\"Armenia\",\"Australia\",\"Austria\",\"Azerbaijan\",\"Bahamas\",\"Bahrain\",\"Bangladesh\",\"Barbados\",\"Belarus\",\"Belgium\",\"Belize\",\"Benin\",\"Bhutan\",\"Bolivia\",\"Bosnia and Herzegovina\",\"Botswana\",\"Brazil\",\"Brunei\",\"Bulgaria\",\"Burkina Faso\",\"Burma\",\"Burundi\",\"Cabo Verde\",\"Cambodia\",\"Cameroon\",\"Canada\",\"Central African Republic\",\"Chad\",\"Chile\",\"China\",\"Colombia\",\"Congo (Brazzaville)\",\"Congo (Kinshasa)\",\"Costa Rica\",\"Cote d'Ivoire\",\"Croatia\",\"Cuba\",\"Cyprus\",\"Czechia\",\"Denmark\",\"Diamond Princess\",\"Djibouti\",\"Dominica\",\"Dominican Republic\",\"Ecuador\",\"Egypt\",\"El Salvador\",\"Equatorial Guinea\",\"Eritrea\",\"Estonia\",\"Eswatini\",\"Ethiopia\",\"Fiji\",\"Finland\",\"France\",\"Gabon\",\"Gambia\",\"Georgia\",\"Germany\",\"Ghana\",\"Greece\",\"Grenada\",\"Guatemala\",\"Guinea\",\"Guinea-Bissau\",\"Guyana\",\"Haiti\",\"Holy See\",\"Honduras\",\"Hungary\",\"Iceland\",\"India\",\"Indonesia\",\"Iran\",\"Iraq\",\"Ireland\",\"Israel\",\"Italy\",\"Jamaica\",\"Japan\",\"Jordan\",\"Kazakhstan\",\"Kenya\",\"Kosovo\",\"Kuwait\",\"Kyrgyzstan\",\"Laos\",\"Latvia\",\"Lebanon\",\"Liberia\",\"Libya\",\"Liechtenstein\",\"Lithuania\",\"Luxembourg\",\"MS Zaandam\",\"Madagascar\",\"Malawi\",\"Malaysia\",\"Maldives\",\"Mali\",\"Malta\",\"Mauritania\",\"Mauritius\",\"Mexico\",\"Moldova\",\"Monaco\",\"Mongolia\",\"Montenegro\",\"Morocco\",\"Mozambique\",\"Namibia\",\"Nepal\",\"Netherlands\",\"New Zealand\",\"Nicaragua\",\"Niger\",\"Nigeria\",\"North Macedonia\",\"Norway\",\"Oman\",\"Pakistan\",\"Panama\",\"Papua New Guinea\",\"Paraguay\",\"Peru\",\"Philippines\",\"Poland\",\"Portugal\",\"Qatar\",\"Romania\",\"Russia\",\"Rwanda\",\"Saint Kitts and Nevis\",\"Saint Lucia\",\"Saint Vincent and the Grenadines\",\"San Marino\",\"Sao Tome and Principe\",\"Saudi Arabia\",\"Senegal\",\"Serbia\",\"Seychelles\",\"Sierra Leone\",\"Singapore\",\"Slovakia\",\"Slovenia\",\"Somalia\",\"South Africa\",\"South Korea\",\"South Sudan\",\"Spain\",\"Sri Lanka\",\"Sudan\",\"Suriname\",\"Sweden\",\"Switzerland\",\"Syria\",\"Taiwan*\",\"Tanzania\",\"Thailand\",\"Timor-Leste\",\"Togo\",\"Trinidad and Tobago\",\"Tunisia\",\"Turkey\",\"US\",\"Uganda\",\"Ukraine\",\"United Arab Emirates\",\"United Kingdom\",\"Uruguay\",\"Uzbekistan\",\"Venezuela\",\"Vietnam\",\"West Bank and Gaza\",\"Western Sahara\",\"Yemen\",\"Zambia\",\"Zimbabwe\"],\"name\":\"\",\"z\":[437,221,1084,500,15,17,1358,773,4585,7709,816,28,363,276,52,1331,17296,8,20,3,244,722,12,16969,42,546,273,18,3,5,57,720,20151,8,9,4641,4182,1980,50,153,506,389,1168,472,501,5457,3710,82,110,14,2151,4354,1233,83,15,33,1100,5,50,15,2263,51725,42,1,164,63167,369,1599,12,75,183,36,23,28,6,314,818,954,5879,2761,29801,667,6286,8871,96877,47,3941,204,713,165,149,798,241,16,570,496,24,15,22,931,2563,7,82,7,2553,6,45,319,4,284,2374,1210,78,12,246,1168,17,13,8,19220,921,6,359,230,596,6071,345,3852,2449,2,101,3680,3749,5117,13342,2164,4307,9357,103,11,13,11,250,4,2577,125,2801,11,7,1444,676,953,10,1821,3246,3,85610,134,11,5,8143,12503,17,308,19,1451,1,46,100,593,39232,420826,53,1790,2708,57520,257,541,78,127,218,4,0,14,8],\"type\":\"choropleth\"}],                        {\"template\":{\"data\":{\"bar\":[{\"error_x\":{\"color\":\"#2a3f5f\"},\"error_y\":{\"color\":\"#2a3f5f\"},\"marker\":{\"line\":{\"color\":\"#E5ECF6\",\"width\":0.5},\"pattern\":{\"fillmode\":\"overlay\",\"size\":10,\"solidity\":0.2}},\"type\":\"bar\"}],\"barpolar\":[{\"marker\":{\"line\":{\"color\":\"#E5ECF6\",\"width\":0.5},\"pattern\":{\"fillmode\":\"overlay\",\"size\":10,\"solidity\":0.2}},\"type\":\"barpolar\"}],\"carpet\":[{\"aaxis\":{\"endlinecolor\":\"#2a3f5f\",\"gridcolor\":\"white\",\"linecolor\":\"white\",\"minorgridcolor\":\"white\",\"startlinecolor\":\"#2a3f5f\"},\"baxis\":{\"endlinecolor\":\"#2a3f5f\",\"gridcolor\":\"white\",\"linecolor\":\"white\",\"minorgridcolor\":\"white\",\"startlinecolor\":\"#2a3f5f\"},\"type\":\"carpet\"}],\"choropleth\":[{\"colorbar\":{\"outlinewidth\":0,\"ticks\":\"\"},\"type\":\"choropleth\"}],\"contour\":[{\"colorbar\":{\"outlinewidth\":0,\"ticks\":\"\"},\"colorscale\":[[0.0,\"#0d0887\"],[0.1111111111111111,\"#46039f\"],[0.2222222222222222,\"#7201a8\"],[0.3333333333333333,\"#9c179e\"],[0.4444444444444444,\"#bd3786\"],[0.5555555555555556,\"#d8576b\"],[0.6666666666666666,\"#ed7953\"],[0.7777777777777778,\"#fb9f3a\"],[0.8888888888888888,\"#fdca26\"],[1.0,\"#f0f921\"]],\"type\":\"contour\"}],\"contourcarpet\":[{\"colorbar\":{\"outlinewidth\":0,\"ticks\":\"\"},\"type\":\"contourcarpet\"}],\"heatmap\":[{\"colorbar\":{\"outlinewidth\":0,\"ticks\":\"\"},\"colorscale\":[[0.0,\"#0d0887\"],[0.1111111111111111,\"#46039f\"],[0.2222222222222222,\"#7201a8\"],[0.3333333333333333,\"#9c179e\"],[0.4444444444444444,\"#bd3786\"],[0.5555555555555556,\"#d8576b\"],[0.6666666666666666,\"#ed7953\"],[0.7777777777777778,\"#fb9f3a\"],[0.8888888888888888,\"#fdca26\"],[1.0,\"#f0f921\"]],\"type\":\"heatmap\"}],\"heatmapgl\":[{\"colorbar\":{\"outlinewidth\":0,\"ticks\":\"\"},\"colorscale\":[[0.0,\"#0d0887\"],[0.1111111111111111,\"#46039f\"],[0.2222222222222222,\"#7201a8\"],[0.3333333333333333,\"#9c179e\"],[0.4444444444444444,\"#bd3786\"],[0.5555555555555556,\"#d8576b\"],[0.6666666666666666,\"#ed7953\"],[0.7777777777777778,\"#fb9f3a\"],[0.8888888888888888,\"#fdca26\"],[1.0,\"#f0f921\"]],\"type\":\"heatmapgl\"}],\"histogram\":[{\"marker\":{\"pattern\":{\"fillmode\":\"overlay\",\"size\":10,\"solidity\":0.2}},\"type\":\"histogram\"}],\"histogram2d\":[{\"colorbar\":{\"outlinewidth\":0,\"ticks\":\"\"},\"colorscale\":[[0.0,\"#0d0887\"],[0.1111111111111111,\"#46039f\"],[0.2222222222222222,\"#7201a8\"],[0.3333333333333333,\"#9c179e\"],[0.4444444444444444,\"#bd3786\"],[0.5555555555555556,\"#d8576b\"],[0.6666666666666666,\"#ed7953\"],[0.7777777777777778,\"#fb9f3a\"],[0.8888888888888888,\"#fdca26\"],[1.0,\"#f0f921\"]],\"type\":\"histogram2d\"}],\"histogram2dcontour\":[{\"colorbar\":{\"outlinewidth\":0,\"ticks\":\"\"},\"colorscale\":[[0.0,\"#0d0887\"],[0.1111111111111111,\"#46039f\"],[0.2222222222222222,\"#7201a8\"],[0.3333333333333333,\"#9c179e\"],[0.4444444444444444,\"#bd3786\"],[0.5555555555555556,\"#d8576b\"],[0.6666666666666666,\"#ed7953\"],[0.7777777777777778,\"#fb9f3a\"],[0.8888888888888888,\"#fdca26\"],[1.0,\"#f0f921\"]],\"type\":\"histogram2dcontour\"}],\"mesh3d\":[{\"colorbar\":{\"outlinewidth\":0,\"ticks\":\"\"},\"type\":\"mesh3d\"}],\"parcoords\":[{\"line\":{\"colorbar\":{\"outlinewidth\":0,\"ticks\":\"\"}},\"type\":\"parcoords\"}],\"pie\":[{\"automargin\":true,\"type\":\"pie\"}],\"scatter\":[{\"marker\":{\"colorbar\":{\"outlinewidth\":0,\"ticks\":\"\"}},\"type\":\"scatter\"}],\"scatter3d\":[{\"line\":{\"colorbar\":{\"outlinewidth\":0,\"ticks\":\"\"}},\"marker\":{\"colorbar\":{\"outlinewidth\":0,\"ticks\":\"\"}},\"type\":\"scatter3d\"}],\"scattercarpet\":[{\"marker\":{\"colorbar\":{\"outlinewidth\":0,\"ticks\":\"\"}},\"type\":\"scattercarpet\"}],\"scattergeo\":[{\"marker\":{\"colorbar\":{\"outlinewidth\":0,\"ticks\":\"\"}},\"type\":\"scattergeo\"}],\"scattergl\":[{\"marker\":{\"colorbar\":{\"outlinewidth\":0,\"ticks\":\"\"}},\"type\":\"scattergl\"}],\"scattermapbox\":[{\"marker\":{\"colorbar\":{\"outlinewidth\":0,\"ticks\":\"\"}},\"type\":\"scattermapbox\"}],\"scatterpolar\":[{\"marker\":{\"colorbar\":{\"outlinewidth\":0,\"ticks\":\"\"}},\"type\":\"scatterpolar\"}],\"scatterpolargl\":[{\"marker\":{\"colorbar\":{\"outlinewidth\":0,\"ticks\":\"\"}},\"type\":\"scatterpolargl\"}],\"scatterternary\":[{\"marker\":{\"colorbar\":{\"outlinewidth\":0,\"ticks\":\"\"}},\"type\":\"scatterternary\"}],\"surface\":[{\"colorbar\":{\"outlinewidth\":0,\"ticks\":\"\"},\"colorscale\":[[0.0,\"#0d0887\"],[0.1111111111111111,\"#46039f\"],[0.2222222222222222,\"#7201a8\"],[0.3333333333333333,\"#9c179e\"],[0.4444444444444444,\"#bd3786\"],[0.5555555555555556,\"#d8576b\"],[0.6666666666666666,\"#ed7953\"],[0.7777777777777778,\"#fb9f3a\"],[0.8888888888888888,\"#fdca26\"],[1.0,\"#f0f921\"]],\"type\":\"surface\"}],\"table\":[{\"cells\":{\"fill\":{\"color\":\"#EBF0F8\"},\"line\":{\"color\":\"white\"}},\"header\":{\"fill\":{\"color\":\"#C8D4E3\"},\"line\":{\"color\":\"white\"}},\"type\":\"table\"}]},\"layout\":{\"annotationdefaults\":{\"arrowcolor\":\"#2a3f5f\",\"arrowhead\":0,\"arrowwidth\":1},\"autotypenumbers\":\"strict\",\"coloraxis\":{\"colorbar\":{\"outlinewidth\":0,\"ticks\":\"\"}},\"colorscale\":{\"diverging\":[[0,\"#8e0152\"],[0.1,\"#c51b7d\"],[0.2,\"#de77ae\"],[0.3,\"#f1b6da\"],[0.4,\"#fde0ef\"],[0.5,\"#f7f7f7\"],[0.6,\"#e6f5d0\"],[0.7,\"#b8e186\"],[0.8,\"#7fbc41\"],[0.9,\"#4d9221\"],[1,\"#276419\"]],\"sequential\":[[0.0,\"#0d0887\"],[0.1111111111111111,\"#46039f\"],[0.2222222222222222,\"#7201a8\"],[0.3333333333333333,\"#9c179e\"],[0.4444444444444444,\"#bd3786\"],[0.5555555555555556,\"#d8576b\"],[0.6666666666666666,\"#ed7953\"],[0.7777777777777778,\"#fb9f3a\"],[0.8888888888888888,\"#fdca26\"],[1.0,\"#f0f921\"]],\"sequentialminus\":[[0.0,\"#0d0887\"],[0.1111111111111111,\"#46039f\"],[0.2222222222222222,\"#7201a8\"],[0.3333333333333333,\"#9c179e\"],[0.4444444444444444,\"#bd3786\"],[0.5555555555555556,\"#d8576b\"],[0.6666666666666666,\"#ed7953\"],[0.7777777777777778,\"#fb9f3a\"],[0.8888888888888888,\"#fdca26\"],[1.0,\"#f0f921\"]]},\"colorway\":[\"#636efa\",\"#EF553B\",\"#00cc96\",\"#ab63fa\",\"#FFA15A\",\"#19d3f3\",\"#FF6692\",\"#B6E880\",\"#FF97FF\",\"#FECB52\"],\"font\":{\"color\":\"#2a3f5f\"},\"geo\":{\"bgcolor\":\"white\",\"lakecolor\":\"white\",\"landcolor\":\"#E5ECF6\",\"showlakes\":true,\"showland\":true,\"subunitcolor\":\"white\"},\"hoverlabel\":{\"align\":\"left\"},\"hovermode\":\"closest\",\"mapbox\":{\"style\":\"light\"},\"paper_bgcolor\":\"white\",\"plot_bgcolor\":\"#E5ECF6\",\"polar\":{\"angularaxis\":{\"gridcolor\":\"white\",\"linecolor\":\"white\",\"ticks\":\"\"},\"bgcolor\":\"#E5ECF6\",\"radialaxis\":{\"gridcolor\":\"white\",\"linecolor\":\"white\",\"ticks\":\"\"}},\"scene\":{\"xaxis\":{\"backgroundcolor\":\"#E5ECF6\",\"gridcolor\":\"white\",\"gridwidth\":2,\"linecolor\":\"white\",\"showbackground\":true,\"ticks\":\"\",\"zerolinecolor\":\"white\"},\"yaxis\":{\"backgroundcolor\":\"#E5ECF6\",\"gridcolor\":\"white\",\"gridwidth\":2,\"linecolor\":\"white\",\"showbackground\":true,\"ticks\":\"\",\"zerolinecolor\":\"white\"},\"zaxis\":{\"backgroundcolor\":\"#E5ECF6\",\"gridcolor\":\"white\",\"gridwidth\":2,\"linecolor\":\"white\",\"showbackground\":true,\"ticks\":\"\",\"zerolinecolor\":\"white\"}},\"shapedefaults\":{\"line\":{\"color\":\"#2a3f5f\"}},\"ternary\":{\"aaxis\":{\"gridcolor\":\"white\",\"linecolor\":\"white\",\"ticks\":\"\"},\"baxis\":{\"gridcolor\":\"white\",\"linecolor\":\"white\",\"ticks\":\"\"},\"bgcolor\":\"#E5ECF6\",\"caxis\":{\"gridcolor\":\"white\",\"linecolor\":\"white\",\"ticks\":\"\"}},\"title\":{\"x\":0.05},\"xaxis\":{\"automargin\":true,\"gridcolor\":\"white\",\"linecolor\":\"white\",\"ticks\":\"\",\"title\":{\"standoff\":15},\"zerolinecolor\":\"white\",\"zerolinewidth\":2},\"yaxis\":{\"automargin\":true,\"gridcolor\":\"white\",\"linecolor\":\"white\",\"ticks\":\"\",\"title\":{\"standoff\":15},\"zerolinecolor\":\"white\",\"zerolinewidth\":2}}},\"geo\":{\"domain\":{\"x\":[0.0,1.0],\"y\":[0.0,1.0]},\"center\":{}},\"coloraxis\":{\"colorbar\":{\"title\":{\"text\":\"active\"}},\"colorscale\":[[0.0,\"rgb(75, 41, 145)\"],[0.16666666666666666,\"rgb(135, 44, 162)\"],[0.3333333333333333,\"rgb(192, 54, 157)\"],[0.5,\"rgb(234, 79, 136)\"],[0.6666666666666666,\"rgb(250, 120, 118)\"],[0.8333333333333334,\"rgb(246, 169, 122)\"],[1.0,\"rgb(237, 217, 163)\"]],\"cmin\":1,\"cmax\":1000},\"legend\":{\"tracegroupgap\":0},\"title\":{\"text\":\"Country With Active Cases\"}},                        {\"responsive\": true}                    ).then(function(){\n",
              "                            \n",
              "var gd = document.getElementById('41e89af2-fdf4-4f98-af09-1cdd26f84c16');\n",
              "var x = new MutationObserver(function (mutations, observer) {{\n",
              "        var display = window.getComputedStyle(gd).display;\n",
              "        if (!display || display === 'none') {{\n",
              "            console.log([gd, 'removed!']);\n",
              "            Plotly.purge(gd);\n",
              "            observer.disconnect();\n",
              "        }}\n",
              "}});\n",
              "\n",
              "// Listen for the removal of the full notebook cells\n",
              "var notebookContainer = gd.closest('#notebook-container');\n",
              "if (notebookContainer) {{\n",
              "    x.observe(notebookContainer, {childList: true});\n",
              "}}\n",
              "\n",
              "// Listen for the clearing of the current output cell\n",
              "var outputEl = gd.closest('.output');\n",
              "if (outputEl) {{\n",
              "    x.observe(outputEl, {childList: true});\n",
              "}}\n",
              "\n",
              "                        })                };                            </script>        </div>\n",
              "</body>\n",
              "</html>"
            ]
          },
          "metadata": {}
        }
      ]
    },
    {
      "cell_type": "code",
      "source": [
        "### Plotting Worldwide Confirmed Cases vs Date"
      ],
      "metadata": {
        "id": "ERzhmHl4iHIN"
      },
      "execution_count": null,
      "outputs": []
    },
    {
      "cell_type": "code",
      "source": [
        "total_confirmed_cases = df.groupby('Date')['Confirmed','Date'].sum().reset_index()\n",
        "total_confirmed_cases.head()"
      ],
      "metadata": {
        "colab": {
          "base_uri": "https://localhost:8080/",
          "height": 276
        },
        "id": "wiYxo-bUiKoK",
        "outputId": "d892db05-04b9-47ea-dd84-5abe27869e24"
      },
      "execution_count": null,
      "outputs": [
        {
          "output_type": "stream",
          "name": "stderr",
          "text": [
            "/usr/local/lib/python3.7/dist-packages/ipykernel_launcher.py:1: FutureWarning:\n",
            "\n",
            "Indexing with multiple keys (implicitly converted to a tuple of keys) will be deprecated, use a list instead.\n",
            "\n"
          ]
        },
        {
          "output_type": "execute_result",
          "data": {
            "text/plain": [
              "      Date  Confirmed\n",
              "0  1/22/20        555\n",
              "1  1/23/20        654\n",
              "2  1/24/20        941\n",
              "3  1/25/20       1434\n",
              "4  1/26/20       2118"
            ],
            "text/html": [
              "\n",
              "  <div id=\"df-41cbbb1a-7dac-4c3e-9b9c-0d3035087e40\">\n",
              "    <div class=\"colab-df-container\">\n",
              "      <div>\n",
              "<style scoped>\n",
              "    .dataframe tbody tr th:only-of-type {\n",
              "        vertical-align: middle;\n",
              "    }\n",
              "\n",
              "    .dataframe tbody tr th {\n",
              "        vertical-align: top;\n",
              "    }\n",
              "\n",
              "    .dataframe thead th {\n",
              "        text-align: right;\n",
              "    }\n",
              "</style>\n",
              "<table border=\"1\" class=\"dataframe\">\n",
              "  <thead>\n",
              "    <tr style=\"text-align: right;\">\n",
              "      <th></th>\n",
              "      <th>Date</th>\n",
              "      <th>Confirmed</th>\n",
              "    </tr>\n",
              "  </thead>\n",
              "  <tbody>\n",
              "    <tr>\n",
              "      <th>0</th>\n",
              "      <td>1/22/20</td>\n",
              "      <td>555</td>\n",
              "    </tr>\n",
              "    <tr>\n",
              "      <th>1</th>\n",
              "      <td>1/23/20</td>\n",
              "      <td>654</td>\n",
              "    </tr>\n",
              "    <tr>\n",
              "      <th>2</th>\n",
              "      <td>1/24/20</td>\n",
              "      <td>941</td>\n",
              "    </tr>\n",
              "    <tr>\n",
              "      <th>3</th>\n",
              "      <td>1/25/20</td>\n",
              "      <td>1434</td>\n",
              "    </tr>\n",
              "    <tr>\n",
              "      <th>4</th>\n",
              "      <td>1/26/20</td>\n",
              "      <td>2118</td>\n",
              "    </tr>\n",
              "  </tbody>\n",
              "</table>\n",
              "</div>\n",
              "      <button class=\"colab-df-convert\" onclick=\"convertToInteractive('df-41cbbb1a-7dac-4c3e-9b9c-0d3035087e40')\"\n",
              "              title=\"Convert this dataframe to an interactive table.\"\n",
              "              style=\"display:none;\">\n",
              "        \n",
              "  <svg xmlns=\"http://www.w3.org/2000/svg\" height=\"24px\"viewBox=\"0 0 24 24\"\n",
              "       width=\"24px\">\n",
              "    <path d=\"M0 0h24v24H0V0z\" fill=\"none\"/>\n",
              "    <path d=\"M18.56 5.44l.94 2.06.94-2.06 2.06-.94-2.06-.94-.94-2.06-.94 2.06-2.06.94zm-11 1L8.5 8.5l.94-2.06 2.06-.94-2.06-.94L8.5 2.5l-.94 2.06-2.06.94zm10 10l.94 2.06.94-2.06 2.06-.94-2.06-.94-.94-2.06-.94 2.06-2.06.94z\"/><path d=\"M17.41 7.96l-1.37-1.37c-.4-.4-.92-.59-1.43-.59-.52 0-1.04.2-1.43.59L10.3 9.45l-7.72 7.72c-.78.78-.78 2.05 0 2.83L4 21.41c.39.39.9.59 1.41.59.51 0 1.02-.2 1.41-.59l7.78-7.78 2.81-2.81c.8-.78.8-2.07 0-2.86zM5.41 20L4 18.59l7.72-7.72 1.47 1.35L5.41 20z\"/>\n",
              "  </svg>\n",
              "      </button>\n",
              "      \n",
              "  <style>\n",
              "    .colab-df-container {\n",
              "      display:flex;\n",
              "      flex-wrap:wrap;\n",
              "      gap: 12px;\n",
              "    }\n",
              "\n",
              "    .colab-df-convert {\n",
              "      background-color: #E8F0FE;\n",
              "      border: none;\n",
              "      border-radius: 50%;\n",
              "      cursor: pointer;\n",
              "      display: none;\n",
              "      fill: #1967D2;\n",
              "      height: 32px;\n",
              "      padding: 0 0 0 0;\n",
              "      width: 32px;\n",
              "    }\n",
              "\n",
              "    .colab-df-convert:hover {\n",
              "      background-color: #E2EBFA;\n",
              "      box-shadow: 0px 1px 2px rgba(60, 64, 67, 0.3), 0px 1px 3px 1px rgba(60, 64, 67, 0.15);\n",
              "      fill: #174EA6;\n",
              "    }\n",
              "\n",
              "    [theme=dark] .colab-df-convert {\n",
              "      background-color: #3B4455;\n",
              "      fill: #D2E3FC;\n",
              "    }\n",
              "\n",
              "    [theme=dark] .colab-df-convert:hover {\n",
              "      background-color: #434B5C;\n",
              "      box-shadow: 0px 1px 3px 1px rgba(0, 0, 0, 0.15);\n",
              "      filter: drop-shadow(0px 1px 2px rgba(0, 0, 0, 0.3));\n",
              "      fill: #FFFFFF;\n",
              "    }\n",
              "  </style>\n",
              "\n",
              "      <script>\n",
              "        const buttonEl =\n",
              "          document.querySelector('#df-41cbbb1a-7dac-4c3e-9b9c-0d3035087e40 button.colab-df-convert');\n",
              "        buttonEl.style.display =\n",
              "          google.colab.kernel.accessAllowed ? 'block' : 'none';\n",
              "\n",
              "        async function convertToInteractive(key) {\n",
              "          const element = document.querySelector('#df-41cbbb1a-7dac-4c3e-9b9c-0d3035087e40');\n",
              "          const dataTable =\n",
              "            await google.colab.kernel.invokeFunction('convertToInteractive',\n",
              "                                                     [key], {});\n",
              "          if (!dataTable) return;\n",
              "\n",
              "          const docLinkHtml = 'Like what you see? Visit the ' +\n",
              "            '<a target=\"_blank\" href=https://colab.research.google.com/notebooks/data_table.ipynb>data table notebook</a>'\n",
              "            + ' to learn more about interactive tables.';\n",
              "          element.innerHTML = '';\n",
              "          dataTable['output_type'] = 'display_data';\n",
              "          await google.colab.output.renderOutput(dataTable, element);\n",
              "          const docLink = document.createElement('div');\n",
              "          docLink.innerHTML = docLinkHtml;\n",
              "          element.appendChild(docLink);\n",
              "        }\n",
              "      </script>\n",
              "    </div>\n",
              "  </div>\n",
              "  "
            ]
          },
          "metadata": {},
          "execution_count": 55
        }
      ]
    },
    {
      "cell_type": "code",
      "source": [],
      "metadata": {
        "id": "W7o_sKEgLPIP"
      },
      "execution_count": null,
      "outputs": []
    },
    {
      "cell_type": "code",
      "execution_count": null,
      "metadata": {
        "colab": {
          "base_uri": "https://localhost:8080/",
          "height": 481
        },
        "id": "xti_9U6jXRQ_",
        "outputId": "9638ad89-256d-433d-c774-70030455273f"
      },
      "outputs": [
        {
          "output_type": "display_data",
          "data": {
            "text/plain": [
              "<Figure size 1080x576 with 1 Axes>"
            ],
            "image/png": "[encoded data removed]"
          },
          "metadata": {
            "needs_background": "light"
          }
        }
      ],
      "source": [
        "plt.figure(figsize=(15,8))\n",
        "plt.xticks(rotation=90,fontsize=10)\n",
        "# sns.pointplot(total_confirmed_cases['Date'].dt.date,total_confirmed_cases['Confirmed'],color='red')\n",
        "plt.show()"
      ]
    },
    {
      "cell_type": "code",
      "source": [
        "### Top 20 Countries having most active cases"
      ],
      "metadata": {
        "id": "mr576JYpiYlh"
      },
      "execution_count": null,
      "outputs": []
    },
    {
      "cell_type": "code",
      "source": [
        "df.head()"
      ],
      "metadata": {
        "colab": {
          "base_uri": "https://localhost:8080/",
          "height": 206
        },
        "id": "u8LTwsyRRoDa",
        "outputId": "4f100be6-d892-480c-ce82-627f62850f4d"
      },
      "execution_count": null,
      "outputs": [
        {
          "output_type": "execute_result",
          "data": {
            "text/plain": [
              "  state      country      Lat     Long     Date  Confirmed  Deaths  Recovered  \\\n",
              "0   NaN  Afghanistan  33.0000  65.0000  1/22/20          0       0          0   \n",
              "1   NaN      Albania  41.1533  20.1683  1/22/20          0       0          0   \n",
              "2   NaN      Algeria  28.0339   1.6596  1/22/20          0       0          0   \n",
              "3   NaN      Andorra  42.5063   1.5218  1/22/20          0       0          0   \n",
              "4   NaN       Angola -11.2027  17.8739  1/22/20          0       0          0   \n",
              "\n",
              "   active  \n",
              "0       0  \n",
              "1       0  \n",
              "2       0  \n",
              "3       0  \n",
              "4       0  "
            ],
            "text/html": [
              "\n",
              "  <div id=\"df-95352e7e-6650-4b4d-a96c-f30649614085\">\n",
              "    <div class=\"colab-df-container\">\n",
              "      <div>\n",
              "<style scoped>\n",
              "    .dataframe tbody tr th:only-of-type {\n",
              "        vertical-align: middle;\n",
              "    }\n",
              "\n",
              "    .dataframe tbody tr th {\n",
              "        vertical-align: top;\n",
              "    }\n",
              "\n",
              "    .dataframe thead th {\n",
              "        text-align: right;\n",
              "    }\n",
              "</style>\n",
              "<table border=\"1\" class=\"dataframe\">\n",
              "  <thead>\n",
              "    <tr style=\"text-align: right;\">\n",
              "      <th></th>\n",
              "      <th>state</th>\n",
              "      <th>country</th>\n",
              "      <th>Lat</th>\n",
              "      <th>Long</th>\n",
              "      <th>Date</th>\n",
              "      <th>Confirmed</th>\n",
              "      <th>Deaths</th>\n",
              "      <th>Recovered</th>\n",
              "      <th>active</th>\n",
              "    </tr>\n",
              "  </thead>\n",
              "  <tbody>\n",
              "    <tr>\n",
              "      <th>0</th>\n",
              "      <td>NaN</td>\n",
              "      <td>Afghanistan</td>\n",
              "      <td>33.0000</td>\n",
              "      <td>65.0000</td>\n",
              "      <td>1/22/20</td>\n",
              "      <td>0</td>\n",
              "      <td>0</td>\n",
              "      <td>0</td>\n",
              "      <td>0</td>\n",
              "    </tr>\n",
              "    <tr>\n",
              "      <th>1</th>\n",
              "      <td>NaN</td>\n",
              "      <td>Albania</td>\n",
              "      <td>41.1533</td>\n",
              "      <td>20.1683</td>\n",
              "      <td>1/22/20</td>\n",
              "      <td>0</td>\n",
              "      <td>0</td>\n",
              "      <td>0</td>\n",
              "      <td>0</td>\n",
              "    </tr>\n",
              "    <tr>\n",
              "      <th>2</th>\n",
              "      <td>NaN</td>\n",
              "      <td>Algeria</td>\n",
              "      <td>28.0339</td>\n",
              "      <td>1.6596</td>\n",
              "      <td>1/22/20</td>\n",
              "      <td>0</td>\n",
              "      <td>0</td>\n",
              "      <td>0</td>\n",
              "      <td>0</td>\n",
              "    </tr>\n",
              "    <tr>\n",
              "      <th>3</th>\n",
              "      <td>NaN</td>\n",
              "      <td>Andorra</td>\n",
              "      <td>42.5063</td>\n",
              "      <td>1.5218</td>\n",
              "      <td>1/22/20</td>\n",
              "      <td>0</td>\n",
              "      <td>0</td>\n",
              "      <td>0</td>\n",
              "      <td>0</td>\n",
              "    </tr>\n",
              "    <tr>\n",
              "      <th>4</th>\n",
              "      <td>NaN</td>\n",
              "      <td>Angola</td>\n",
              "      <td>-11.2027</td>\n",
              "      <td>17.8739</td>\n",
              "      <td>1/22/20</td>\n",
              "      <td>0</td>\n",
              "      <td>0</td>\n",
              "      <td>0</td>\n",
              "      <td>0</td>\n",
              "    </tr>\n",
              "  </tbody>\n",
              "</table>\n",
              "</div>\n",
              "      <button class=\"colab-df-convert\" onclick=\"convertToInteractive('df-95352e7e-6650-4b4d-a96c-f30649614085')\"\n",
              "              title=\"Convert this dataframe to an interactive table.\"\n",
              "              style=\"display:none;\">\n",
              "        \n",
              "  <svg xmlns=\"http://www.w3.org/2000/svg\" height=\"24px\"viewBox=\"0 0 24 24\"\n",
              "       width=\"24px\">\n",
              "    <path d=\"M0 0h24v24H0V0z\" fill=\"none\"/>\n",
              "    <path d=\"M18.56 5.44l.94 2.06.94-2.06 2.06-.94-2.06-.94-.94-2.06-.94 2.06-2.06.94zm-11 1L8.5 8.5l.94-2.06 2.06-.94-2.06-.94L8.5 2.5l-.94 2.06-2.06.94zm10 10l.94 2.06.94-2.06 2.06-.94-2.06-.94-.94-2.06-.94 2.06-2.06.94z\"/><path d=\"M17.41 7.96l-1.37-1.37c-.4-.4-.92-.59-1.43-.59-.52 0-1.04.2-1.43.59L10.3 9.45l-7.72 7.72c-.78.78-.78 2.05 0 2.83L4 21.41c.39.39.9.59 1.41.59.51 0 1.02-.2 1.41-.59l7.78-7.78 2.81-2.81c.8-.78.8-2.07 0-2.86zM5.41 20L4 18.59l7.72-7.72 1.47 1.35L5.41 20z\"/>\n",
              "  </svg>\n",
              "      </button>\n",
              "      \n",
              "  <style>\n",
              "    .colab-df-container {\n",
              "      display:flex;\n",
              "      flex-wrap:wrap;\n",
              "      gap: 12px;\n",
              "    }\n",
              "\n",
              "    .colab-df-convert {\n",
              "      background-color: #E8F0FE;\n",
              "      border: none;\n",
              "      border-radius: 50%;\n",
              "      cursor: pointer;\n",
              "      display: none;\n",
              "      fill: #1967D2;\n",
              "      height: 32px;\n",
              "      padding: 0 0 0 0;\n",
              "      width: 32px;\n",
              "    }\n",
              "\n",
              "    .colab-df-convert:hover {\n",
              "      background-color: #E2EBFA;\n",
              "      box-shadow: 0px 1px 2px rgba(60, 64, 67, 0.3), 0px 1px 3px 1px rgba(60, 64, 67, 0.15);\n",
              "      fill: #174EA6;\n",
              "    }\n",
              "\n",
              "    [theme=dark] .colab-df-convert {\n",
              "      background-color: #3B4455;\n",
              "      fill: #D2E3FC;\n",
              "    }\n",
              "\n",
              "    [theme=dark] .colab-df-convert:hover {\n",
              "      background-color: #434B5C;\n",
              "      box-shadow: 0px 1px 3px 1px rgba(0, 0, 0, 0.15);\n",
              "      filter: drop-shadow(0px 1px 2px rgba(0, 0, 0, 0.3));\n",
              "      fill: #FFFFFF;\n",
              "    }\n",
              "  </style>\n",
              "\n",
              "      <script>\n",
              "        const buttonEl =\n",
              "          document.querySelector('#df-95352e7e-6650-4b4d-a96c-f30649614085 button.colab-df-convert');\n",
              "        buttonEl.style.display =\n",
              "          google.colab.kernel.accessAllowed ? 'block' : 'none';\n",
              "\n",
              "        async function convertToInteractive(key) {\n",
              "          const element = document.querySelector('#df-95352e7e-6650-4b4d-a96c-f30649614085');\n",
              "          const dataTable =\n",
              "            await google.colab.kernel.invokeFunction('convertToInteractive',\n",
              "                                                     [key], {});\n",
              "          if (!dataTable) return;\n",
              "\n",
              "          const docLinkHtml = 'Like what you see? Visit the ' +\n",
              "            '<a target=\"_blank\" href=https://colab.research.google.com/notebooks/data_table.ipynb>data table notebook</a>'\n",
              "            + ' to learn more about interactive tables.';\n",
              "          element.innerHTML = '';\n",
              "          dataTable['output_type'] = 'display_data';\n",
              "          await google.colab.output.renderOutput(dataTable, element);\n",
              "          const docLink = document.createElement('div');\n",
              "          docLink.innerHTML = docLinkHtml;\n",
              "          element.appendChild(docLink);\n",
              "        }\n",
              "      </script>\n",
              "    </div>\n",
              "  </div>\n",
              "  "
            ]
          },
          "metadata": {},
          "execution_count": 58
        }
      ]
    },
    {
      "cell_type": "code",
      "source": [
        "top_actives = top.groupby(\"country\")['active'].sum().sort_values(ascending=False).reset_index().head(20)"
      ],
      "metadata": {
        "id": "wERrrurpR45t"
      },
      "execution_count": null,
      "outputs": []
    },
    {
      "cell_type": "code",
      "source": [
        "top_actives"
      ],
      "metadata": {
        "colab": {
          "base_uri": "https://localhost:8080/",
          "height": 676
        },
        "id": "cGAMir-1R7rz",
        "outputId": "8031ccee-9c96-4e38-b5a1-cafe3dfcfdab"
      },
      "execution_count": null,
      "outputs": [
        {
          "output_type": "execute_result",
          "data": {
            "text/plain": [
              "           country  active\n",
              "0               US  420826\n",
              "1            Italy   96877\n",
              "2            Spain   85610\n",
              "3          Germany   63167\n",
              "4   United Kingdom   57520\n",
              "5           France   51725\n",
              "6           Turkey   39232\n",
              "7             Iran   29801\n",
              "8           Canada   20151\n",
              "9      Netherlands   19220\n",
              "10         Belgium   17296\n",
              "11          Brazil   16969\n",
              "12        Portugal   13342\n",
              "13     Switzerland   12503\n",
              "14          Russia    9357\n",
              "15          Israel    8871\n",
              "16          Sweden    8143\n",
              "17         Austria    7709\n",
              "18         Ireland    6286\n",
              "19          Norway    6071"
            ],
            "text/html": [
              "\n",
              "  <div id=\"df-c90f3e21-0da9-4453-96fe-9c31857e5bcb\">\n",
              "    <div class=\"colab-df-container\">\n",
              "      <div>\n",
              "<style scoped>\n",
              "    .dataframe tbody tr th:only-of-type {\n",
              "        vertical-align: middle;\n",
              "    }\n",
              "\n",
              "    .dataframe tbody tr th {\n",
              "        vertical-align: top;\n",
              "    }\n",
              "\n",
              "    .dataframe thead th {\n",
              "        text-align: right;\n",
              "    }\n",
              "</style>\n",
              "<table border=\"1\" class=\"dataframe\">\n",
              "  <thead>\n",
              "    <tr style=\"text-align: right;\">\n",
              "      <th></th>\n",
              "      <th>country</th>\n",
              "      <th>active</th>\n",
              "    </tr>\n",
              "  </thead>\n",
              "  <tbody>\n",
              "    <tr>\n",
              "      <th>0</th>\n",
              "      <td>US</td>\n",
              "      <td>420826</td>\n",
              "    </tr>\n",
              "    <tr>\n",
              "      <th>1</th>\n",
              "      <td>Italy</td>\n",
              "      <td>96877</td>\n",
              "    </tr>\n",
              "    <tr>\n",
              "      <th>2</th>\n",
              "      <td>Spain</td>\n",
              "      <td>85610</td>\n",
              "    </tr>\n",
              "    <tr>\n",
              "      <th>3</th>\n",
              "      <td>Germany</td>\n",
              "      <td>63167</td>\n",
              "    </tr>\n",
              "    <tr>\n",
              "      <th>4</th>\n",
              "      <td>United Kingdom</td>\n",
              "      <td>57520</td>\n",
              "    </tr>\n",
              "    <tr>\n",
              "      <th>5</th>\n",
              "      <td>France</td>\n",
              "      <td>51725</td>\n",
              "    </tr>\n",
              "    <tr>\n",
              "      <th>6</th>\n",
              "      <td>Turkey</td>\n",
              "      <td>39232</td>\n",
              "    </tr>\n",
              "    <tr>\n",
              "      <th>7</th>\n",
              "      <td>Iran</td>\n",
              "      <td>29801</td>\n",
              "    </tr>\n",
              "    <tr>\n",
              "      <th>8</th>\n",
              "      <td>Canada</td>\n",
              "      <td>20151</td>\n",
              "    </tr>\n",
              "    <tr>\n",
              "      <th>9</th>\n",
              "      <td>Netherlands</td>\n",
              "      <td>19220</td>\n",
              "    </tr>\n",
              "    <tr>\n",
              "      <th>10</th>\n",
              "      <td>Belgium</td>\n",
              "      <td>17296</td>\n",
              "    </tr>\n",
              "    <tr>\n",
              "      <th>11</th>\n",
              "      <td>Brazil</td>\n",
              "      <td>16969</td>\n",
              "    </tr>\n",
              "    <tr>\n",
              "      <th>12</th>\n",
              "      <td>Portugal</td>\n",
              "      <td>13342</td>\n",
              "    </tr>\n",
              "    <tr>\n",
              "      <th>13</th>\n",
              "      <td>Switzerland</td>\n",
              "      <td>12503</td>\n",
              "    </tr>\n",
              "    <tr>\n",
              "      <th>14</th>\n",
              "      <td>Russia</td>\n",
              "      <td>9357</td>\n",
              "    </tr>\n",
              "    <tr>\n",
              "      <th>15</th>\n",
              "      <td>Israel</td>\n",
              "      <td>8871</td>\n",
              "    </tr>\n",
              "    <tr>\n",
              "      <th>16</th>\n",
              "      <td>Sweden</td>\n",
              "      <td>8143</td>\n",
              "    </tr>\n",
              "    <tr>\n",
              "      <th>17</th>\n",
              "      <td>Austria</td>\n",
              "      <td>7709</td>\n",
              "    </tr>\n",
              "    <tr>\n",
              "      <th>18</th>\n",
              "      <td>Ireland</td>\n",
              "      <td>6286</td>\n",
              "    </tr>\n",
              "    <tr>\n",
              "      <th>19</th>\n",
              "      <td>Norway</td>\n",
              "      <td>6071</td>\n",
              "    </tr>\n",
              "  </tbody>\n",
              "</table>\n",
              "</div>\n",
              "      <button class=\"colab-df-convert\" onclick=\"convertToInteractive('df-c90f3e21-0da9-4453-96fe-9c31857e5bcb')\"\n",
              "              title=\"Convert this dataframe to an interactive table.\"\n",
              "              style=\"display:none;\">\n",
              "        \n",
              "  <svg xmlns=\"http://www.w3.org/2000/svg\" height=\"24px\"viewBox=\"0 0 24 24\"\n",
              "       width=\"24px\">\n",
              "    <path d=\"M0 0h24v24H0V0z\" fill=\"none\"/>\n",
              "    <path d=\"M18.56 5.44l.94 2.06.94-2.06 2.06-.94-2.06-.94-.94-2.06-.94 2.06-2.06.94zm-11 1L8.5 8.5l.94-2.06 2.06-.94-2.06-.94L8.5 2.5l-.94 2.06-2.06.94zm10 10l.94 2.06.94-2.06 2.06-.94-2.06-.94-.94-2.06-.94 2.06-2.06.94z\"/><path d=\"M17.41 7.96l-1.37-1.37c-.4-.4-.92-.59-1.43-.59-.52 0-1.04.2-1.43.59L10.3 9.45l-7.72 7.72c-.78.78-.78 2.05 0 2.83L4 21.41c.39.39.9.59 1.41.59.51 0 1.02-.2 1.41-.59l7.78-7.78 2.81-2.81c.8-.78.8-2.07 0-2.86zM5.41 20L4 18.59l7.72-7.72 1.47 1.35L5.41 20z\"/>\n",
              "  </svg>\n",
              "      </button>\n",
              "      \n",
              "  <style>\n",
              "    .colab-df-container {\n",
              "      display:flex;\n",
              "      flex-wrap:wrap;\n",
              "      gap: 12px;\n",
              "    }\n",
              "\n",
              "    .colab-df-convert {\n",
              "      background-color: #E8F0FE;\n",
              "      border: none;\n",
              "      border-radius: 50%;\n",
              "      cursor: pointer;\n",
              "      display: none;\n",
              "      fill: #1967D2;\n",
              "      height: 32px;\n",
              "      padding: 0 0 0 0;\n",
              "      width: 32px;\n",
              "    }\n",
              "\n",
              "    .colab-df-convert:hover {\n",
              "      background-color: #E2EBFA;\n",
              "      box-shadow: 0px 1px 2px rgba(60, 64, 67, 0.3), 0px 1px 3px 1px rgba(60, 64, 67, 0.15);\n",
              "      fill: #174EA6;\n",
              "    }\n",
              "\n",
              "    [theme=dark] .colab-df-convert {\n",
              "      background-color: #3B4455;\n",
              "      fill: #D2E3FC;\n",
              "    }\n",
              "\n",
              "    [theme=dark] .colab-df-convert:hover {\n",
              "      background-color: #434B5C;\n",
              "      box-shadow: 0px 1px 3px 1px rgba(0, 0, 0, 0.15);\n",
              "      filter: drop-shadow(0px 1px 2px rgba(0, 0, 0, 0.3));\n",
              "      fill: #FFFFFF;\n",
              "    }\n",
              "  </style>\n",
              "\n",
              "      <script>\n",
              "        const buttonEl =\n",
              "          document.querySelector('#df-c90f3e21-0da9-4453-96fe-9c31857e5bcb button.colab-df-convert');\n",
              "        buttonEl.style.display =\n",
              "          google.colab.kernel.accessAllowed ? 'block' : 'none';\n",
              "\n",
              "        async function convertToInteractive(key) {\n",
              "          const element = document.querySelector('#df-c90f3e21-0da9-4453-96fe-9c31857e5bcb');\n",
              "          const dataTable =\n",
              "            await google.colab.kernel.invokeFunction('convertToInteractive',\n",
              "                                                     [key], {});\n",
              "          if (!dataTable) return;\n",
              "\n",
              "          const docLinkHtml = 'Like what you see? Visit the ' +\n",
              "            '<a target=\"_blank\" href=https://colab.research.google.com/notebooks/data_table.ipynb>data table notebook</a>'\n",
              "            + ' to learn more about interactive tables.';\n",
              "          element.innerHTML = '';\n",
              "          dataTable['output_type'] = 'display_data';\n",
              "          await google.colab.output.renderOutput(dataTable, element);\n",
              "          const docLink = document.createElement('div');\n",
              "          docLink.innerHTML = docLinkHtml;\n",
              "          element.appendChild(docLink);\n",
              "        }\n",
              "      </script>\n",
              "    </div>\n",
              "  </div>\n",
              "  "
            ]
          },
          "metadata": {},
          "execution_count": 60
        }
      ]
    },
    {
      "cell_type": "code",
      "source": [
        "plt.figure(figsize=(15,10))\n",
        "sns.barplot(top_actives['active'],top_actives['country'])\n",
        "plt.show()"
      ],
      "metadata": {
        "colab": {
          "base_uri": "https://localhost:8080/",
          "height": 637
        },
        "id": "Ineh-gjUSEJR",
        "outputId": "36742626-7230-4748-85b2-7eec58f42bf9"
      },
      "execution_count": null,
      "outputs": [
        {
          "output_type": "stream",
          "name": "stderr",
          "text": [
            "/usr/local/lib/python3.7/dist-packages/seaborn/_decorators.py:43: FutureWarning:\n",
            "\n",
            "Pass the following variables as keyword args: x, y. From version 0.12, the only valid positional argument will be `data`, and passing other arguments without an explicit keyword will result in an error or misinterpretation.\n",
            "\n"
          ]
        },
        {
          "output_type": "display_data",
          "data": {
            "text/plain": [
              "<Figure size 1080x720 with 1 Axes>"
            ],
            "image/png": "[encoded data removed]"
          },
          "metadata": {
            "needs_background": "light"
          }
        }
      ]
    },
    {
      "cell_type": "code",
      "source": [
        "top_recovered = top.groupby(\"country\")['Recovered'].sum().sort_values(ascending=False).reset_index().head(20)\n",
        "plt.figure(figsize=(15,10))\n",
        "sns.barplot(top_recovered['Recovered'],top_recovered['country'])\n",
        "plt.show()"
      ],
      "metadata": {
        "colab": {
          "base_uri": "https://localhost:8080/",
          "height": 648
        },
        "id": "poa-JHmhSHfA",
        "outputId": "4f16ae49-d2e6-4bc3-af75-bf935870e12e"
      },
      "execution_count": null,
      "outputs": [
        {
          "output_type": "stream",
          "name": "stderr",
          "text": [
            "/usr/local/lib/python3.7/dist-packages/seaborn/_decorators.py:43: FutureWarning:\n",
            "\n",
            "Pass the following variables as keyword args: x, y. From version 0.12, the only valid positional argument will be `data`, and passing other arguments without an explicit keyword will result in an error or misinterpretation.\n",
            "\n"
          ]
        },
        {
          "output_type": "display_data",
          "data": {
            "text/plain": [
              "<Figure size 1080x720 with 1 Axes>"
            ],
            "image/png": "[encoded data removed]"
          },
          "metadata": {
            "needs_background": "light"
          }
        }
      ]
    },
    {
      "cell_type": "code",
      "source": [
        "# Make DataFrames For Different Countries "
      ],
      "metadata": {
        "id": "HzkjYOiwSLl8"
      },
      "execution_count": null,
      "outputs": []
    },
    {
      "cell_type": "code",
      "source": [
        "china = df[df['country']==\"China\"]\n",
        "china = china.groupby(\"Date\")['active','Recovered','Confirmed','Deaths'].sum().reset_index()\n",
        "china.head()"
      ],
      "metadata": {
        "colab": {
          "base_uri": "https://localhost:8080/",
          "height": 276
        },
        "id": "FErJCK2lSMTj",
        "outputId": "cc40b8fb-40b9-4f00-c75b-9b353cdc4326"
      },
      "execution_count": null,
      "outputs": [
        {
          "output_type": "stream",
          "name": "stderr",
          "text": [
            "/usr/local/lib/python3.7/dist-packages/ipykernel_launcher.py:2: FutureWarning:\n",
            "\n",
            "Indexing with multiple keys (implicitly converted to a tuple of keys) will be deprecated, use a list instead.\n",
            "\n"
          ]
        },
        {
          "output_type": "execute_result",
          "data": {
            "text/plain": [
              "      Date  active  Recovered  Confirmed  Deaths\n",
              "0  1/22/20     503         28        548      17\n",
              "1  1/23/20     595         30        643      18\n",
              "2  1/24/20     859         35        920      26\n",
              "3  1/25/20    1326         38       1406      42\n",
              "4  1/26/20    1971         48       2075      56"
            ],
            "text/html": [
              "\n",
              "  <div id=\"df-deb23b2b-e18a-42ac-a1dd-6a8d439d6ee0\">\n",
              "    <div class=\"colab-df-container\">\n",
              "      <div>\n",
              "<style scoped>\n",
              "    .dataframe tbody tr th:only-of-type {\n",
              "        vertical-align: middle;\n",
              "    }\n",
              "\n",
              "    .dataframe tbody tr th {\n",
              "        vertical-align: top;\n",
              "    }\n",
              "\n",
              "    .dataframe thead th {\n",
              "        text-align: right;\n",
              "    }\n",
              "</style>\n",
              "<table border=\"1\" class=\"dataframe\">\n",
              "  <thead>\n",
              "    <tr style=\"text-align: right;\">\n",
              "      <th></th>\n",
              "      <th>Date</th>\n",
              "      <th>active</th>\n",
              "      <th>Recovered</th>\n",
              "      <th>Confirmed</th>\n",
              "      <th>Deaths</th>\n",
              "    </tr>\n",
              "  </thead>\n",
              "  <tbody>\n",
              "    <tr>\n",
              "      <th>0</th>\n",
              "      <td>1/22/20</td>\n",
              "      <td>503</td>\n",
              "      <td>28</td>\n",
              "      <td>548</td>\n",
              "      <td>17</td>\n",
              "    </tr>\n",
              "    <tr>\n",
              "      <th>1</th>\n",
              "      <td>1/23/20</td>\n",
              "      <td>595</td>\n",
              "      <td>30</td>\n",
              "      <td>643</td>\n",
              "      <td>18</td>\n",
              "    </tr>\n",
              "    <tr>\n",
              "      <th>2</th>\n",
              "      <td>1/24/20</td>\n",
              "      <td>859</td>\n",
              "      <td>35</td>\n",
              "      <td>920</td>\n",
              "      <td>26</td>\n",
              "    </tr>\n",
              "    <tr>\n",
              "      <th>3</th>\n",
              "      <td>1/25/20</td>\n",
              "      <td>1326</td>\n",
              "      <td>38</td>\n",
              "      <td>1406</td>\n",
              "      <td>42</td>\n",
              "    </tr>\n",
              "    <tr>\n",
              "      <th>4</th>\n",
              "      <td>1/26/20</td>\n",
              "      <td>1971</td>\n",
              "      <td>48</td>\n",
              "      <td>2075</td>\n",
              "      <td>56</td>\n",
              "    </tr>\n",
              "  </tbody>\n",
              "</table>\n",
              "</div>\n",
              "      <button class=\"colab-df-convert\" onclick=\"convertToInteractive('df-deb23b2b-e18a-42ac-a1dd-6a8d439d6ee0')\"\n",
              "              title=\"Convert this dataframe to an interactive table.\"\n",
              "              style=\"display:none;\">\n",
              "        \n",
              "  <svg xmlns=\"http://www.w3.org/2000/svg\" height=\"24px\"viewBox=\"0 0 24 24\"\n",
              "       width=\"24px\">\n",
              "    <path d=\"M0 0h24v24H0V0z\" fill=\"none\"/>\n",
              "    <path d=\"M18.56 5.44l.94 2.06.94-2.06 2.06-.94-2.06-.94-.94-2.06-.94 2.06-2.06.94zm-11 1L8.5 8.5l.94-2.06 2.06-.94-2.06-.94L8.5 2.5l-.94 2.06-2.06.94zm10 10l.94 2.06.94-2.06 2.06-.94-2.06-.94-.94-2.06-.94 2.06-2.06.94z\"/><path d=\"M17.41 7.96l-1.37-1.37c-.4-.4-.92-.59-1.43-.59-.52 0-1.04.2-1.43.59L10.3 9.45l-7.72 7.72c-.78.78-.78 2.05 0 2.83L4 21.41c.39.39.9.59 1.41.59.51 0 1.02-.2 1.41-.59l7.78-7.78 2.81-2.81c.8-.78.8-2.07 0-2.86zM5.41 20L4 18.59l7.72-7.72 1.47 1.35L5.41 20z\"/>\n",
              "  </svg>\n",
              "      </button>\n",
              "      \n",
              "  <style>\n",
              "    .colab-df-container {\n",
              "      display:flex;\n",
              "      flex-wrap:wrap;\n",
              "      gap: 12px;\n",
              "    }\n",
              "\n",
              "    .colab-df-convert {\n",
              "      background-color: #E8F0FE;\n",
              "      border: none;\n",
              "      border-radius: 50%;\n",
              "      cursor: pointer;\n",
              "      display: none;\n",
              "      fill: #1967D2;\n",
              "      height: 32px;\n",
              "      padding: 0 0 0 0;\n",
              "      width: 32px;\n",
              "    }\n",
              "\n",
              "    .colab-df-convert:hover {\n",
              "      background-color: #E2EBFA;\n",
              "      box-shadow: 0px 1px 2px rgba(60, 64, 67, 0.3), 0px 1px 3px 1px rgba(60, 64, 67, 0.15);\n",
              "      fill: #174EA6;\n",
              "    }\n",
              "\n",
              "    [theme=dark] .colab-df-convert {\n",
              "      background-color: #3B4455;\n",
              "      fill: #D2E3FC;\n",
              "    }\n",
              "\n",
              "    [theme=dark] .colab-df-convert:hover {\n",
              "      background-color: #434B5C;\n",
              "      box-shadow: 0px 1px 3px 1px rgba(0, 0, 0, 0.15);\n",
              "      filter: drop-shadow(0px 1px 2px rgba(0, 0, 0, 0.3));\n",
              "      fill: #FFFFFF;\n",
              "    }\n",
              "  </style>\n",
              "\n",
              "      <script>\n",
              "        const buttonEl =\n",
              "          document.querySelector('#df-deb23b2b-e18a-42ac-a1dd-6a8d439d6ee0 button.colab-df-convert');\n",
              "        buttonEl.style.display =\n",
              "          google.colab.kernel.accessAllowed ? 'block' : 'none';\n",
              "\n",
              "        async function convertToInteractive(key) {\n",
              "          const element = document.querySelector('#df-deb23b2b-e18a-42ac-a1dd-6a8d439d6ee0');\n",
              "          const dataTable =\n",
              "            await google.colab.kernel.invokeFunction('convertToInteractive',\n",
              "                                                     [key], {});\n",
              "          if (!dataTable) return;\n",
              "\n",
              "          const docLinkHtml = 'Like what you see? Visit the ' +\n",
              "            '<a target=\"_blank\" href=https://colab.research.google.com/notebooks/data_table.ipynb>data table notebook</a>'\n",
              "            + ' to learn more about interactive tables.';\n",
              "          element.innerHTML = '';\n",
              "          dataTable['output_type'] = 'display_data';\n",
              "          await google.colab.output.renderOutput(dataTable, element);\n",
              "          const docLink = document.createElement('div');\n",
              "          docLink.innerHTML = docLinkHtml;\n",
              "          element.appendChild(docLink);\n",
              "        }\n",
              "      </script>\n",
              "    </div>\n",
              "  </div>\n",
              "  "
            ]
          },
          "metadata": {},
          "execution_count": 64
        }
      ]
    },
    {
      "cell_type": "code",
      "source": [
        "us = df[df['country']==\"US\"]\n",
        "us = us.groupby(\"Date\")['active','Recovered','Confirmed','Deaths'].sum().reset_index()\n",
        "us.head()"
      ],
      "metadata": {
        "colab": {
          "base_uri": "https://localhost:8080/",
          "height": 276
        },
        "id": "k5W3OnyoSSI8",
        "outputId": "adb04bc0-7b10-4d6e-f59a-9daf9e529b76"
      },
      "execution_count": null,
      "outputs": [
        {
          "output_type": "stream",
          "name": "stderr",
          "text": [
            "/usr/local/lib/python3.7/dist-packages/ipykernel_launcher.py:2: FutureWarning:\n",
            "\n",
            "Indexing with multiple keys (implicitly converted to a tuple of keys) will be deprecated, use a list instead.\n",
            "\n"
          ]
        },
        {
          "output_type": "execute_result",
          "data": {
            "text/plain": [
              "      Date  active  Recovered  Confirmed  Deaths\n",
              "0  1/22/20       1          0          1       0\n",
              "1  1/23/20       1          0          1       0\n",
              "2  1/24/20       2          0          2       0\n",
              "3  1/25/20       2          0          2       0\n",
              "4  1/26/20       5          0          5       0"
            ],
            "text/html": [
              "\n",
              "  <div id=\"df-8a208176-4511-47a5-8e0e-3f9ad5bee8e5\">\n",
              "    <div class=\"colab-df-container\">\n",
              "      <div>\n",
              "<style scoped>\n",
              "    .dataframe tbody tr th:only-of-type {\n",
              "        vertical-align: middle;\n",
              "    }\n",
              "\n",
              "    .dataframe tbody tr th {\n",
              "        vertical-align: top;\n",
              "    }\n",
              "\n",
              "    .dataframe thead th {\n",
              "        text-align: right;\n",
              "    }\n",
              "</style>\n",
              "<table border=\"1\" class=\"dataframe\">\n",
              "  <thead>\n",
              "    <tr style=\"text-align: right;\">\n",
              "      <th></th>\n",
              "      <th>Date</th>\n",
              "      <th>active</th>\n",
              "      <th>Recovered</th>\n",
              "      <th>Confirmed</th>\n",
              "      <th>Deaths</th>\n",
              "    </tr>\n",
              "  </thead>\n",
              "  <tbody>\n",
              "    <tr>\n",
              "      <th>0</th>\n",
              "      <td>1/22/20</td>\n",
              "      <td>1</td>\n",
              "      <td>0</td>\n",
              "      <td>1</td>\n",
              "      <td>0</td>\n",
              "    </tr>\n",
              "    <tr>\n",
              "      <th>1</th>\n",
              "      <td>1/23/20</td>\n",
              "      <td>1</td>\n",
              "      <td>0</td>\n",
              "      <td>1</td>\n",
              "      <td>0</td>\n",
              "    </tr>\n",
              "    <tr>\n",
              "      <th>2</th>\n",
              "      <td>1/24/20</td>\n",
              "      <td>2</td>\n",
              "      <td>0</td>\n",
              "      <td>2</td>\n",
              "      <td>0</td>\n",
              "    </tr>\n",
              "    <tr>\n",
              "      <th>3</th>\n",
              "      <td>1/25/20</td>\n",
              "      <td>2</td>\n",
              "      <td>0</td>\n",
              "      <td>2</td>\n",
              "      <td>0</td>\n",
              "    </tr>\n",
              "    <tr>\n",
              "      <th>4</th>\n",
              "      <td>1/26/20</td>\n",
              "      <td>5</td>\n",
              "      <td>0</td>\n",
              "      <td>5</td>\n",
              "      <td>0</td>\n",
              "    </tr>\n",
              "  </tbody>\n",
              "</table>\n",
              "</div>\n",
              "      <button class=\"colab-df-convert\" onclick=\"convertToInteractive('df-8a208176-4511-47a5-8e0e-3f9ad5bee8e5')\"\n",
              "              title=\"Convert this dataframe to an interactive table.\"\n",
              "              style=\"display:none;\">\n",
              "        \n",
              "  <svg xmlns=\"http://www.w3.org/2000/svg\" height=\"24px\"viewBox=\"0 0 24 24\"\n",
              "       width=\"24px\">\n",
              "    <path d=\"M0 0h24v24H0V0z\" fill=\"none\"/>\n",
              "    <path d=\"M18.56 5.44l.94 2.06.94-2.06 2.06-.94-2.06-.94-.94-2.06-.94 2.06-2.06.94zm-11 1L8.5 8.5l.94-2.06 2.06-.94-2.06-.94L8.5 2.5l-.94 2.06-2.06.94zm10 10l.94 2.06.94-2.06 2.06-.94-2.06-.94-.94-2.06-.94 2.06-2.06.94z\"/><path d=\"M17.41 7.96l-1.37-1.37c-.4-.4-.92-.59-1.43-.59-.52 0-1.04.2-1.43.59L10.3 9.45l-7.72 7.72c-.78.78-.78 2.05 0 2.83L4 21.41c.39.39.9.59 1.41.59.51 0 1.02-.2 1.41-.59l7.78-7.78 2.81-2.81c.8-.78.8-2.07 0-2.86zM5.41 20L4 18.59l7.72-7.72 1.47 1.35L5.41 20z\"/>\n",
              "  </svg>\n",
              "      </button>\n",
              "      \n",
              "  <style>\n",
              "    .colab-df-container {\n",
              "      display:flex;\n",
              "      flex-wrap:wrap;\n",
              "      gap: 12px;\n",
              "    }\n",
              "\n",
              "    .colab-df-convert {\n",
              "      background-color: #E8F0FE;\n",
              "      border: none;\n",
              "      border-radius: 50%;\n",
              "      cursor: pointer;\n",
              "      display: none;\n",
              "      fill: #1967D2;\n",
              "      height: 32px;\n",
              "      padding: 0 0 0 0;\n",
              "      width: 32px;\n",
              "    }\n",
              "\n",
              "    .colab-df-convert:hover {\n",
              "      background-color: #E2EBFA;\n",
              "      box-shadow: 0px 1px 2px rgba(60, 64, 67, 0.3), 0px 1px 3px 1px rgba(60, 64, 67, 0.15);\n",
              "      fill: #174EA6;\n",
              "    }\n",
              "\n",
              "    [theme=dark] .colab-df-convert {\n",
              "      background-color: #3B4455;\n",
              "      fill: #D2E3FC;\n",
              "    }\n",
              "\n",
              "    [theme=dark] .colab-df-convert:hover {\n",
              "      background-color: #434B5C;\n",
              "      box-shadow: 0px 1px 3px 1px rgba(0, 0, 0, 0.15);\n",
              "      filter: drop-shadow(0px 1px 2px rgba(0, 0, 0, 0.3));\n",
              "      fill: #FFFFFF;\n",
              "    }\n",
              "  </style>\n",
              "\n",
              "      <script>\n",
              "        const buttonEl =\n",
              "          document.querySelector('#df-8a208176-4511-47a5-8e0e-3f9ad5bee8e5 button.colab-df-convert');\n",
              "        buttonEl.style.display =\n",
              "          google.colab.kernel.accessAllowed ? 'block' : 'none';\n",
              "\n",
              "        async function convertToInteractive(key) {\n",
              "          const element = document.querySelector('#df-8a208176-4511-47a5-8e0e-3f9ad5bee8e5');\n",
              "          const dataTable =\n",
              "            await google.colab.kernel.invokeFunction('convertToInteractive',\n",
              "                                                     [key], {});\n",
              "          if (!dataTable) return;\n",
              "\n",
              "          const docLinkHtml = 'Like what you see? Visit the ' +\n",
              "            '<a target=\"_blank\" href=https://colab.research.google.com/notebooks/data_table.ipynb>data table notebook</a>'\n",
              "            + ' to learn more about interactive tables.';\n",
              "          element.innerHTML = '';\n",
              "          dataTable['output_type'] = 'display_data';\n",
              "          await google.colab.output.renderOutput(dataTable, element);\n",
              "          const docLink = document.createElement('div');\n",
              "          docLink.innerHTML = docLinkHtml;\n",
              "          element.appendChild(docLink);\n",
              "        }\n",
              "      </script>\n",
              "    </div>\n",
              "  </div>\n",
              "  "
            ]
          },
          "metadata": {},
          "execution_count": 65
        }
      ]
    },
    {
      "cell_type": "code",
      "source": [
        "india = df[df['country']==\"India\"]\n",
        "india = india.groupby(\"Date\")['active','Recovered','Confirmed','Deaths'].sum().reset_index()\n",
        "india.head()"
      ],
      "metadata": {
        "colab": {
          "base_uri": "https://localhost:8080/",
          "height": 276
        },
        "id": "pXsFQuqgSWdl",
        "outputId": "d5c1be76-3d07-4bb9-e621-6317e048b0c9"
      },
      "execution_count": null,
      "outputs": [
        {
          "output_type": "stream",
          "name": "stderr",
          "text": [
            "/usr/local/lib/python3.7/dist-packages/ipykernel_launcher.py:2: FutureWarning:\n",
            "\n",
            "Indexing with multiple keys (implicitly converted to a tuple of keys) will be deprecated, use a list instead.\n",
            "\n"
          ]
        },
        {
          "output_type": "execute_result",
          "data": {
            "text/plain": [
              "      Date  active  Recovered  Confirmed  Deaths\n",
              "0  1/22/20       0          0          0       0\n",
              "1  1/23/20       0          0          0       0\n",
              "2  1/24/20       0          0          0       0\n",
              "3  1/25/20       0          0          0       0\n",
              "4  1/26/20       0          0          0       0"
            ],
            "text/html": [
              "\n",
              "  <div id=\"df-2b2b3ae5-3a1f-482e-bd28-276d8b11d550\">\n",
              "    <div class=\"colab-df-container\">\n",
              "      <div>\n",
              "<style scoped>\n",
              "    .dataframe tbody tr th:only-of-type {\n",
              "        vertical-align: middle;\n",
              "    }\n",
              "\n",
              "    .dataframe tbody tr th {\n",
              "        vertical-align: top;\n",
              "    }\n",
              "\n",
              "    .dataframe thead th {\n",
              "        text-align: right;\n",
              "    }\n",
              "</style>\n",
              "<table border=\"1\" class=\"dataframe\">\n",
              "  <thead>\n",
              "    <tr style=\"text-align: right;\">\n",
              "      <th></th>\n",
              "      <th>Date</th>\n",
              "      <th>active</th>\n",
              "      <th>Recovered</th>\n",
              "      <th>Confirmed</th>\n",
              "      <th>Deaths</th>\n",
              "    </tr>\n",
              "  </thead>\n",
              "  <tbody>\n",
              "    <tr>\n",
              "      <th>0</th>\n",
              "      <td>1/22/20</td>\n",
              "      <td>0</td>\n",
              "      <td>0</td>\n",
              "      <td>0</td>\n",
              "      <td>0</td>\n",
              "    </tr>\n",
              "    <tr>\n",
              "      <th>1</th>\n",
              "      <td>1/23/20</td>\n",
              "      <td>0</td>\n",
              "      <td>0</td>\n",
              "      <td>0</td>\n",
              "      <td>0</td>\n",
              "    </tr>\n",
              "    <tr>\n",
              "      <th>2</th>\n",
              "      <td>1/24/20</td>\n",
              "      <td>0</td>\n",
              "      <td>0</td>\n",
              "      <td>0</td>\n",
              "      <td>0</td>\n",
              "    </tr>\n",
              "    <tr>\n",
              "      <th>3</th>\n",
              "      <td>1/25/20</td>\n",
              "      <td>0</td>\n",
              "      <td>0</td>\n",
              "      <td>0</td>\n",
              "      <td>0</td>\n",
              "    </tr>\n",
              "    <tr>\n",
              "      <th>4</th>\n",
              "      <td>1/26/20</td>\n",
              "      <td>0</td>\n",
              "      <td>0</td>\n",
              "      <td>0</td>\n",
              "      <td>0</td>\n",
              "    </tr>\n",
              "  </tbody>\n",
              "</table>\n",
              "</div>\n",
              "      <button class=\"colab-df-convert\" onclick=\"convertToInteractive('df-2b2b3ae5-3a1f-482e-bd28-276d8b11d550')\"\n",
              "              title=\"Convert this dataframe to an interactive table.\"\n",
              "              style=\"display:none;\">\n",
              "        \n",
              "  <svg xmlns=\"http://www.w3.org/2000/svg\" height=\"24px\"viewBox=\"0 0 24 24\"\n",
              "       width=\"24px\">\n",
              "    <path d=\"M0 0h24v24H0V0z\" fill=\"none\"/>\n",
              "    <path d=\"M18.56 5.44l.94 2.06.94-2.06 2.06-.94-2.06-.94-.94-2.06-.94 2.06-2.06.94zm-11 1L8.5 8.5l.94-2.06 2.06-.94-2.06-.94L8.5 2.5l-.94 2.06-2.06.94zm10 10l.94 2.06.94-2.06 2.06-.94-2.06-.94-.94-2.06-.94 2.06-2.06.94z\"/><path d=\"M17.41 7.96l-1.37-1.37c-.4-.4-.92-.59-1.43-.59-.52 0-1.04.2-1.43.59L10.3 9.45l-7.72 7.72c-.78.78-.78 2.05 0 2.83L4 21.41c.39.39.9.59 1.41.59.51 0 1.02-.2 1.41-.59l7.78-7.78 2.81-2.81c.8-.78.8-2.07 0-2.86zM5.41 20L4 18.59l7.72-7.72 1.47 1.35L5.41 20z\"/>\n",
              "  </svg>\n",
              "      </button>\n",
              "      \n",
              "  <style>\n",
              "    .colab-df-container {\n",
              "      display:flex;\n",
              "      flex-wrap:wrap;\n",
              "      gap: 12px;\n",
              "    }\n",
              "\n",
              "    .colab-df-convert {\n",
              "      background-color: #E8F0FE;\n",
              "      border: none;\n",
              "      border-radius: 50%;\n",
              "      cursor: pointer;\n",
              "      display: none;\n",
              "      fill: #1967D2;\n",
              "      height: 32px;\n",
              "      padding: 0 0 0 0;\n",
              "      width: 32px;\n",
              "    }\n",
              "\n",
              "    .colab-df-convert:hover {\n",
              "      background-color: #E2EBFA;\n",
              "      box-shadow: 0px 1px 2px rgba(60, 64, 67, 0.3), 0px 1px 3px 1px rgba(60, 64, 67, 0.15);\n",
              "      fill: #174EA6;\n",
              "    }\n",
              "\n",
              "    [theme=dark] .colab-df-convert {\n",
              "      background-color: #3B4455;\n",
              "      fill: #D2E3FC;\n",
              "    }\n",
              "\n",
              "    [theme=dark] .colab-df-convert:hover {\n",
              "      background-color: #434B5C;\n",
              "      box-shadow: 0px 1px 3px 1px rgba(0, 0, 0, 0.15);\n",
              "      filter: drop-shadow(0px 1px 2px rgba(0, 0, 0, 0.3));\n",
              "      fill: #FFFFFF;\n",
              "    }\n",
              "  </style>\n",
              "\n",
              "      <script>\n",
              "        const buttonEl =\n",
              "          document.querySelector('#df-2b2b3ae5-3a1f-482e-bd28-276d8b11d550 button.colab-df-convert');\n",
              "        buttonEl.style.display =\n",
              "          google.colab.kernel.accessAllowed ? 'block' : 'none';\n",
              "\n",
              "        async function convertToInteractive(key) {\n",
              "          const element = document.querySelector('#df-2b2b3ae5-3a1f-482e-bd28-276d8b11d550');\n",
              "          const dataTable =\n",
              "            await google.colab.kernel.invokeFunction('convertToInteractive',\n",
              "                                                     [key], {});\n",
              "          if (!dataTable) return;\n",
              "\n",
              "          const docLinkHtml = 'Like what you see? Visit the ' +\n",
              "            '<a target=\"_blank\" href=https://colab.research.google.com/notebooks/data_table.ipynb>data table notebook</a>'\n",
              "            + ' to learn more about interactive tables.';\n",
              "          element.innerHTML = '';\n",
              "          dataTable['output_type'] = 'display_data';\n",
              "          await google.colab.output.renderOutput(dataTable, element);\n",
              "          const docLink = document.createElement('div');\n",
              "          docLink.innerHTML = docLinkHtml;\n",
              "          element.appendChild(docLink);\n",
              "        }\n",
              "      </script>\n",
              "    </div>\n",
              "  </div>\n",
              "  "
            ]
          },
          "metadata": {},
          "execution_count": 66
        }
      ]
    },
    {
      "cell_type": "code",
      "source": [
        "italy = df[df['country']==\"Italy\"]\n",
        "italy = italy.groupby(\"Date\")['active','Recovered','Confirmed','Deaths'].sum().reset_index()\n",
        "italy.head()"
      ],
      "metadata": {
        "colab": {
          "base_uri": "https://localhost:8080/",
          "height": 276
        },
        "id": "Pm5bhwFrSZFS",
        "outputId": "3bbd1320-8b40-4c5d-a51b-b46b998b55f6"
      },
      "execution_count": null,
      "outputs": [
        {
          "output_type": "stream",
          "name": "stderr",
          "text": [
            "/usr/local/lib/python3.7/dist-packages/ipykernel_launcher.py:2: FutureWarning:\n",
            "\n",
            "Indexing with multiple keys (implicitly converted to a tuple of keys) will be deprecated, use a list instead.\n",
            "\n"
          ]
        },
        {
          "output_type": "execute_result",
          "data": {
            "text/plain": [
              "      Date  active  Recovered  Confirmed  Deaths\n",
              "0  1/22/20       0          0          0       0\n",
              "1  1/23/20       0          0          0       0\n",
              "2  1/24/20       0          0          0       0\n",
              "3  1/25/20       0          0          0       0\n",
              "4  1/26/20       0          0          0       0"
            ],
            "text/html": [
              "\n",
              "  <div id=\"df-63e77b36-95ce-4b25-aa73-71459cdcaec4\">\n",
              "    <div class=\"colab-df-container\">\n",
              "      <div>\n",
              "<style scoped>\n",
              "    .dataframe tbody tr th:only-of-type {\n",
              "        vertical-align: middle;\n",
              "    }\n",
              "\n",
              "    .dataframe tbody tr th {\n",
              "        vertical-align: top;\n",
              "    }\n",
              "\n",
              "    .dataframe thead th {\n",
              "        text-align: right;\n",
              "    }\n",
              "</style>\n",
              "<table border=\"1\" class=\"dataframe\">\n",
              "  <thead>\n",
              "    <tr style=\"text-align: right;\">\n",
              "      <th></th>\n",
              "      <th>Date</th>\n",
              "      <th>active</th>\n",
              "      <th>Recovered</th>\n",
              "      <th>Confirmed</th>\n",
              "      <th>Deaths</th>\n",
              "    </tr>\n",
              "  </thead>\n",
              "  <tbody>\n",
              "    <tr>\n",
              "      <th>0</th>\n",
              "      <td>1/22/20</td>\n",
              "      <td>0</td>\n",
              "      <td>0</td>\n",
              "      <td>0</td>\n",
              "      <td>0</td>\n",
              "    </tr>\n",
              "    <tr>\n",
              "      <th>1</th>\n",
              "      <td>1/23/20</td>\n",
              "      <td>0</td>\n",
              "      <td>0</td>\n",
              "      <td>0</td>\n",
              "      <td>0</td>\n",
              "    </tr>\n",
              "    <tr>\n",
              "      <th>2</th>\n",
              "      <td>1/24/20</td>\n",
              "      <td>0</td>\n",
              "      <td>0</td>\n",
              "      <td>0</td>\n",
              "      <td>0</td>\n",
              "    </tr>\n",
              "    <tr>\n",
              "      <th>3</th>\n",
              "      <td>1/25/20</td>\n",
              "      <td>0</td>\n",
              "      <td>0</td>\n",
              "      <td>0</td>\n",
              "      <td>0</td>\n",
              "    </tr>\n",
              "    <tr>\n",
              "      <th>4</th>\n",
              "      <td>1/26/20</td>\n",
              "      <td>0</td>\n",
              "      <td>0</td>\n",
              "      <td>0</td>\n",
              "      <td>0</td>\n",
              "    </tr>\n",
              "  </tbody>\n",
              "</table>\n",
              "</div>\n",
              "      <button class=\"colab-df-convert\" onclick=\"convertToInteractive('df-63e77b36-95ce-4b25-aa73-71459cdcaec4')\"\n",
              "              title=\"Convert this dataframe to an interactive table.\"\n",
              "              style=\"display:none;\">\n",
              "        \n",
              "  <svg xmlns=\"http://www.w3.org/2000/svg\" height=\"24px\"viewBox=\"0 0 24 24\"\n",
              "       width=\"24px\">\n",
              "    <path d=\"M0 0h24v24H0V0z\" fill=\"none\"/>\n",
              "    <path d=\"M18.56 5.44l.94 2.06.94-2.06 2.06-.94-2.06-.94-.94-2.06-.94 2.06-2.06.94zm-11 1L8.5 8.5l.94-2.06 2.06-.94-2.06-.94L8.5 2.5l-.94 2.06-2.06.94zm10 10l.94 2.06.94-2.06 2.06-.94-2.06-.94-.94-2.06-.94 2.06-2.06.94z\"/><path d=\"M17.41 7.96l-1.37-1.37c-.4-.4-.92-.59-1.43-.59-.52 0-1.04.2-1.43.59L10.3 9.45l-7.72 7.72c-.78.78-.78 2.05 0 2.83L4 21.41c.39.39.9.59 1.41.59.51 0 1.02-.2 1.41-.59l7.78-7.78 2.81-2.81c.8-.78.8-2.07 0-2.86zM5.41 20L4 18.59l7.72-7.72 1.47 1.35L5.41 20z\"/>\n",
              "  </svg>\n",
              "      </button>\n",
              "      \n",
              "  <style>\n",
              "    .colab-df-container {\n",
              "      display:flex;\n",
              "      flex-wrap:wrap;\n",
              "      gap: 12px;\n",
              "    }\n",
              "\n",
              "    .colab-df-convert {\n",
              "      background-color: #E8F0FE;\n",
              "      border: none;\n",
              "      border-radius: 50%;\n",
              "      cursor: pointer;\n",
              "      display: none;\n",
              "      fill: #1967D2;\n",
              "      height: 32px;\n",
              "      padding: 0 0 0 0;\n",
              "      width: 32px;\n",
              "    }\n",
              "\n",
              "    .colab-df-convert:hover {\n",
              "      background-color: #E2EBFA;\n",
              "      box-shadow: 0px 1px 2px rgba(60, 64, 67, 0.3), 0px 1px 3px 1px rgba(60, 64, 67, 0.15);\n",
              "      fill: #174EA6;\n",
              "    }\n",
              "\n",
              "    [theme=dark] .colab-df-convert {\n",
              "      background-color: #3B4455;\n",
              "      fill: #D2E3FC;\n",
              "    }\n",
              "\n",
              "    [theme=dark] .colab-df-convert:hover {\n",
              "      background-color: #434B5C;\n",
              "      box-shadow: 0px 1px 3px 1px rgba(0, 0, 0, 0.15);\n",
              "      filter: drop-shadow(0px 1px 2px rgba(0, 0, 0, 0.3));\n",
              "      fill: #FFFFFF;\n",
              "    }\n",
              "  </style>\n",
              "\n",
              "      <script>\n",
              "        const buttonEl =\n",
              "          document.querySelector('#df-63e77b36-95ce-4b25-aa73-71459cdcaec4 button.colab-df-convert');\n",
              "        buttonEl.style.display =\n",
              "          google.colab.kernel.accessAllowed ? 'block' : 'none';\n",
              "\n",
              "        async function convertToInteractive(key) {\n",
              "          const element = document.querySelector('#df-63e77b36-95ce-4b25-aa73-71459cdcaec4');\n",
              "          const dataTable =\n",
              "            await google.colab.kernel.invokeFunction('convertToInteractive',\n",
              "                                                     [key], {});\n",
              "          if (!dataTable) return;\n",
              "\n",
              "          const docLinkHtml = 'Like what you see? Visit the ' +\n",
              "            '<a target=\"_blank\" href=https://colab.research.google.com/notebooks/data_table.ipynb>data table notebook</a>'\n",
              "            + ' to learn more about interactive tables.';\n",
              "          element.innerHTML = '';\n",
              "          dataTable['output_type'] = 'display_data';\n",
              "          await google.colab.output.renderOutput(dataTable, element);\n",
              "          const docLink = document.createElement('div');\n",
              "          docLink.innerHTML = docLinkHtml;\n",
              "          element.appendChild(docLink);\n",
              "        }\n",
              "      </script>\n",
              "    </div>\n",
              "  </div>\n",
              "  "
            ]
          },
          "metadata": {},
          "execution_count": 67
        }
      ]
    },
    {
      "cell_type": "code",
      "source": [
        "# plotting data (Confirmed cases vs time)"
      ],
      "metadata": {
        "id": "C6ftfVEKScHs"
      },
      "execution_count": null,
      "outputs": []
    },
    {
      "cell_type": "code",
      "source": [
        "plt.figure(figsize=(15,8))\n",
        "sns.pointplot(china.index,china['Confirmed'],color=\"red\")\n",
        "sns.pointplot(india.index,india['Confirmed'],color=\"green\")\n",
        "sns.pointplot(us.index,us['Confirmed'],color=\"blue\")\n",
        "sns.pointplot(italy.index,italy['Confirmed'],color=\"yellow\")\n",
        "plt.show()"
      ],
      "metadata": {
        "colab": {
          "base_uri": "https://localhost:8080/",
          "height": 753
        },
        "id": "kNb0MvZmSeH7",
        "outputId": "8bb5b381-54a8-4dcb-ba0e-0fca2ec47c1d"
      },
      "execution_count": null,
      "outputs": [
        {
          "output_type": "stream",
          "name": "stderr",
          "text": [
            "/usr/local/lib/python3.7/dist-packages/seaborn/_decorators.py:43: FutureWarning:\n",
            "\n",
            "Pass the following variables as keyword args: x, y. From version 0.12, the only valid positional argument will be `data`, and passing other arguments without an explicit keyword will result in an error or misinterpretation.\n",
            "\n",
            "/usr/local/lib/python3.7/dist-packages/seaborn/_decorators.py:43: FutureWarning:\n",
            "\n",
            "Pass the following variables as keyword args: x, y. From version 0.12, the only valid positional argument will be `data`, and passing other arguments without an explicit keyword will result in an error or misinterpretation.\n",
            "\n",
            "/usr/local/lib/python3.7/dist-packages/seaborn/_decorators.py:43: FutureWarning:\n",
            "\n",
            "Pass the following variables as keyword args: x, y. From version 0.12, the only valid positional argument will be `data`, and passing other arguments without an explicit keyword will result in an error or misinterpretation.\n",
            "\n",
            "/usr/local/lib/python3.7/dist-packages/seaborn/_decorators.py:43: FutureWarning:\n",
            "\n",
            "Pass the following variables as keyword args: x, y. From version 0.12, the only valid positional argument will be `data`, and passing other arguments without an explicit keyword will result in an error or misinterpretation.\n",
            "\n"
          ]
        },
        {
          "output_type": "display_data",
          "data": {
            "text/plain": [
              "<Figure size 1080x576 with 1 Axes>"
            ],
            "image/png": "[encoded data removed]"
          },
          "metadata": {
            "needs_background": "light"
          }
        }
      ]
    },
    {
      "cell_type": "code",
      "source": [
        "plt.figure(figsize=(15,8))\n",
        "sns.pointplot(china.index,china['Recovered'],color=\"red\")\n",
        "sns.pointplot(india.index,india['Recovered'],color=\"green\")\n",
        "sns.pointplot(us.index,us['Recovered'],color=\"blue\")\n",
        "sns.pointplot(italy.index,italy['Recovered'],color=\"yellow\")\n",
        "plt.show()"
      ],
      "metadata": {
        "colab": {
          "base_uri": "https://localhost:8080/",
          "height": 756
        },
        "id": "PEUagM3DSgjM",
        "outputId": "e7de2251-f11e-43aa-8238-135e4b4cb582"
      },
      "execution_count": null,
      "outputs": [
        {
          "output_type": "stream",
          "name": "stderr",
          "text": [
            "/usr/local/lib/python3.7/dist-packages/seaborn/_decorators.py:43: FutureWarning:\n",
            "\n",
            "Pass the following variables as keyword args: x, y. From version 0.12, the only valid positional argument will be `data`, and passing other arguments without an explicit keyword will result in an error or misinterpretation.\n",
            "\n",
            "/usr/local/lib/python3.7/dist-packages/seaborn/_decorators.py:43: FutureWarning:\n",
            "\n",
            "Pass the following variables as keyword args: x, y. From version 0.12, the only valid positional argument will be `data`, and passing other arguments without an explicit keyword will result in an error or misinterpretation.\n",
            "\n",
            "/usr/local/lib/python3.7/dist-packages/seaborn/_decorators.py:43: FutureWarning:\n",
            "\n",
            "Pass the following variables as keyword args: x, y. From version 0.12, the only valid positional argument will be `data`, and passing other arguments without an explicit keyword will result in an error or misinterpretation.\n",
            "\n",
            "/usr/local/lib/python3.7/dist-packages/seaborn/_decorators.py:43: FutureWarning:\n",
            "\n",
            "Pass the following variables as keyword args: x, y. From version 0.12, the only valid positional argument will be `data`, and passing other arguments without an explicit keyword will result in an error or misinterpretation.\n",
            "\n"
          ]
        },
        {
          "output_type": "display_data",
          "data": {
            "text/plain": [
              "<Figure size 1080x576 with 1 Axes>"
            ],
            "image/png": "[encoded data removed]"
          },
          "metadata": {
            "needs_background": "light"
          }
        }
      ]
    },
    {
      "cell_type": "code",
      "source": [
        "plt.figure(figsize=(15,8))\n",
        "plt.plot(china.index,china['Recovered'],color=\"red\",label=\"China\")\n",
        "plt.plot(india.index,india['Recovered'],color=\"green\",label=\"India\")\n",
        "plt.plot(us.index,us['Recovered'],color=\"blue\",label=\"US\")\n",
        "plt.plot(italy.index,italy['Recovered'],color=\"yellow\",label=\"Italy\")\n",
        "plt.legend(loc=2)\n",
        "plt.show()"
      ],
      "metadata": {
        "colab": {
          "base_uri": "https://localhost:8080/",
          "height": 466
        },
        "id": "oyIRn6FSSqHl",
        "outputId": "48346abe-8151-4a18-8393-e36f2a6a5662"
      },
      "execution_count": null,
      "outputs": [
        {
          "output_type": "display_data",
          "data": {
            "text/plain": [
              "<Figure size 1080x576 with 1 Axes>"
            ],
            "image/png": "[encoded data removed]"
          },
          "metadata": {
            "needs_background": "light"
          }
        }
      ]
    },
    {
      "cell_type": "code",
      "source": [
        "### Prediction and Forecasting"
      ],
      "metadata": {
        "id": "vQkm6WueSto5"
      },
      "execution_count": null,
      "outputs": []
    },
    {
      "cell_type": "code",
      "source": [
        "# from fbprophet import Prophet"
      ],
      "metadata": {
        "colab": {
          "base_uri": "https://localhost:8080/",
          "height": 305
        },
        "id": "QmPr9sk2Stld",
        "outputId": "ef0df0ef-df89-496a-bb4d-edde0ce45929"
      },
      "execution_count": null,
      "outputs": [
        {
          "output_type": "error",
          "ename": "ModuleNotFoundError",
          "evalue": "ignored",
          "traceback": [
            "\u001b[0;31m---------------------------------------------------------------------------\u001b[0m",
            "\u001b[0;31mModuleNotFoundError\u001b[0m                       Traceback (most recent call last)",
            "\u001b[0;32m<ipython-input-73-f503e9c6cf11>\u001b[0m in \u001b[0;36m<module>\u001b[0;34m\u001b[0m\n\u001b[0;32m----> 1\u001b[0;31m \u001b[0;32mfrom\u001b[0m \u001b[0mfbprophet\u001b[0m \u001b[0;32mimport\u001b[0m \u001b[0mProphet\u001b[0m\u001b[0;34m\u001b[0m\u001b[0;34m\u001b[0m\u001b[0m\n\u001b[0m",
            "\u001b[0;31mModuleNotFoundError\u001b[0m: No module named 'fbprophet'",
            "",
            "\u001b[0;31m---------------------------------------------------------------------------\u001b[0;32m\nNOTE: If your import is failing due to a missing package, you can\nmanually install dependencies using either !pip or !apt.\n\nTo view examples of installing some common dependencies, click the\n\"Open Examples\" button below.\n\u001b[0;31m---------------------------------------------------------------------------\u001b[0m\n"
          ],
          "errorDetails": {
            "actions": [
              {
                "action": "open_url",
                "actionText": "Open Examples",
                "url": "/notebooks/snippets/importing_libraries.ipynb"
              }
            ]
          }
        }
      ]
    },
    {
      "cell_type": "code",
      "source": [
        "df.head()"
      ],
      "metadata": {
        "colab": {
          "base_uri": "https://localhost:8080/",
          "height": 206
        },
        "id": "1XtKsXUJStX4",
        "outputId": "09ed3c42-38a8-4843-e27c-12c2f274b03f"
      },
      "execution_count": null,
      "outputs": [
        {
          "output_type": "execute_result",
          "data": {
            "text/plain": [
              "  state      country      Lat     Long     Date  Confirmed  Deaths  Recovered  \\\n",
              "0   NaN  Afghanistan  33.0000  65.0000  1/22/20          0       0          0   \n",
              "1   NaN      Albania  41.1533  20.1683  1/22/20          0       0          0   \n",
              "2   NaN      Algeria  28.0339   1.6596  1/22/20          0       0          0   \n",
              "3   NaN      Andorra  42.5063   1.5218  1/22/20          0       0          0   \n",
              "4   NaN       Angola -11.2027  17.8739  1/22/20          0       0          0   \n",
              "\n",
              "   active  \n",
              "0       0  \n",
              "1       0  \n",
              "2       0  \n",
              "3       0  \n",
              "4       0  "
            ],
            "text/html": [
              "\n",
              "  <div id=\"df-f623b477-31c2-49f8-81a3-855e2d2c2b9d\">\n",
              "    <div class=\"colab-df-container\">\n",
              "      <div>\n",
              "<style scoped>\n",
              "    .dataframe tbody tr th:only-of-type {\n",
              "        vertical-align: middle;\n",
              "    }\n",
              "\n",
              "    .dataframe tbody tr th {\n",
              "        vertical-align: top;\n",
              "    }\n",
              "\n",
              "    .dataframe thead th {\n",
              "        text-align: right;\n",
              "    }\n",
              "</style>\n",
              "<table border=\"1\" class=\"dataframe\">\n",
              "  <thead>\n",
              "    <tr style=\"text-align: right;\">\n",
              "      <th></th>\n",
              "      <th>state</th>\n",
              "      <th>country</th>\n",
              "      <th>Lat</th>\n",
              "      <th>Long</th>\n",
              "      <th>Date</th>\n",
              "      <th>Confirmed</th>\n",
              "      <th>Deaths</th>\n",
              "      <th>Recovered</th>\n",
              "      <th>active</th>\n",
              "    </tr>\n",
              "  </thead>\n",
              "  <tbody>\n",
              "    <tr>\n",
              "      <th>0</th>\n",
              "      <td>NaN</td>\n",
              "      <td>Afghanistan</td>\n",
              "      <td>33.0000</td>\n",
              "      <td>65.0000</td>\n",
              "      <td>1/22/20</td>\n",
              "      <td>0</td>\n",
              "      <td>0</td>\n",
              "      <td>0</td>\n",
              "      <td>0</td>\n",
              "    </tr>\n",
              "    <tr>\n",
              "      <th>1</th>\n",
              "      <td>NaN</td>\n",
              "      <td>Albania</td>\n",
              "      <td>41.1533</td>\n",
              "      <td>20.1683</td>\n",
              "      <td>1/22/20</td>\n",
              "      <td>0</td>\n",
              "      <td>0</td>\n",
              "      <td>0</td>\n",
              "      <td>0</td>\n",
              "    </tr>\n",
              "    <tr>\n",
              "      <th>2</th>\n",
              "      <td>NaN</td>\n",
              "      <td>Algeria</td>\n",
              "      <td>28.0339</td>\n",
              "      <td>1.6596</td>\n",
              "      <td>1/22/20</td>\n",
              "      <td>0</td>\n",
              "      <td>0</td>\n",
              "      <td>0</td>\n",
              "      <td>0</td>\n",
              "    </tr>\n",
              "    <tr>\n",
              "      <th>3</th>\n",
              "      <td>NaN</td>\n",
              "      <td>Andorra</td>\n",
              "      <td>42.5063</td>\n",
              "      <td>1.5218</td>\n",
              "      <td>1/22/20</td>\n",
              "      <td>0</td>\n",
              "      <td>0</td>\n",
              "      <td>0</td>\n",
              "      <td>0</td>\n",
              "    </tr>\n",
              "    <tr>\n",
              "      <th>4</th>\n",
              "      <td>NaN</td>\n",
              "      <td>Angola</td>\n",
              "      <td>-11.2027</td>\n",
              "      <td>17.8739</td>\n",
              "      <td>1/22/20</td>\n",
              "      <td>0</td>\n",
              "      <td>0</td>\n",
              "      <td>0</td>\n",
              "      <td>0</td>\n",
              "    </tr>\n",
              "  </tbody>\n",
              "</table>\n",
              "</div>\n",
              "      <button class=\"colab-df-convert\" onclick=\"convertToInteractive('df-f623b477-31c2-49f8-81a3-855e2d2c2b9d')\"\n",
              "              title=\"Convert this dataframe to an interactive table.\"\n",
              "              style=\"display:none;\">\n",
              "        \n",
              "  <svg xmlns=\"http://www.w3.org/2000/svg\" height=\"24px\"viewBox=\"0 0 24 24\"\n",
              "       width=\"24px\">\n",
              "    <path d=\"M0 0h24v24H0V0z\" fill=\"none\"/>\n",
              "    <path d=\"M18.56 5.44l.94 2.06.94-2.06 2.06-.94-2.06-.94-.94-2.06-.94 2.06-2.06.94zm-11 1L8.5 8.5l.94-2.06 2.06-.94-2.06-.94L8.5 2.5l-.94 2.06-2.06.94zm10 10l.94 2.06.94-2.06 2.06-.94-2.06-.94-.94-2.06-.94 2.06-2.06.94z\"/><path d=\"M17.41 7.96l-1.37-1.37c-.4-.4-.92-.59-1.43-.59-.52 0-1.04.2-1.43.59L10.3 9.45l-7.72 7.72c-.78.78-.78 2.05 0 2.83L4 21.41c.39.39.9.59 1.41.59.51 0 1.02-.2 1.41-.59l7.78-7.78 2.81-2.81c.8-.78.8-2.07 0-2.86zM5.41 20L4 18.59l7.72-7.72 1.47 1.35L5.41 20z\"/>\n",
              "  </svg>\n",
              "      </button>\n",
              "      \n",
              "  <style>\n",
              "    .colab-df-container {\n",
              "      display:flex;\n",
              "      flex-wrap:wrap;\n",
              "      gap: 12px;\n",
              "    }\n",
              "\n",
              "    .colab-df-convert {\n",
              "      background-color: #E8F0FE;\n",
              "      border: none;\n",
              "      border-radius: 50%;\n",
              "      cursor: pointer;\n",
              "      display: none;\n",
              "      fill: #1967D2;\n",
              "      height: 32px;\n",
              "      padding: 0 0 0 0;\n",
              "      width: 32px;\n",
              "    }\n",
              "\n",
              "    .colab-df-convert:hover {\n",
              "      background-color: #E2EBFA;\n",
              "      box-shadow: 0px 1px 2px rgba(60, 64, 67, 0.3), 0px 1px 3px 1px rgba(60, 64, 67, 0.15);\n",
              "      fill: #174EA6;\n",
              "    }\n",
              "\n",
              "    [theme=dark] .colab-df-convert {\n",
              "      background-color: #3B4455;\n",
              "      fill: #D2E3FC;\n",
              "    }\n",
              "\n",
              "    [theme=dark] .colab-df-convert:hover {\n",
              "      background-color: #434B5C;\n",
              "      box-shadow: 0px 1px 3px 1px rgba(0, 0, 0, 0.15);\n",
              "      filter: drop-shadow(0px 1px 2px rgba(0, 0, 0, 0.3));\n",
              "      fill: #FFFFFF;\n",
              "    }\n",
              "  </style>\n",
              "\n",
              "      <script>\n",
              "        const buttonEl =\n",
              "          document.querySelector('#df-f623b477-31c2-49f8-81a3-855e2d2c2b9d button.colab-df-convert');\n",
              "        buttonEl.style.display =\n",
              "          google.colab.kernel.accessAllowed ? 'block' : 'none';\n",
              "\n",
              "        async function convertToInteractive(key) {\n",
              "          const element = document.querySelector('#df-f623b477-31c2-49f8-81a3-855e2d2c2b9d');\n",
              "          const dataTable =\n",
              "            await google.colab.kernel.invokeFunction('convertToInteractive',\n",
              "                                                     [key], {});\n",
              "          if (!dataTable) return;\n",
              "\n",
              "          const docLinkHtml = 'Like what you see? Visit the ' +\n",
              "            '<a target=\"_blank\" href=https://colab.research.google.com/notebooks/data_table.ipynb>data table notebook</a>'\n",
              "            + ' to learn more about interactive tables.';\n",
              "          element.innerHTML = '';\n",
              "          dataTable['output_type'] = 'display_data';\n",
              "          await google.colab.output.renderOutput(dataTable, element);\n",
              "          const docLink = document.createElement('div');\n",
              "          docLink.innerHTML = docLinkHtml;\n",
              "          element.appendChild(docLink);\n",
              "        }\n",
              "      </script>\n",
              "    </div>\n",
              "  </div>\n",
              "  "
            ]
          },
          "metadata": {},
          "execution_count": 74
        }
      ]
    },
    {
      "cell_type": "code",
      "source": [
        "### Forecasting for Confirmed Cases\n",
        "confirmed = df.groupby('Date')['Confirmed'].sum().reset_index()\n",
        "confirmed.head()"
      ],
      "metadata": {
        "colab": {
          "base_uri": "https://localhost:8080/",
          "height": 206
        },
        "id": "5wXocTjPSzfw",
        "outputId": "8fcce412-4569-49ce-c8eb-2b02df86be48"
      },
      "execution_count": null,
      "outputs": [
        {
          "output_type": "execute_result",
          "data": {
            "text/plain": [
              "      Date  Confirmed\n",
              "0  1/22/20        555\n",
              "1  1/23/20        654\n",
              "2  1/24/20        941\n",
              "3  1/25/20       1434\n",
              "4  1/26/20       2118"
            ],
            "text/html": [
              "\n",
              "  <div id=\"df-b3e296b9-2723-4815-96ac-354584162985\">\n",
              "    <div class=\"colab-df-container\">\n",
              "      <div>\n",
              "<style scoped>\n",
              "    .dataframe tbody tr th:only-of-type {\n",
              "        vertical-align: middle;\n",
              "    }\n",
              "\n",
              "    .dataframe tbody tr th {\n",
              "        vertical-align: top;\n",
              "    }\n",
              "\n",
              "    .dataframe thead th {\n",
              "        text-align: right;\n",
              "    }\n",
              "</style>\n",
              "<table border=\"1\" class=\"dataframe\">\n",
              "  <thead>\n",
              "    <tr style=\"text-align: right;\">\n",
              "      <th></th>\n",
              "      <th>Date</th>\n",
              "      <th>Confirmed</th>\n",
              "    </tr>\n",
              "  </thead>\n",
              "  <tbody>\n",
              "    <tr>\n",
              "      <th>0</th>\n",
              "      <td>1/22/20</td>\n",
              "      <td>555</td>\n",
              "    </tr>\n",
              "    <tr>\n",
              "      <th>1</th>\n",
              "      <td>1/23/20</td>\n",
              "      <td>654</td>\n",
              "    </tr>\n",
              "    <tr>\n",
              "      <th>2</th>\n",
              "      <td>1/24/20</td>\n",
              "      <td>941</td>\n",
              "    </tr>\n",
              "    <tr>\n",
              "      <th>3</th>\n",
              "      <td>1/25/20</td>\n",
              "      <td>1434</td>\n",
              "    </tr>\n",
              "    <tr>\n",
              "      <th>4</th>\n",
              "      <td>1/26/20</td>\n",
              "      <td>2118</td>\n",
              "    </tr>\n",
              "  </tbody>\n",
              "</table>\n",
              "</div>\n",
              "      <button class=\"colab-df-convert\" onclick=\"convertToInteractive('df-b3e296b9-2723-4815-96ac-354584162985')\"\n",
              "              title=\"Convert this dataframe to an interactive table.\"\n",
              "              style=\"display:none;\">\n",
              "        \n",
              "  <svg xmlns=\"http://www.w3.org/2000/svg\" height=\"24px\"viewBox=\"0 0 24 24\"\n",
              "       width=\"24px\">\n",
              "    <path d=\"M0 0h24v24H0V0z\" fill=\"none\"/>\n",
              "    <path d=\"M18.56 5.44l.94 2.06.94-2.06 2.06-.94-2.06-.94-.94-2.06-.94 2.06-2.06.94zm-11 1L8.5 8.5l.94-2.06 2.06-.94-2.06-.94L8.5 2.5l-.94 2.06-2.06.94zm10 10l.94 2.06.94-2.06 2.06-.94-2.06-.94-.94-2.06-.94 2.06-2.06.94z\"/><path d=\"M17.41 7.96l-1.37-1.37c-.4-.4-.92-.59-1.43-.59-.52 0-1.04.2-1.43.59L10.3 9.45l-7.72 7.72c-.78.78-.78 2.05 0 2.83L4 21.41c.39.39.9.59 1.41.59.51 0 1.02-.2 1.41-.59l7.78-7.78 2.81-2.81c.8-.78.8-2.07 0-2.86zM5.41 20L4 18.59l7.72-7.72 1.47 1.35L5.41 20z\"/>\n",
              "  </svg>\n",
              "      </button>\n",
              "      \n",
              "  <style>\n",
              "    .colab-df-container {\n",
              "      display:flex;\n",
              "      flex-wrap:wrap;\n",
              "      gap: 12px;\n",
              "    }\n",
              "\n",
              "    .colab-df-convert {\n",
              "      background-color: #E8F0FE;\n",
              "      border: none;\n",
              "      border-radius: 50%;\n",
              "      cursor: pointer;\n",
              "      display: none;\n",
              "      fill: #1967D2;\n",
              "      height: 32px;\n",
              "      padding: 0 0 0 0;\n",
              "      width: 32px;\n",
              "    }\n",
              "\n",
              "    .colab-df-convert:hover {\n",
              "      background-color: #E2EBFA;\n",
              "      box-shadow: 0px 1px 2px rgba(60, 64, 67, 0.3), 0px 1px 3px 1px rgba(60, 64, 67, 0.15);\n",
              "      fill: #174EA6;\n",
              "    }\n",
              "\n",
              "    [theme=dark] .colab-df-convert {\n",
              "      background-color: #3B4455;\n",
              "      fill: #D2E3FC;\n",
              "    }\n",
              "\n",
              "    [theme=dark] .colab-df-convert:hover {\n",
              "      background-color: #434B5C;\n",
              "      box-shadow: 0px 1px 3px 1px rgba(0, 0, 0, 0.15);\n",
              "      filter: drop-shadow(0px 1px 2px rgba(0, 0, 0, 0.3));\n",
              "      fill: #FFFFFF;\n",
              "    }\n",
              "  </style>\n",
              "\n",
              "      <script>\n",
              "        const buttonEl =\n",
              "          document.querySelector('#df-b3e296b9-2723-4815-96ac-354584162985 button.colab-df-convert');\n",
              "        buttonEl.style.display =\n",
              "          google.colab.kernel.accessAllowed ? 'block' : 'none';\n",
              "\n",
              "        async function convertToInteractive(key) {\n",
              "          const element = document.querySelector('#df-b3e296b9-2723-4815-96ac-354584162985');\n",
              "          const dataTable =\n",
              "            await google.colab.kernel.invokeFunction('convertToInteractive',\n",
              "                                                     [key], {});\n",
              "          if (!dataTable) return;\n",
              "\n",
              "          const docLinkHtml = 'Like what you see? Visit the ' +\n",
              "            '<a target=\"_blank\" href=https://colab.research.google.com/notebooks/data_table.ipynb>data table notebook</a>'\n",
              "            + ' to learn more about interactive tables.';\n",
              "          element.innerHTML = '';\n",
              "          dataTable['output_type'] = 'display_data';\n",
              "          await google.colab.output.renderOutput(dataTable, element);\n",
              "          const docLink = document.createElement('div');\n",
              "          docLink.innerHTML = docLinkHtml;\n",
              "          element.appendChild(docLink);\n",
              "        }\n",
              "      </script>\n",
              "    </div>\n",
              "  </div>\n",
              "  "
            ]
          },
          "metadata": {},
          "execution_count": 75
        }
      ]
    },
    {
      "cell_type": "code",
      "source": [
        "confirmed.columns = ['ds','y']\n",
        "confirmed.head()"
      ],
      "metadata": {
        "colab": {
          "base_uri": "https://localhost:8080/",
          "height": 206
        },
        "id": "Q2FkPP_sS3M6",
        "outputId": "6c892d49-50f0-4350-fb14-a5cd7820e899"
      },
      "execution_count": null,
      "outputs": [
        {
          "output_type": "execute_result",
          "data": {
            "text/plain": [
              "        ds     y\n",
              "0  1/22/20   555\n",
              "1  1/23/20   654\n",
              "2  1/24/20   941\n",
              "3  1/25/20  1434\n",
              "4  1/26/20  2118"
            ],
            "text/html": [
              "\n",
              "  <div id=\"df-84199f19-55ec-4e28-9c19-dff55d605a3c\">\n",
              "    <div class=\"colab-df-container\">\n",
              "      <div>\n",
              "<style scoped>\n",
              "    .dataframe tbody tr th:only-of-type {\n",
              "        vertical-align: middle;\n",
              "    }\n",
              "\n",
              "    .dataframe tbody tr th {\n",
              "        vertical-align: top;\n",
              "    }\n",
              "\n",
              "    .dataframe thead th {\n",
              "        text-align: right;\n",
              "    }\n",
              "</style>\n",
              "<table border=\"1\" class=\"dataframe\">\n",
              "  <thead>\n",
              "    <tr style=\"text-align: right;\">\n",
              "      <th></th>\n",
              "      <th>ds</th>\n",
              "      <th>y</th>\n",
              "    </tr>\n",
              "  </thead>\n",
              "  <tbody>\n",
              "    <tr>\n",
              "      <th>0</th>\n",
              "      <td>1/22/20</td>\n",
              "      <td>555</td>\n",
              "    </tr>\n",
              "    <tr>\n",
              "      <th>1</th>\n",
              "      <td>1/23/20</td>\n",
              "      <td>654</td>\n",
              "    </tr>\n",
              "    <tr>\n",
              "      <th>2</th>\n",
              "      <td>1/24/20</td>\n",
              "      <td>941</td>\n",
              "    </tr>\n",
              "    <tr>\n",
              "      <th>3</th>\n",
              "      <td>1/25/20</td>\n",
              "      <td>1434</td>\n",
              "    </tr>\n",
              "    <tr>\n",
              "      <th>4</th>\n",
              "      <td>1/26/20</td>\n",
              "      <td>2118</td>\n",
              "    </tr>\n",
              "  </tbody>\n",
              "</table>\n",
              "</div>\n",
              "      <button class=\"colab-df-convert\" onclick=\"convertToInteractive('df-84199f19-55ec-4e28-9c19-dff55d605a3c')\"\n",
              "              title=\"Convert this dataframe to an interactive table.\"\n",
              "              style=\"display:none;\">\n",
              "        \n",
              "  <svg xmlns=\"http://www.w3.org/2000/svg\" height=\"24px\"viewBox=\"0 0 24 24\"\n",
              "       width=\"24px\">\n",
              "    <path d=\"M0 0h24v24H0V0z\" fill=\"none\"/>\n",
              "    <path d=\"M18.56 5.44l.94 2.06.94-2.06 2.06-.94-2.06-.94-.94-2.06-.94 2.06-2.06.94zm-11 1L8.5 8.5l.94-2.06 2.06-.94-2.06-.94L8.5 2.5l-.94 2.06-2.06.94zm10 10l.94 2.06.94-2.06 2.06-.94-2.06-.94-.94-2.06-.94 2.06-2.06.94z\"/><path d=\"M17.41 7.96l-1.37-1.37c-.4-.4-.92-.59-1.43-.59-.52 0-1.04.2-1.43.59L10.3 9.45l-7.72 7.72c-.78.78-.78 2.05 0 2.83L4 21.41c.39.39.9.59 1.41.59.51 0 1.02-.2 1.41-.59l7.78-7.78 2.81-2.81c.8-.78.8-2.07 0-2.86zM5.41 20L4 18.59l7.72-7.72 1.47 1.35L5.41 20z\"/>\n",
              "  </svg>\n",
              "      </button>\n",
              "      \n",
              "  <style>\n",
              "    .colab-df-container {\n",
              "      display:flex;\n",
              "      flex-wrap:wrap;\n",
              "      gap: 12px;\n",
              "    }\n",
              "\n",
              "    .colab-df-convert {\n",
              "      background-color: #E8F0FE;\n",
              "      border: none;\n",
              "      border-radius: 50%;\n",
              "      cursor: pointer;\n",
              "      display: none;\n",
              "      fill: #1967D2;\n",
              "      height: 32px;\n",
              "      padding: 0 0 0 0;\n",
              "      width: 32px;\n",
              "    }\n",
              "\n",
              "    .colab-df-convert:hover {\n",
              "      background-color: #E2EBFA;\n",
              "      box-shadow: 0px 1px 2px rgba(60, 64, 67, 0.3), 0px 1px 3px 1px rgba(60, 64, 67, 0.15);\n",
              "      fill: #174EA6;\n",
              "    }\n",
              "\n",
              "    [theme=dark] .colab-df-convert {\n",
              "      background-color: #3B4455;\n",
              "      fill: #D2E3FC;\n",
              "    }\n",
              "\n",
              "    [theme=dark] .colab-df-convert:hover {\n",
              "      background-color: #434B5C;\n",
              "      box-shadow: 0px 1px 3px 1px rgba(0, 0, 0, 0.15);\n",
              "      filter: drop-shadow(0px 1px 2px rgba(0, 0, 0, 0.3));\n",
              "      fill: #FFFFFF;\n",
              "    }\n",
              "  </style>\n",
              "\n",
              "      <script>\n",
              "        const buttonEl =\n",
              "          document.querySelector('#df-84199f19-55ec-4e28-9c19-dff55d605a3c button.colab-df-convert');\n",
              "        buttonEl.style.display =\n",
              "          google.colab.kernel.accessAllowed ? 'block' : 'none';\n",
              "\n",
              "        async function convertToInteractive(key) {\n",
              "          const element = document.querySelector('#df-84199f19-55ec-4e28-9c19-dff55d605a3c');\n",
              "          const dataTable =\n",
              "            await google.colab.kernel.invokeFunction('convertToInteractive',\n",
              "                                                     [key], {});\n",
              "          if (!dataTable) return;\n",
              "\n",
              "          const docLinkHtml = 'Like what you see? Visit the ' +\n",
              "            '<a target=\"_blank\" href=https://colab.research.google.com/notebooks/data_table.ipynb>data table notebook</a>'\n",
              "            + ' to learn more about interactive tables.';\n",
              "          element.innerHTML = '';\n",
              "          dataTable['output_type'] = 'display_data';\n",
              "          await google.colab.output.renderOutput(dataTable, element);\n",
              "          const docLink = document.createElement('div');\n",
              "          docLink.innerHTML = docLinkHtml;\n",
              "          element.appendChild(docLink);\n",
              "        }\n",
              "      </script>\n",
              "    </div>\n",
              "  </div>\n",
              "  "
            ]
          },
          "metadata": {},
          "execution_count": 76
        }
      ]
    },
    {
      "cell_type": "code",
      "source": [
        "## Create Model\n",
        "#m = Prophet(interval_width=0.95)"
      ],
      "metadata": {
        "id": "NcS9URKLS5XM"
      },
      "execution_count": null,
      "outputs": []
    },
    {
      "cell_type": "code",
      "source": [
        "# Train Model\n",
        "#m.fit(confirmed)"
      ],
      "metadata": {
        "id": "XMcw9UefS6uO"
      },
      "execution_count": null,
      "outputs": []
    },
    {
      "cell_type": "code",
      "source": [
        "#future = m.make_future_dataframe(periods=7)\n",
        "#future.tail(7)"
      ],
      "metadata": {
        "id": "rZy5_7HpS8IM"
      },
      "execution_count": null,
      "outputs": []
    },
    {
      "cell_type": "code",
      "source": [
        "#forecast = m.predict(future)"
      ],
      "metadata": {
        "id": "4DlIS5ZnS-M4"
      },
      "execution_count": null,
      "outputs": []
    },
    {
      "cell_type": "code",
      "source": [
        "#forecast.tail(7)"
      ],
      "metadata": {
        "id": "2i1ul7y7TAa4"
      },
      "execution_count": null,
      "outputs": []
    },
    {
      "cell_type": "code",
      "source": [
        "#forecast[['ds','yhat','yhat_lower','yhat_upper']].tail(7)"
      ],
      "metadata": {
        "id": "eX9J2M9sTBeV"
      },
      "execution_count": null,
      "outputs": []
    },
    {
      "cell_type": "code",
      "source": [
        "#confirmed_plot = m.plot(forecast)"
      ],
      "metadata": {
        "id": "vgNq32daTKjG"
      },
      "execution_count": null,
      "outputs": []
    },
    {
      "cell_type": "code",
      "source": [
        "#confirmed_weekly_plt = m.plot_components(forecast)"
      ],
      "metadata": {
        "id": "zP6tTjFETMMe"
      },
      "execution_count": null,
      "outputs": []
    },
    {
      "cell_type": "code",
      "source": [
        "## For India\n",
        "\n",
        "#df_india = df[df['country']=='India']\n",
        "#df_india.head()"
      ],
      "metadata": {
        "id": "6AKNKTNsTQOv"
      },
      "execution_count": null,
      "outputs": []
    },
    {
      "cell_type": "code",
      "source": [
        "#df_india = df.query('country==\"India\"')\n",
        "#df_india.head()"
      ],
      "metadata": {
        "id": "F4j6_HLUTSGw"
      },
      "execution_count": null,
      "outputs": []
    },
    {
      "cell_type": "code",
      "source": [
        "#df_india_date = df_india.query('Date<=\"2020-03-30\"')"
      ],
      "metadata": {
        "id": "Db_GorE6TTeW"
      },
      "execution_count": null,
      "outputs": []
    },
    {
      "cell_type": "code",
      "source": [
        "#df_india_date.tail()"
      ],
      "metadata": {
        "id": "KPRDTP_QTVXX"
      },
      "execution_count": null,
      "outputs": []
    },
    {
      "cell_type": "markdown",
      "source": [
        "### Object 02 - Assignment "
      ],
      "metadata": {
        "id": "sTYfIhTtPgS6"
      }
    },
    {
      "cell_type": "markdown",
      "source": [
        "###### What's pandas?"
      ],
      "metadata": {
        "id": "1wU6XQezVYe8"
      }
    },
    {
      "cell_type": "markdown",
      "source": [
        "**Question 01 :- What is pandas?**\n",
        "\n",
        "**ANS :-**Pandas is a software library written for the Python programming language for data manipulation and analysis. In particular, it offers data structures and operations for manipulating numerical tables and time series."
      ],
      "metadata": {
        "id": "ANZfmzNiU0DN"
      }
    },
    {
      "cell_type": "markdown",
      "source": [
        "###### What's TPU?"
      ],
      "metadata": {
        "id": "Qxm77i7FWbua"
      }
    },
    {
      "cell_type": "markdown",
      "source": [
        "**Question :- What is TPU?**\n",
        "\n",
        "**ANS :-** Tensor Processing Unit (TPU) is an AI accelerator application-specific integrated circuit (ASIC) developed by Google specifically for neural network machine learning, particularly using Google's own TensorFlow software"
      ],
      "metadata": {
        "id": "bTYKQPf_WkyA"
      }
    },
    {
      "cell_type": "markdown",
      "source": [
        "###### All dataypes in Python."
      ],
      "metadata": {
        "id": "cz3dXoi7WtAx"
      }
    },
    {
      "cell_type": "markdown",
      "source": [
        "\n",
        "**Question :- Explain all datatype in python.**\n",
        "\n",
        "**ANS :-**\n",
        "\n",
        "*1 - Python Numbers*\n",
        "\n",
        "Integers, floating point numbers and complex numbers fall under Python numbers category. They are defined as int, float and complex classes in Python.\n",
        "\n",
        "*2- Python List*\n",
        "\n",
        "List is an ordered sequence of items. It is one of the most used datatype in Python and is very flexible. All the items in a list do not need to be of the same type.\n",
        "\n",
        "*3- Python Tuple* \n",
        "\n",
        "Tuple is an ordered sequence of items same as a list. The only difference is that tuples are immutable. Tuples once created cannot be modified.\n",
        "\n",
        "*4- Python Strings*\n",
        "\n",
        "String is sequence of Unicode characters. We can use single quotes or double quotes to represent strings. Multi-line strings can be denoted using triple quotes, ''' or \"\"\".\n",
        "\n",
        "*5- Python Set*\n",
        "\n",
        "Set is an unordered collection of unique items. Set is defined by values separated by comma inside braces { }. Items in a set are not ordered."
      ],
      "metadata": {
        "id": "OSl4VUYmXXcN"
      }
    },
    {
      "cell_type": "markdown",
      "source": [
        "###### What's numpy and tensorflow py?"
      ],
      "metadata": {
        "id": "oHNjaR2bYNue"
      }
    },
    {
      "cell_type": "markdown",
      "source": [
        "**Question:-** what is numpy and tensorflow py?\n",
        "\n",
        "**Answer:-** \n",
        "\n",
        "NUMPY:- NumPy is the fundamental package for scientific computing in Python. It is a Python library that provides a multidimensional array object, various derived objects (such as masked arrays and matrices), and an assortment of routines for fast operations on arrays, including mathematical, logical, shape manipulation, sorting, selecting, I/O, discrete Fourier transforms, basic linear algebra, basic statistical operations, random simulation and much more.\n",
        "\n",
        "Tensorflow:- \n",
        "It is an open source artificial intelligence library, using data flow graphs to build models. It allows developers to create large-scale neural networks with many layers. TensorFlow is mainly used for: Classification, Perception, Understanding, Discovering, Prediction and Creation.\n"
      ],
      "metadata": {
        "id": "accJsq9iXmo3"
      }
    },
    {
      "cell_type": "markdown",
      "source": [
        "###### What kind of libraries to be used in python for multiprocessing program?"
      ],
      "metadata": {
        "id": "GCZgFp8cYVXn"
      }
    },
    {
      "cell_type": "markdown",
      "source": [
        "Multiprocessing is a package that supports spawning processes using an API similar to the threading module. The multiprocessing package offers both local and remote concurrency, effectively side-stepping the Global Interpreter Lock by using subprocesses instead of threads.\n",
        "\n",
        "Libraries are\n",
        "\n",
        "- Ray\n",
        "\n",
        "- MPIRE\n",
        "\n",
        "- Dask\n",
        "\n",
        "- ProcessPoolExecutor\n",
        "\n",
        "- multiprocessing.Pool\n",
        "\n",
        "- Joblib"
      ],
      "metadata": {
        "id": "8D4RIJ4Jb6jH"
      }
    },
    {
      "cell_type": "markdown",
      "source": [
        "# Lab 02 - 30th August 2022"
      ],
      "metadata": {
        "id": "GalAckSkZidW"
      }
    },
    {
      "cell_type": "markdown",
      "source": [
        "### Object 03"
      ],
      "metadata": {
        "id": "LsEmsbyPaKwX"
      }
    },
    {
      "cell_type": "markdown",
      "source": [
        "#### Write a program to reveals the Hardware and Software configurations on which program is being run. "
      ],
      "metadata": {
        "id": "1y4RQ3jucWPQ"
      }
    },
    {
      "cell_type": "code",
      "source": [
        "import multiprocessing as mp\n",
        "print(\"Number of processors: \", mp.cpu_count())"
      ],
      "metadata": {
        "colab": {
          "base_uri": "https://localhost:8080/"
        },
        "id": "Z1nwdpcKfvs3",
        "outputId": "43dff429-cf97-431d-9d21-77276a06d852"
      },
      "execution_count": null,
      "outputs": [
        {
          "output_type": "stream",
          "name": "stdout",
          "text": [
            "Number of processors:  2\n"
          ]
        }
      ]
    },
    {
      "cell_type": "code",
      "source": [
        "import platform\n",
        " \n",
        "my_system = platform.uname()\n",
        " \n",
        "print(f\"System: {my_system.system}\")\n",
        "print(f\"Node Name: {my_system.node}\")\n",
        "print(f\"Release: {my_system.release}\")\n",
        "print(f\"Version: {my_system.version}\")\n",
        "print(f\"Machine: {my_system.machine}\")\n",
        "print(f\"Processor: {my_system.processor}\")"
      ],
      "metadata": {
        "colab": {
          "base_uri": "https://localhost:8080/"
        },
        "id": "QuCeg7xYf0ig",
        "outputId": "8fd4b1ee-2238-46ed-eaf6-b3603cefb009"
      },
      "execution_count": null,
      "outputs": [
        {
          "output_type": "stream",
          "name": "stdout",
          "text": [
            "System: Linux\n",
            "Node Name: 24da2b36263a\n",
            "Release: 5.4.188+\n",
            "Version: #1 SMP Sun Apr 24 10:03:06 PDT 2022\n",
            "Machine: x86_64\n",
            "Processor: x86_64\n"
          ]
        }
      ]
    },
    {
      "cell_type": "markdown",
      "source": [
        "### listing Local Devices"
      ],
      "metadata": {
        "id": "nFbNdt4Cf5Jc"
      }
    },
    {
      "cell_type": "code",
      "source": [
        "from tensorflow.python.client import device_lib\n",
        "device_lib.list_local_devices()"
      ],
      "metadata": {
        "colab": {
          "base_uri": "https://localhost:8080/"
        },
        "id": "jtciN6sPf2Dt",
        "outputId": "7a98c03d-9834-4630-a0aa-e5ba90431ab4"
      },
      "execution_count": null,
      "outputs": [
        {
          "output_type": "execute_result",
          "data": {
            "text/plain": [
              "[name: \"/device:CPU:0\"\n",
              " device_type: \"CPU\"\n",
              " memory_limit: 268435456\n",
              " locality {\n",
              " }\n",
              " incarnation: 5226520734131368108\n",
              " xla_global_id: -1, name: \"/device:GPU:0\"\n",
              " device_type: \"GPU\"\n",
              " memory_limit: 14415560704\n",
              " locality {\n",
              "   bus_id: 1\n",
              "   links {\n",
              "   }\n",
              " }\n",
              " incarnation: 17888689140101960248\n",
              " physical_device_desc: \"device: 0, name: Tesla T4, pci bus id: 0000:00:04.0, compute capability: 7.5\"\n",
              " xla_global_id: 416903419]"
            ]
          },
          "metadata": {},
          "execution_count": 93
        }
      ]
    },
    {
      "cell_type": "markdown",
      "source": [
        "### Listing GPU"
      ],
      "metadata": {
        "id": "0rmdVjbegBk8"
      }
    },
    {
      "cell_type": "code",
      "source": [
        "from tensorflow.python.client import device_lib\n",
        "device_lib.list_local_devices()\n",
        "from tensorflow.python.client import device_lib\n",
        "\n",
        "def get_available_gpus():\n",
        "    local_device_protos = device_lib.list_local_devices()\n",
        "    return [x.name for x in local_device_protos if x.device_type == 'GPU']\n",
        "\n",
        "get_available_gpus()"
      ],
      "metadata": {
        "colab": {
          "base_uri": "https://localhost:8080/"
        },
        "id": "qDFC_lgIgE-i",
        "outputId": "40b94da3-56f8-4fe0-8729-a0a72750a18a"
      },
      "execution_count": null,
      "outputs": [
        {
          "output_type": "execute_result",
          "data": {
            "text/plain": [
              "['/device:GPU:0']"
            ]
          },
          "metadata": {},
          "execution_count": 94
        }
      ]
    },
    {
      "cell_type": "code",
      "source": [
        "import tensorflow as tf\n",
        "print(\"Num GPUs Available: \", len(tf.config.experimental.list_physical_devices('GPU')))"
      ],
      "metadata": {
        "colab": {
          "base_uri": "https://localhost:8080/"
        },
        "id": "F6gANof3gLHl",
        "outputId": "60b72ff3-0981-49e4-bef0-0693bd191deb"
      },
      "execution_count": null,
      "outputs": [
        {
          "output_type": "stream",
          "name": "stdout",
          "text": [
            "Num GPUs Available:  1\n"
          ]
        }
      ]
    },
    {
      "cell_type": "markdown",
      "source": [
        "### GPU utilization"
      ],
      "metadata": {
        "id": "SHXyiwCagNUr"
      }
    },
    {
      "cell_type": "code",
      "source": [
        "!pip install GPUtil"
      ],
      "metadata": {
        "colab": {
          "base_uri": "https://localhost:8080/"
        },
        "id": "oEeQJbsxgMwa",
        "outputId": "fb9ab56e-02ef-48bc-9c9b-53e67405057d"
      },
      "execution_count": null,
      "outputs": [
        {
          "output_type": "stream",
          "name": "stdout",
          "text": [
            "Looking in indexes: https://pypi.org/simple, https://us-python.pkg.dev/colab-wheels/public/simple/\n",
            "Collecting GPUtil\n",
            "  Downloading GPUtil-1.4.0.tar.gz (5.5 kB)\n",
            "Building wheels for collected packages: GPUtil\n",
            "  Building wheel for GPUtil (setup.py) ... \u001b[?25l\u001b[?25hdone\n",
            "  Created wheel for GPUtil: filename=GPUtil-1.4.0-py3-none-any.whl size=7411 sha256=96862308cdd583f869a91e6b14188bdfb95d133e83d035979c6548a127d90c8a\n",
            "  Stored in directory: /root/.cache/pip/wheels/6e/f8/83/534c52482d6da64622ddbf72cd93c35d2ef2881b78fd08ff0c\n",
            "Successfully built GPUtil\n",
            "Installing collected packages: GPUtil\n",
            "Successfully installed GPUtil-1.4.0\n"
          ]
        }
      ]
    },
    {
      "cell_type": "code",
      "source": [
        "import GPUtil\n",
        "GPUtil.showUtilization()\n",
        "GPUs = GPUtil.getGPUs()"
      ],
      "metadata": {
        "colab": {
          "base_uri": "https://localhost:8080/"
        },
        "id": "B_bw8V5kgXDN",
        "outputId": "75b8c774-7399-4309-8b12-d36f467c55fd"
      },
      "execution_count": null,
      "outputs": [
        {
          "output_type": "stream",
          "name": "stdout",
          "text": [
            "| ID | GPU | MEM |\n",
            "------------------\n",
            "|  0 |  0% |  2% |\n"
          ]
        }
      ]
    },
    {
      "cell_type": "markdown",
      "source": [
        "### For Memory information"
      ],
      "metadata": {
        "id": "jfpwzUBJgZDh"
      }
    },
    {
      "cell_type": "code",
      "source": [
        "!cat /proc/meminfo"
      ],
      "metadata": {
        "colab": {
          "base_uri": "https://localhost:8080/"
        },
        "id": "f0f1wQsfgcva",
        "outputId": "1dad1ac9-eedb-456b-8856-b65679cad106"
      },
      "execution_count": null,
      "outputs": [
        {
          "output_type": "stream",
          "name": "stdout",
          "text": [
            "MemTotal:       13298580 kB\n",
            "MemFree:         8067088 kB\n",
            "MemAvailable:   11241992 kB\n",
            "Buffers:          140860 kB\n",
            "Cached:          2870680 kB\n",
            "SwapCached:            0 kB\n",
            "Active:          2257304 kB\n",
            "Inactive:        2588688 kB\n",
            "Active(anon):    1474852 kB\n",
            "Inactive(anon):    10704 kB\n",
            "Active(file):     782452 kB\n",
            "Inactive(file):  2577984 kB\n",
            "Unevictable:           0 kB\n",
            "Mlocked:               0 kB\n",
            "SwapTotal:             0 kB\n",
            "SwapFree:              0 kB\n",
            "Dirty:               652 kB\n",
            "Writeback:             0 kB\n",
            "AnonPages:       1834432 kB\n",
            "Mapped:           779124 kB\n",
            "Shmem:             11460 kB\n",
            "KReclaimable:     111836 kB\n",
            "Slab:             172392 kB\n",
            "SReclaimable:     111836 kB\n",
            "SUnreclaim:        60556 kB\n",
            "KernelStack:        6496 kB\n",
            "PageTables:        19724 kB\n",
            "NFS_Unstable:          0 kB\n",
            "Bounce:                0 kB\n",
            "WritebackTmp:          0 kB\n",
            "CommitLimit:     6649288 kB\n",
            "Committed_AS:    4798356 kB\n",
            "VmallocTotal:   34359738367 kB\n",
            "VmallocUsed:       52736 kB\n",
            "VmallocChunk:          0 kB\n",
            "Percpu:             1528 kB\n",
            "AnonHugePages:         0 kB\n",
            "ShmemHugePages:        0 kB\n",
            "ShmemPmdMapped:        0 kB\n",
            "FileHugePages:         0 kB\n",
            "FilePmdMapped:         0 kB\n",
            "CmaTotal:              0 kB\n",
            "CmaFree:               0 kB\n",
            "HugePages_Total:       0\n",
            "HugePages_Free:        0\n",
            "HugePages_Rsvd:        0\n",
            "HugePages_Surp:        0\n",
            "Hugepagesize:       2048 kB\n",
            "Hugetlb:               0 kB\n",
            "DirectMap4k:      248640 kB\n",
            "DirectMap2M:     7088128 kB\n",
            "DirectMap1G:     8388608 kB\n"
          ]
        }
      ]
    },
    {
      "cell_type": "markdown",
      "source": [
        "### CPU Time"
      ],
      "metadata": {
        "id": "fXaJOOmKgoSv"
      }
    },
    {
      "cell_type": "code",
      "source": [
        "import time as t\n",
        "start_time = t.time()\n",
        "print(\"--- CPU TIME =%s seconds ---\" % (t.time() - start_time))"
      ],
      "metadata": {
        "colab": {
          "base_uri": "https://localhost:8080/"
        },
        "id": "JgBAUZO4gqmF",
        "outputId": "e9f3f27e-635a-4135-b5d0-33940b77a90d"
      },
      "execution_count": null,
      "outputs": [
        {
          "output_type": "stream",
          "name": "stdout",
          "text": [
            "--- CPU TIME =8.344650268554688e-05 seconds ---\n"
          ]
        }
      ]
    },
    {
      "cell_type": "markdown",
      "source": [
        "### Array Sum"
      ],
      "metadata": {
        "id": "ujlmIBu7gx-Z"
      }
    },
    {
      "cell_type": "markdown",
      "source": [
        "### Sequential Execution"
      ],
      "metadata": {
        "id": "Ufwji9pFg0Ko"
      }
    },
    {
      "cell_type": "code",
      "source": [
        "import time \n",
        "from timeit import default_timer as timer \n",
        "import multiprocessing as mp\n",
        "import numpy as np\n",
        "x = [1, 2, 3, 4] # Write input\n",
        "start=timer()\n",
        "y = 0 # Initialize output\n",
        "\n",
        "for i in range(len(x)):\n",
        "  y += x[i] # Add each element to the output variable\n",
        "\n",
        "print(y) # Print output\n",
        "end1=timer()-start\n",
        "print(\"sequential time : \",end1)"
      ],
      "metadata": {
        "colab": {
          "base_uri": "https://localhost:8080/"
        },
        "id": "jgr8kOnsg5Rp",
        "outputId": "7c2e344f-4398-4689-9f77-08e86059b7a7"
      },
      "execution_count": null,
      "outputs": [
        {
          "output_type": "stream",
          "name": "stdout",
          "text": [
            "10\n",
            "sequential time :  0.00024359899998671608\n"
          ]
        }
      ]
    },
    {
      "cell_type": "markdown",
      "source": [
        "### Execution By Chunks "
      ],
      "metadata": {
        "id": "tIklwtzKg9Le"
      }
    },
    {
      "cell_type": "code",
      "source": [
        "import time \n",
        "from timeit import default_timer as timer \n",
        "import multiprocessing as mp\n",
        "import numpy as np\n",
        "x = [1, 2, 4, 4]\n",
        "start=timer()\n",
        "chunk1 = x[:2]\n",
        "chunk2 = x[2:]\n",
        "\n",
        "sum_1 = sum(chunk1)\n",
        "sum_2 = sum(chunk2)\n",
        "\n",
        "result = sum_1 + sum_2\n",
        "\n",
        "print(result)\n",
        "end1=timer()-start\n",
        "print(\"time : \",end1)"
      ],
      "metadata": {
        "id": "atiLThwfhBh5",
        "outputId": "49562fe9-d600-45d2-b799-5c16fcd71a68",
        "colab": {
          "base_uri": "https://localhost:8080/"
        }
      },
      "execution_count": null,
      "outputs": [
        {
          "output_type": "stream",
          "name": "stdout",
          "text": [
            "11\n",
            "time :  0.00022229299975151662\n"
          ]
        }
      ]
    },
    {
      "cell_type": "markdown",
      "source": [
        "### Object 04"
      ],
      "metadata": {
        "id": "hjshhwi6aVQo"
      }
    },
    {
      "cell_type": "markdown",
      "source": [
        "##### Explain the pool and process module with differences.\n",
        "\n"
      ],
      "metadata": {
        "id": "nT9rI6ZIbaNt"
      }
    },
    {
      "cell_type": "markdown",
      "source": [
        "**Pool Module**\n",
        "  - multiprocessing.Pool\n",
        "    - Heterogeneous tasks, not homogeneous tasks.\n",
        "    - Reuse processes, not single use.\n",
        "    - Manage multiple tasks, not single tasks.\n",
        "    - Support for task results, not fire-and-forget.\n",
        "    - Check status of tasks, not opaque.\n",
        "\n",
        "**Process Module**\n",
        "  - multiprocessing.Process\n",
        "    - Homogeneous tasks, not heterogeneous tasks.\n",
        "    - Single-use processes, not multi-use processes.\n",
        "    - Manage a single task, not manage multiple tasks.\n",
        "    - No support for task results.\n",
        "    - No support for checking status."
      ],
      "metadata": {
        "id": "YHM0kg-ubzzY"
      }
    },
    {
      "cell_type": "markdown",
      "source": [
        "### Assignment \n",
        "\n",
        "- Whats matplotlib in python?\n",
        "\n",
        "- Whats the difference between the class and module?\n",
        "\n",
        "- What are the joint class and start class?\n",
        "\n",
        "- What's a speed up?\n",
        "\n",
        "- What's Sleep function in python?\n",
        "\n",
        "- Write a sequencial and parallel(multiprocessing) program to estimate the queue of the numbers in the list. And also compares their execution time taken by using speed up and their line graph \n",
        "\n",
        "\n",
        "\n",
        "\n"
      ],
      "metadata": {
        "id": "kc1jFBtgc7my"
      }
    },
    {
      "cell_type": "markdown",
      "source": [
        "##### What is matplotlib in Python?\n",
        "  - Matplotlib is an amazing visualization library in Python for 2D plots of arrays. Matplotlib is a multi-platform data visualization library built on NumPy arrays and designed to work with the broader SciPy stack. It was introduced by John Hunter in the year 2002.\n",
        "\n",
        "  - One of the greatest benefits of visualization is that it allows us visual access to huge amounts of data in easily digestible visuals. Matplotlib consists of several plots like line, bar, scatter, histogram etc."
      ],
      "metadata": {
        "id": "VVJ6dxJK3ZxI"
      }
    },
    {
      "cell_type": "markdown",
      "source": [
        "##### What are the difference btw class and module?\n",
        "  - Classes\n",
        "    - Classes in python act as a blueprint based on which objects are created. Objects are the very basis for object-oriented programming. The objects are the real-world entities, and class acts as a template that defines those objects.\n",
        "\n",
        "    - These real-world entities have behavior associated with them, and classes define that behavior. A class contains variables and functions which act on the objects.\n",
        "  - Modules\n",
        "    - Modules in Python are files with a .py extension using which we can reuse elements inside that file. When we create a python program, the program may contain inside it functions, variables, and even classes.\n",
        "\n",
        "    - If we want to reuse the same piece of function code or the same class, rewriting it would make our code redundant and repetitive. Instead, we can import that entire file as a module into another program.\n",
        "\n",
        "  - Differences\n",
        "    - The difference between a class and a module in python is that a class is used to define a blueprint for a given object, whereas a module is used to reuse a given piece of code inside another program."
      ],
      "metadata": {
        "id": "VWn3sZIR3xer"
      }
    },
    {
      "cell_type": "markdown",
      "source": [
        "##### What are the join class and start class?\n",
        "  - The start method starts the process's activity. The join method blocks until the process whose join method is called terminates. If the timeout option is provided, it blocks at most timeout seconds. The main purpose of join() is to ensure that a child process has completed before the main process does anything that depends on the work of the child process."
      ],
      "metadata": {
        "id": "GcTcK4Iq35J3"
      }
    },
    {
      "cell_type": "markdown",
      "source": [
        "##### What is SpeedUp?\n",
        "  - In parallel computing, speedup refers to how much a parallel algorithm is faster than a corresponding sequential algorithm. \n",
        "  - A measure of the relative performance improvement when executing a task. Speedup can be defined by studying the different types of performance metrics such as: throughput and latency."
      ],
      "metadata": {
        "id": "jWa7f2Ts4adu"
      }
    },
    {
      "cell_type": "markdown",
      "source": [
        "##### What is Sleep Function?\n",
        "  - The sleep() function suspends execution of the current thread for a given number of seconds. In case of single-threaded programs, sleep() suspends execution of the thread and process. However, the function suspends a thread rather than the whole process in multithreaded programs."
      ],
      "metadata": {
        "id": "4jIM_G4c4hKE"
      }
    },
    {
      "cell_type": "markdown",
      "source": [
        "# Lab 03 - 06th Sept 2022"
      ],
      "metadata": {
        "id": "ZiyVSpEIxlBK"
      }
    },
    {
      "cell_type": "markdown",
      "source": [
        "### Object 5"
      ],
      "metadata": {
        "id": "YRSSPOFqx00A"
      }
    },
    {
      "cell_type": "markdown",
      "source": [
        "##### Write a sequential and  parallel ( multiprocessing ) program to estimate the queue of the numbers in the list and also compare here execution time taken by using speedup and there line graph."
      ],
      "metadata": {
        "id": "2E_4R6Ht4oa3"
      }
    },
    {
      "cell_type": "code",
      "source": [
        "import multiprocessing as mp \n",
        "import os \n",
        "import time\n",
        "from timeit import default_timer as timer\n",
        "import matplotlib.pyplot as plt\n",
        "\n",
        "def cube(n):\n",
        "  time.sleep(0.04)\n",
        "  print(\"Worker process id for {0}: {1}\".format(n, os.getpid())) \n",
        "  print(mp.current_process)\n",
        "  return (n*n*n) \n",
        "  \n",
        "if __name__ == \"__main__\": \n",
        "    # input list \n",
        "    mylist = [5,123]\n",
        "    start=timer()\n",
        "    for i in mylist:\n",
        "      time.sleep(0.04)\n",
        "      print(i*i*i)\n",
        "    end1=timer()-start\n",
        "    print(\"sequential time is \" ,end1)\n",
        "\n",
        "    start=timer()\n",
        "    # creating a pool\n",
        "    p = mp.Pool()\n",
        "    result = p.map(cube, mylist)\n",
        "    \n",
        "    end2=timer()-start\n",
        "    print(\"parallel processing time is \" ,end2)\n",
        "    print(result)\n",
        "    print(\"length of list : \",len(mylist))\n",
        "\n",
        "    fig = plt.figure()\n",
        "    t = ['sequential', 'parallel(pool)']\n",
        "    exe_time = [end1,end2]\n",
        "    plt.bar(t,exe_time, color ='green') \n",
        "    plt.xlabel(\"different functins\") \n",
        "    plt.ylabel(\"time taken\") \n",
        "    plt.title(\"time taken by sequential and pool process\")\n",
        "    plt.show()"
      ],
      "metadata": {
        "id": "_xYqr5BdNXNf",
        "colab": {
          "base_uri": "https://localhost:8080/",
          "height": 469
        },
        "outputId": "ff317e29-ddb5-4b70-f046-e7545b6c3c7f"
      },
      "execution_count": 1,
      "outputs": [
        {
          "output_type": "stream",
          "name": "stdout",
          "text": [
            "125\n",
            "1860867\n",
            "sequential time is  0.08046244700000216\n",
            "Worker process id for 123: 119Worker process id for 5: 118\n",
            "\n",
            "<function current_process at 0x7f3de9a30a70><function current_process at 0x7f3de9a30a70>\n",
            "\n",
            "parallel processing time is  0.11299761399999397\n",
            "[125, 1860867]\n",
            "length of list :  2\n"
          ]
        },
        {
          "output_type": "display_data",
          "data": {
            "text/plain": [
              "<Figure size 432x288 with 1 Axes>"
            ],
            "image/png": "[encoded data removed]"
          },
          "metadata": {
            "needs_background": "light"
          }
        }
      ]
    },
    {
      "cell_type": "markdown",
      "source": [
        "### Sequential"
      ],
      "metadata": {
        "id": "MmCAzww1N7cU"
      }
    },
    {
      "cell_type": "code",
      "source": [
        "import time\n",
        "from timeit import default_timer as timer\n",
        "from multiprocessing import Pool, cpu_count\n",
        "\n",
        "\n",
        "def power(x, n):\n",
        "\n",
        "    time.sleep(1)\n",
        "\n",
        "    return x ** n\n",
        "\n",
        "\n",
        "def main():\n",
        "\n",
        "    start = timer()\n",
        "\n",
        "    print(f'starting computations on {cpu_count()} cores')\n",
        "\n",
        "    values = [1,2,3,4,5]\n",
        "    values1=[3,3,3,3,3]\n",
        "    res = list(map(power,values,values1))\n",
        "    print(res)\n",
        "    end = timer()\n",
        "    print(f'elapsed time: {end - start}')\n",
        "\n",
        "\n",
        "if __name__ == '__main__':\n",
        "    main()"
      ],
      "metadata": {
        "id": "Qgeii7qUNbHl",
        "colab": {
          "base_uri": "https://localhost:8080/"
        },
        "outputId": "7fc2b579-cd5c-40bb-c25b-7eafbbb402a6"
      },
      "execution_count": 2,
      "outputs": [
        {
          "output_type": "stream",
          "name": "stdout",
          "text": [
            "starting computations on 2 cores\n",
            "[1, 8, 27, 64, 125]\n",
            "elapsed time: 5.004775669999987\n"
          ]
        }
      ]
    },
    {
      "cell_type": "markdown",
      "source": [
        "### Parallel\n"
      ],
      "metadata": {
        "id": "rzNRDc9WOeri"
      }
    },
    {
      "cell_type": "code",
      "source": [
        "import time\n",
        "from timeit import default_timer as timer\n",
        "from multiprocessing import Pool, cpu_count\n",
        "import sys\n",
        "\n",
        "\n",
        "def power(x, n):\n",
        "\n",
        "    time.sleep(1)\n",
        "\n",
        "    return x ** n\n",
        "\n",
        "\n",
        "def main():\n",
        "\n",
        "    start = timer()\n",
        "\n",
        "    print(f'starting computations on {cpu_count()} cores')\n",
        "\n",
        "    values = ((2, 3), (4, 3), (5, 3),(6,3),(4,3))\n",
        "\n",
        "    with Pool() as pool:\n",
        "        res = pool.starmap(power, values)\n",
        "        print(res)\n",
        "\n",
        "    end = timer()\n",
        "    print(f'elapsed time: {end - start}')\n",
        "\n",
        "\n",
        "if __name__ == '__main__':\n",
        "    main()"
      ],
      "metadata": {
        "id": "vBBhfrTEOiWV",
        "colab": {
          "base_uri": "https://localhost:8080/"
        },
        "outputId": "adf7b3ca-2951-42dc-854a-ab710db23900"
      },
      "execution_count": 3,
      "outputs": [
        {
          "output_type": "stream",
          "name": "stdout",
          "text": [
            "starting computations on 2 cores\n",
            "[8, 64, 125, 216, 64]\n",
            "elapsed time: 3.056145268999984\n"
          ]
        }
      ]
    },
    {
      "cell_type": "markdown",
      "source": [
        "### Experimenting With Matplotlib For Optimization Comparision"
      ],
      "metadata": {
        "id": "WoaV6xg2O1fo"
      }
    },
    {
      "cell_type": "code",
      "source": [
        "import matplotlib.pyplot as plt\n",
        "\n",
        "plt.title(\"Sequential time Vs Parallel time\")\n",
        "plt.ylabel('Time in second')\n",
        "plt.xlabel('Data length')\n",
        "\n",
        "data_size = [5,7,9,11]\n",
        "sequential_time = [5.007,7.009,9.009,11.019] \n",
        "parallel_time = [3.031,4.034,5.033,6.044] \n",
        "  \n",
        "# Function to plot \n",
        "plt.plot(data_size,sequential_time,label=\"Sequential Time\")\n",
        "plt.plot(data_size,parallel_time,label=\"Parallel Time\") \n",
        "  \n",
        "# function to show the plot \n",
        "plt.legend() "
      ],
      "metadata": {
        "id": "1LkUVzVkO5uP",
        "colab": {
          "base_uri": "https://localhost:8080/",
          "height": 312
        },
        "outputId": "6ceb6037-48df-4880-cb82-3724295d7dcd"
      },
      "execution_count": 4,
      "outputs": [
        {
          "output_type": "execute_result",
          "data": {
            "text/plain": [
              "<matplotlib.legend.Legend at 0x7f3de6a54510>"
            ]
          },
          "metadata": {},
          "execution_count": 4
        },
        {
          "output_type": "display_data",
          "data": {
            "text/plain": [
              "<Figure size 432x288 with 1 Axes>"
            ],
            "image/png": "[encoded data removed]"
          },
          "metadata": {
            "needs_background": "light"
          }
        }
      ]
    },
    {
      "cell_type": "markdown",
      "source": [
        "### Speed up Graph\n"
      ],
      "metadata": {
        "id": "lGfArwyLO9wO"
      }
    },
    {
      "cell_type": "code",
      "source": [
        "import matplotlib.pyplot as plt\n",
        "\n",
        "plt.title(\"Speed Up Time\")\n",
        "plt.ylabel('Time in second')\n",
        "plt.xlabel('Data length')\n",
        "\n",
        "data_size = [5,7,9,11]\n",
        "speedup_data = [1.65,1.737,1.789,1.823]\n",
        "  \n",
        "# Function to plot \n",
        "plt.plot(data_size,speedup_data,label=\"Speed Up Time\")\n",
        "  \n",
        "# function to show the plot \n",
        "plt.legend()"
      ],
      "metadata": {
        "id": "f_56iYB8O-dp",
        "outputId": "652591a4-8bf8-4cde-b15d-e63496e186c5",
        "colab": {
          "base_uri": "https://localhost:8080/",
          "height": 312
        }
      },
      "execution_count": 5,
      "outputs": [
        {
          "output_type": "execute_result",
          "data": {
            "text/plain": [
              "<matplotlib.legend.Legend at 0x7f3de6a29990>"
            ]
          },
          "metadata": {},
          "execution_count": 5
        },
        {
          "output_type": "display_data",
          "data": {
            "text/plain": [
              "<Figure size 432x288 with 1 Axes>"
            ],
            "image/png": "[encoded data removed]"
          },
          "metadata": {
            "needs_background": "light"
          }
        }
      ]
    },
    {
      "cell_type": "markdown",
      "source": [
        "# Lab 04 - 13th Sept 2022"
      ],
      "metadata": {
        "id": "6svfeV58MIoq"
      }
    },
    {
      "cell_type": "markdown",
      "source": [
        "### Object 6"
      ],
      "metadata": {
        "id": "Frnbhi8eMWWX"
      }
    },
    {
      "cell_type": "markdown",
      "source": [
        "##### write a program to add two matrix and store into results into the third matrix also calculate the sequencial time and parallel time. "
      ],
      "metadata": {
        "id": "44AuLJ2lMZyI"
      }
    },
    {
      "cell_type": "code",
      "source": [
        "import time \n",
        "from timeit import default_timer as timer \n",
        "import multiprocessing as mp\n",
        "import numpy as np\n",
        "import matplotlib.pyplot as plt\n",
        "import threading\n",
        "\n",
        "X = [[1,2,3],[4 ,5,6],[7 ,8,9]] \n",
        "  \n",
        "Y = [[9,8,7],[6,5,4],[3,2,1]] \n",
        "  \n",
        "result = [[0,0,0],[0,0,0],[0,0,0]] \n",
        "\n",
        "start=timer()\n",
        "for i in range(len(X)):\n",
        "    for j in range(len(X[0])):\n",
        "      time.sleep(0.025) \n",
        "      result[i][j] = X[i][j] + Y[i][j] \n",
        "  \n",
        "for r in result: \n",
        "    print(r) \n",
        "end1=timer()-start\n",
        "print(\"sequential time : \",end1)"
      ],
      "metadata": {
        "colab": {
          "base_uri": "https://localhost:8080/"
        },
        "id": "tZiwh7cdXgxA",
        "outputId": "5e041688-2431-4c82-d6cc-cda52997667b"
      },
      "execution_count": 6,
      "outputs": [
        {
          "output_type": "stream",
          "name": "stdout",
          "text": [
            "[10, 10, 10]\n",
            "[10, 10, 10]\n",
            "[10, 10, 10]\n",
            "sequential time :  0.22911412999999925\n"
          ]
        }
      ]
    },
    {
      "cell_type": "code",
      "source": [
        "start=timer()\n",
        "def sum(p,q):\n",
        "  time.sleep(0.025)\n",
        "  res=np.add(p,q)\n",
        "  return res\n",
        "\n",
        "p1=mp.Pool()\n",
        "p1=map(sum,X,Y)\n",
        "end2=timer()-start\n",
        "print(\"pool time : \",end2)\n",
        "start=timer()\n",
        "p2=mp.Process(target=sum,args=(X,Y,))\n",
        "p2.start()\n",
        "p2.join()\n",
        "end3=timer()-start\n",
        "print(\"process time : \",end3)\n",
        "start=timer()\n",
        "p3=threading.Thread(target=sum,args=(X,Y,))\n",
        "p3.start()\n",
        "end4=timer()-start\n",
        "print(\"process time : \",end4)\n",
        "\n",
        "speed_up_pool=end1/end2\n",
        "speed_up_process=end1/end3\n",
        "speed_up_threading=end1/end4\n",
        "print('speed_up of pool : ',speed_up_pool)\n",
        "print('speed_up_process : ',speed_up_process)\n",
        "print('speed_up_threading : ',speed_up_threading)\n"
      ],
      "metadata": {
        "colab": {
          "base_uri": "https://localhost:8080/"
        },
        "id": "KIzbBc0SX_9B",
        "outputId": "14d7e86a-e790-4cc4-d068-49f5ed1cd886"
      },
      "execution_count": 7,
      "outputs": [
        {
          "output_type": "stream",
          "name": "stdout",
          "text": [
            "pool time :  0.015821600999998964\n",
            "process time :  0.0399742860000174\n",
            "process time :  0.0018188500000064778\n",
            "speed_up of pool :  14.48109644529743\n",
            "speed_up_process :  5.7315377690523235\n",
            "speed_up_threading :  125.96647881858496\n"
          ]
        }
      ]
    },
    {
      "cell_type": "code",
      "source": [
        "\n",
        "fig = plt.figure()\n",
        "t = ['sequential', 'pool', 'process']\n",
        "exe_time= [end1,end2,end3]\n",
        "plt.bar(t,exe_time, color ='green') \n",
        "plt.xlabel(\"different functions\") \n",
        "plt.ylabel(\"time taken\") \n",
        "plt.title(\"Analization of sequential, pool and process time\")\n",
        "plt.show()"
      ],
      "metadata": {
        "colab": {
          "base_uri": "https://localhost:8080/",
          "height": 295
        },
        "id": "Xx-Tj6v4YBVW",
        "outputId": "588b848f-3679-4c25-aba6-0000fad11f0a"
      },
      "execution_count": 8,
      "outputs": [
        {
          "output_type": "display_data",
          "data": {
            "text/plain": [
              "<Figure size 432x288 with 1 Axes>"
            ],
            "image/png": "[encoded data removed]"
          },
          "metadata": {
            "needs_background": "light"
          }
        }
      ]
    },
    {
      "cell_type": "code",
      "source": [
        "fig1 = plt.figure(figsize=(10,5))\n",
        "t = ['pool', 'process','threading']\n",
        "exe_time = [speed_up_pool,speed_up_process,speed_up_threading]\n",
        "plt.bar(t,exe_time, color ='green') \n",
        "plt.xlabel(\"different functins\") \n",
        "plt.ylabel(\"speed up\") \n",
        "plt.title(\"analization of pool and process and multithreading speed up\")\n",
        "plt.show()\n"
      ],
      "metadata": {
        "id": "mdGdbJv5Y0MY",
        "outputId": "fbdfceac-24f1-4bff-883f-62eb764584c8",
        "colab": {
          "base_uri": "https://localhost:8080/",
          "height": 350
        }
      },
      "execution_count": 9,
      "outputs": [
        {
          "output_type": "display_data",
          "data": {
            "text/plain": [
              "<Figure size 720x360 with 1 Axes>"
            ],
            "image/png": "[encoded data removed]"
          },
          "metadata": {
            "needs_background": "light"
          }
        }
      ]
    },
    {
      "cell_type": "markdown",
      "source": [
        "##### why we use the sleep function along with the pool but not process "
      ],
      "metadata": {
        "id": "FEF3R0jdUY3h"
      }
    },
    {
      "cell_type": "markdown",
      "source": [
        "**Sleep Function** - Its a temporary waiting start\n",
        "\n",
        "**Pool Function** - Its automatic by computer, so we need sleep() method. \n",
        "\n",
        "**Process Function** - manually split the data & call the join() method. \n",
        "\n",
        "\n"
      ],
      "metadata": {
        "id": "9qDwoCtj1i0L"
      }
    },
    {
      "cell_type": "markdown",
      "source": [
        "#### why we use the start function and join with the multiprocessing model and multithreading model "
      ],
      "metadata": {
        "id": "EXyth6bwULKz"
      }
    },
    {
      "cell_type": "markdown",
      "source": [
        "**Start Function** - Start process activities \n",
        "\n",
        "**Join() Function** - ensure that a child process has completed before the main process does anything that depends on the work of child process."
      ],
      "metadata": {
        "id": "yxr8BCdF2Zv_"
      }
    },
    {
      "cell_type": "markdown",
      "source": [
        "# Lab 05 - 20th Sept 2022"
      ],
      "metadata": {
        "id": "KEnfStS00OhD"
      }
    },
    {
      "cell_type": "markdown",
      "source": [
        "##### Object 7"
      ],
      "metadata": {
        "id": "e22tj6ws1Vf7"
      }
    },
    {
      "cell_type": "markdown",
      "source": [
        "##### Write a sequentialand parallel program to estimate the multiplication of the two matrix and store the result in the new matrix. And also compares their execution time taken by using speedup and their line graph?"
      ],
      "metadata": {
        "id": "tHULAMykeVHC"
      }
    },
    {
      "cell_type": "code",
      "source": [
        "import time \n",
        "from timeit import default_timer as timer\n",
        "import multiprocessing as mp\n",
        "import numpy as np\n",
        "import matplotlib.pyplot as plt \n",
        "import threading "
      ],
      "metadata": {
        "id": "L4y1zIqhe0l7"
      },
      "execution_count": 10,
      "outputs": []
    },
    {
      "cell_type": "code",
      "source": [
        "# function with sleep time\n",
        "def multiply_matrix(X,Y):\n",
        "  result = [[0,0,0],[0,0,0],[0,0,0]] \n",
        "  for i in range(len(X)):\n",
        "    for j in range(len(Y[0])):\n",
        "        for k in range(len(Y)):\n",
        "          time.sleep(0.0025)\n",
        "          result[i][j] += X[i][k] * Y[k][j]\n",
        "  \n",
        "  for r in result: \n",
        "      print(r) \n",
        "\n",
        "# function without sleep time\n",
        "def multiply_matrix_2(X,Y):\n",
        "  result = [[0,0,0],[0,0,0],[0,0,0]] \n",
        "  for i in range(len(X)):\n",
        "    for j in range(len(Y[0])):\n",
        "        for k in range(len(Y)):\n",
        "          result[i][j] += X[i][k] * Y[k][j]\n",
        "  \n",
        "  for r in result: \n",
        "      print(r) "
      ],
      "metadata": {
        "id": "rUSpDDXgVbGL"
      },
      "execution_count": 11,
      "outputs": []
    },
    {
      "cell_type": "code",
      "source": [
        "X = [[1,2,3],[4 ,5,6],[7 ,8,9]] \n",
        "Y = [[9,8,7],[6,5,4],[3,2,1]] "
      ],
      "metadata": {
        "id": "l-tG321HozFL"
      },
      "execution_count": 12,
      "outputs": []
    },
    {
      "cell_type": "code",
      "source": [
        "# sequential time measurement \n",
        "start=timer()\n",
        "multiply_matrix(X,Y)\n",
        "end1=timer()-start\n",
        "print(\"sequential time : \",end1)"
      ],
      "metadata": {
        "id": "ZDGbJpcXozyS",
        "colab": {
          "base_uri": "https://localhost:8080/"
        },
        "outputId": "59a9823d-b88c-44e2-865e-fcf69c69b6fe"
      },
      "execution_count": 13,
      "outputs": [
        {
          "output_type": "stream",
          "name": "stdout",
          "text": [
            "[30, 24, 18]\n",
            "[84, 69, 54]\n",
            "[138, 114, 90]\n",
            "sequential time :  0.0698432429999798\n"
          ]
        }
      ]
    },
    {
      "cell_type": "code",
      "source": [
        "# pool time measurement \n",
        "start=timer()\n",
        "p1=mp.Pool()\n",
        "p1=map(multiply_matrix,X,Y)\n",
        "end2=timer()-start\n",
        "print(\"pool time : \",end2)"
      ],
      "metadata": {
        "id": "dM2gsOpzo1zk",
        "colab": {
          "base_uri": "https://localhost:8080/"
        },
        "outputId": "3c73c78a-c9d3-4508-93b1-e9058acb8aa8"
      },
      "execution_count": 14,
      "outputs": [
        {
          "output_type": "stream",
          "name": "stdout",
          "text": [
            "pool time :  0.01696218099999669\n"
          ]
        }
      ]
    },
    {
      "cell_type": "code",
      "source": [
        "# process time measurement \n",
        "start=timer()\n",
        "p2=mp.Process(target=multiply_matrix_2,args=(X,Y,))\n",
        "p2.start()\n",
        "p2.join()\n",
        "end3=timer()-start\n",
        "print(\"process time : \",end3)"
      ],
      "metadata": {
        "id": "fMjqqdNJo4dv",
        "colab": {
          "base_uri": "https://localhost:8080/"
        },
        "outputId": "39ee27d3-d07d-482f-8a56-48c74e25a270"
      },
      "execution_count": 15,
      "outputs": [
        {
          "output_type": "stream",
          "name": "stdout",
          "text": [
            "[30, 24, 18]\n",
            "[84, 69, 54]\n",
            "[138, 114, 90]\n",
            "process time :  0.03612914900003261\n"
          ]
        }
      ]
    },
    {
      "cell_type": "code",
      "source": [
        "# thread time measurement \n",
        "start=timer()\n",
        "p3=threading.Thread(target=multiply_matrix_2,args=(X,Y,))\n",
        "p3.start()\n",
        "end4=timer()-start\n",
        "print(\"thread time : \",end4)"
      ],
      "metadata": {
        "id": "Mel3mf2Mo9Bk",
        "colab": {
          "base_uri": "https://localhost:8080/"
        },
        "outputId": "f62be165-ebb4-4286-d29c-4a7587227ed1"
      },
      "execution_count": 16,
      "outputs": [
        {
          "output_type": "stream",
          "name": "stdout",
          "text": [
            "[30, 24, 18]thread time : \n",
            "[84, 69, 54]\n",
            "[138, 114, 90]\n",
            " 0.0011446789999922657\n"
          ]
        }
      ]
    },
    {
      "cell_type": "code",
      "source": [
        "# speedup calculation\n",
        "speed_up_pool=end1/end2\n",
        "speed_up_process=end1/end3\n",
        "speed_up_threading=end1/end4\n",
        "print('speed_up of pool : ',speed_up_pool)\n",
        "print('speed_up_process : ',speed_up_process)\n",
        "print('speed_up_threading : ',speed_up_threading)"
      ],
      "metadata": {
        "id": "QzSi9RBZo_Qq",
        "colab": {
          "base_uri": "https://localhost:8080/"
        },
        "outputId": "8f8941ac-689e-4c1a-d389-4d2c5bec3070"
      },
      "execution_count": 17,
      "outputs": [
        {
          "output_type": "stream",
          "name": "stdout",
          "text": [
            "speed_up of pool :  4.117586234930132\n",
            "speed_up_process :  1.9331549436693554\n",
            "speed_up_threading :  61.01557117799113\n"
          ]
        }
      ]
    },
    {
      "cell_type": "code",
      "source": [
        "fig = plt.figure()\n",
        "t = ['sequential', 'pool', 'process','threading']\n",
        "exe_time= [end1,end2,end3,end4]\n",
        "plt.bar(t,exe_time, color=(0.1, 0.1, 0.1, 0.1),  edgecolor='red') \n",
        "plt.xlabel(\"different functions\") \n",
        "plt.ylabel(\"time taken\") \n",
        "plt.title(\"analization of sequential,pool and process time\")\n",
        "plt.show()"
      ],
      "metadata": {
        "id": "Cd9PSNoepEsK",
        "colab": {
          "base_uri": "https://localhost:8080/",
          "height": 295
        },
        "outputId": "dd8de6f4-2ec9-449c-a5df-d9847ea66f49"
      },
      "execution_count": 18,
      "outputs": [
        {
          "output_type": "display_data",
          "data": {
            "text/plain": [
              "<Figure size 432x288 with 1 Axes>"
            ],
            "image/png": "[encoded data removed]"
          },
          "metadata": {
            "needs_background": "light"
          }
        }
      ]
    },
    {
      "cell_type": "code",
      "source": [
        "fig1 = plt.figure(figsize=(8,4))\n",
        "t = ['pool', 'process','threading']\n",
        "exe_time = [speed_up_pool,speed_up_process,speed_up_threading]\n",
        "plt.bar(t,exe_time, color=(0.1, 0.1, 0.1, 0.1),  edgecolor='red') \n",
        "plt.xlabel(\"different functins\") \n",
        "plt.ylabel(\"speed up\") \n",
        "plt.title(\"Pool and process and multithreading speed up\")\n",
        "plt.show()"
      ],
      "metadata": {
        "id": "3R703hojpIYD",
        "colab": {
          "base_uri": "https://localhost:8080/",
          "height": 295
        },
        "outputId": "5de48b8c-25e6-4529-961e-8f3654c3f232"
      },
      "execution_count": 19,
      "outputs": [
        {
          "output_type": "display_data",
          "data": {
            "text/plain": [
              "<Figure size 576x288 with 1 Axes>"
            ],
            "image/png": "[encoded data removed]"
          },
          "metadata": {
            "needs_background": "light"
          }
        }
      ]
    },
    {
      "cell_type": "markdown",
      "source": [
        "##### Object 8 "
      ],
      "metadata": {
        "id": "E5bY2xDCpO7T"
      }
    },
    {
      "cell_type": "markdown",
      "source": [
        "##### Write a Program to calculate Nth Fibonacci Number using sequential and Multiprocessing as well as multithreading methods.Also show the graphical representation of speedup"
      ],
      "metadata": {
        "id": "g3Nsa5TeccMe"
      }
    },
    {
      "cell_type": "code",
      "source": [
        "import time \n",
        "from timeit import default_timer as timer \n",
        "import multiprocessing as mp\n",
        "import numpy as np\n",
        "import matplotlib.pyplot as plt\n",
        "import threading"
      ],
      "metadata": {
        "id": "5Y-wFyM-plle"
      },
      "execution_count": 20,
      "outputs": []
    },
    {
      "cell_type": "code",
      "source": [
        "# function with sleep time\n",
        "def fibonacci(n):\n",
        "   counter = 0\n",
        "\n",
        "   first = 0\n",
        "   second = 1\n",
        "   temp = 0\n",
        "   while counter <= n:\n",
        "      # time.sleep(0.025)\n",
        "\n",
        "      temp = first + second\n",
        "      first = second\n",
        "      second = temp\n",
        "      counter = counter + 1\n",
        "   print(first)\n",
        "\n",
        "# function without sleep time\n",
        "def fibonacci2(n):\n",
        "   counter = 0\n",
        "\n",
        "   first = 0\n",
        "   second = 1\n",
        "   temp = 0\n",
        "\n",
        "   while counter <= n:\n",
        "      time.sleep(0.025)\n",
        "      temp = first + second\n",
        "      first = second\n",
        "      second = temp\n",
        "      counter = counter + 1\n",
        "   print(first)"
      ],
      "metadata": {
        "id": "Bk8rWV_ZpoG1"
      },
      "execution_count": 21,
      "outputs": []
    },
    {
      "cell_type": "code",
      "source": [
        "list1 = [2,3,4,6,8,9,2,4,5,6] "
      ],
      "metadata": {
        "id": "PfD4Yd2IpuKA"
      },
      "execution_count": 22,
      "outputs": []
    },
    {
      "cell_type": "code",
      "source": [
        "# sequential time measurement \n",
        "start=timer()\n",
        "for i in list1:\n",
        "  time.sleep(0.025)\n",
        "  fibonacci2(i)\n",
        "end1=timer()-start\n",
        "print(\"sequential time : \",end1)"
      ],
      "metadata": {
        "id": "QoIL6ttnpwDo",
        "colab": {
          "base_uri": "https://localhost:8080/"
        },
        "outputId": "14530a66-d7ab-4b28-b5f3-781f7cd782a7"
      },
      "execution_count": 23,
      "outputs": [
        {
          "output_type": "stream",
          "name": "stdout",
          "text": [
            "2\n",
            "3\n",
            "5\n",
            "13\n",
            "34\n",
            "55\n",
            "2\n",
            "5\n",
            "8\n",
            "13\n",
            "sequential time :  1.737677381000026\n"
          ]
        }
      ]
    },
    {
      "cell_type": "code",
      "source": [
        "# pool time measurement \n",
        "start=timer()\n",
        "p1=mp.Pool()\n",
        "p1=map(fibonacci2,list1)\n",
        "end2=timer()-start\n",
        "print(\"pool time : \",end2)"
      ],
      "metadata": {
        "id": "BfdBJ89OpzWG",
        "colab": {
          "base_uri": "https://localhost:8080/"
        },
        "outputId": "3ddcffbf-2e22-4f7a-9484-e1c6cbe49324"
      },
      "execution_count": 24,
      "outputs": [
        {
          "output_type": "stream",
          "name": "stdout",
          "text": [
            "pool time :  0.02409591600002159\n"
          ]
        }
      ]
    },
    {
      "cell_type": "code",
      "source": [
        "# process time measurement \n",
        "start=timer()\n",
        "for i in list1:\n",
        "  p2=mp.Process(target=fibonacci,args=(i,))\n",
        "  p2.start()\n",
        "  p2.join()\n",
        "end3=timer()-start\n",
        "print(\"process time : \",end3)"
      ],
      "metadata": {
        "id": "BHJwajwep03F",
        "colab": {
          "base_uri": "https://localhost:8080/"
        },
        "outputId": "e93899d4-6b9c-4b7d-b77a-85a8530d298b"
      },
      "execution_count": 25,
      "outputs": [
        {
          "output_type": "stream",
          "name": "stdout",
          "text": [
            "2\n",
            "3\n",
            "5\n",
            "13\n",
            "34\n",
            "55\n",
            "2\n",
            "5\n",
            "8\n",
            "13\n",
            "process time :  0.1671746669999834\n"
          ]
        }
      ]
    },
    {
      "cell_type": "code",
      "source": [
        "# thread time measurement \n",
        "start=timer()\n",
        "for i in list1:\n",
        "  p3=threading.Thread(target=fibonacci,args=(i,))\n",
        "  p3.start()\n",
        "  p3.join()\n",
        "end4=timer()-start\n",
        "print(\"thread time : \",end4)"
      ],
      "metadata": {
        "id": "UJKLa1tEp22N",
        "colab": {
          "base_uri": "https://localhost:8080/"
        },
        "outputId": "6b4fac29-e61a-4e63-ae5f-f1423f840df6"
      },
      "execution_count": 26,
      "outputs": [
        {
          "output_type": "stream",
          "name": "stdout",
          "text": [
            "2\n",
            "3\n",
            "5\n",
            "13\n",
            "34\n",
            "55\n",
            "2\n",
            "5\n",
            "8\n",
            "13\n",
            "thread time :  0.018641029999969305\n"
          ]
        }
      ]
    },
    {
      "cell_type": "code",
      "source": [
        "# speedup calculation\n",
        "speed_up_pool=end1/end2\n",
        "speed_up_process=end1/end3\n",
        "speed_up_threading=end1/end4\n",
        "print('speed_up of pool : ',speed_up_pool)\n",
        "print('speed_up_process : ',speed_up_process)\n",
        "print('speed_up_threading : ',speed_up_threading)"
      ],
      "metadata": {
        "id": "otgtysR4p6Rd",
        "colab": {
          "base_uri": "https://localhost:8080/"
        },
        "outputId": "9f59f559-03f9-4c99-b6b9-9ef9499f5416"
      },
      "execution_count": 27,
      "outputs": [
        {
          "output_type": "stream",
          "name": "stdout",
          "text": [
            "speed_up of pool :  72.11501654464885\n",
            "speed_up_process :  10.39438218830248\n",
            "speed_up_threading :  93.21788447327681\n"
          ]
        }
      ]
    },
    {
      "cell_type": "code",
      "source": [
        "fig = plt.figure()\n",
        "t = ['sequential', 'pool', 'process','threading']\n",
        "exe_time= [end1,end2,end3,end4]\n",
        "plt.bar(t,exe_time, color= 'indigo',  edgecolor='red') \n",
        "plt.xlabel(\"different functins\") \n",
        "plt.ylabel(\"time taken\") \n",
        "plt.title(\"analization of sequential,pool and process time\")\n",
        "plt.show()"
      ],
      "metadata": {
        "id": "Vbtfy3sKp84B",
        "colab": {
          "base_uri": "https://localhost:8080/",
          "height": 295
        },
        "outputId": "a111fdf5-424b-4df6-86fc-ff16ec37015b"
      },
      "execution_count": 28,
      "outputs": [
        {
          "output_type": "display_data",
          "data": {
            "text/plain": [
              "<Figure size 432x288 with 1 Axes>"
            ],
            "image/png": "[encoded data removed]"
          },
          "metadata": {
            "needs_background": "light"
          }
        }
      ]
    },
    {
      "cell_type": "code",
      "source": [
        "fig1 = plt.figure(figsize=(8,4))\n",
        "t = ['pool', 'process','threading']\n",
        "exe_time = [speed_up_pool,speed_up_process,speed_up_threading]\n",
        "plt.bar(t,exe_time, color= 'green',  edgecolor='red') \n",
        "plt.xlabel(\"different functins\") \n",
        "plt.ylabel(\"speed up\") \n",
        "plt.title(\"Pool and process and multithreading speed up\")\n",
        "plt.show()"
      ],
      "metadata": {
        "id": "t_KtGF0XqA9M",
        "colab": {
          "base_uri": "https://localhost:8080/",
          "height": 295
        },
        "outputId": "642b9174-20cf-46ca-ac80-8a9ad5a635bd"
      },
      "execution_count": 29,
      "outputs": [
        {
          "output_type": "display_data",
          "data": {
            "text/plain": [
              "<Figure size 576x288 with 1 Axes>"
            ],
            "image/png": "[encoded data removed]"
          },
          "metadata": {
            "needs_background": "light"
          }
        }
      ]
    },
    {
      "cell_type": "markdown",
      "source": [
        "##### Object 9 "
      ],
      "metadata": {
        "id": "HUYjzpXZZnRM"
      }
    },
    {
      "cell_type": "markdown",
      "source": [
        "##### Write a Program to find transpose of a matrix in sequential and parallel processing and use graph to show comparisons "
      ],
      "metadata": {
        "id": "zWJ7Q2LYckj7"
      }
    },
    {
      "cell_type": "code",
      "source": [
        "import time \n",
        "from timeit import default_timer as timer \n",
        "import multiprocessing as mp\n",
        "import numpy as np\n",
        "import matplotlib.pyplot as plt\n",
        "import threading\n",
        "import platform\n",
        "import os"
      ],
      "metadata": {
        "id": "7BEMXUIFZs4J"
      },
      "execution_count": 30,
      "outputs": []
    },
    {
      "cell_type": "code",
      "source": [
        "from re import M\n",
        "# with sleep function\n",
        "def transposeMatrix(m):\n",
        "  time.sleep(1)\n",
        "\n",
        "  # res = [[m[j][i] for j in range(len(m))] for i in range(len(m[0]))]\n",
        "  # for row in res:\n",
        "  #     print(row)\n",
        "\n",
        "  for i in range(len(m)):\n",
        "   # iterate through columns\n",
        "   for j in range(len(m[0])):\n",
        "       result[j][i] = m[i][j]\n",
        "\n",
        "  for r in result:\n",
        "    print(r)\n",
        "\n",
        "  \n",
        "\n",
        "# without sleep function\n",
        "def transposeMatrix2(m):\n",
        " \n",
        "  # res = [[m[j][i] for j in range(len(m))] for i in range(len(m[0]))]\n",
        "  # for row in res:\n",
        "  #     print(row)\n",
        "\n",
        "  for i in range(len(m)):\n",
        "   # iterate through columns\n",
        "   for j in range(len(m[0])):\n",
        "       result[j][i] = m[i][j]\n",
        "\n",
        "  for r in result:\n",
        "    print(r)\n"
      ],
      "metadata": {
        "id": "giJlTYwsZw2S"
      },
      "execution_count": 31,
      "outputs": []
    },
    {
      "cell_type": "code",
      "source": [
        "m = [[1,2],[3,4],[5,6]]\n",
        "result = [[0,0,0],[0,0,0]]"
      ],
      "metadata": {
        "id": "8lckjJrlZ0Zq"
      },
      "execution_count": 32,
      "outputs": []
    },
    {
      "cell_type": "code",
      "source": [
        "# sequential time measurement \n",
        "start=timer()\n",
        "transposeMatrix(m)\n",
        "end1=timer()-start\n",
        "print(\"sequential time : \",end1)"
      ],
      "metadata": {
        "colab": {
          "base_uri": "https://localhost:8080/"
        },
        "id": "9ZvVyEZTZ3zh",
        "outputId": "47f9f778-6f59-4d08-82f2-a62b11bc3594"
      },
      "execution_count": 33,
      "outputs": [
        {
          "output_type": "stream",
          "name": "stdout",
          "text": [
            "[1, 3, 5]\n",
            "[2, 4, 6]\n",
            "sequential time :  1.0013270690000127\n"
          ]
        }
      ]
    },
    {
      "cell_type": "code",
      "source": [
        "# pool time measurement \n",
        "start=timer()\n",
        "p1=mp.Pool()\n",
        "p1=map(transposeMatrix,m)\n",
        "end2=timer()-start\n",
        "print(\"pool time : \",end2)"
      ],
      "metadata": {
        "colab": {
          "base_uri": "https://localhost:8080/"
        },
        "id": "4WYZtWjcZ6cz",
        "outputId": "d817c349-7b0b-4d76-ef7d-54264a2f8627"
      },
      "execution_count": 34,
      "outputs": [
        {
          "output_type": "stream",
          "name": "stdout",
          "text": [
            "pool time :  0.018034456000009413\n"
          ]
        }
      ]
    },
    {
      "cell_type": "code",
      "source": [
        "# process time measurement \n",
        "start=timer()\n",
        "p2=mp.Process(target=transposeMatrix2,args=(m,))\n",
        "p2.start()\n",
        "p2.join()\n",
        "end3=timer()-start\n",
        "print(\"process time : \",end3)"
      ],
      "metadata": {
        "colab": {
          "base_uri": "https://localhost:8080/"
        },
        "id": "fr66dH_1Z9zd",
        "outputId": "7ff8144b-045d-44c7-d017-5fa3fc5b72d4"
      },
      "execution_count": 35,
      "outputs": [
        {
          "output_type": "stream",
          "name": "stdout",
          "text": [
            "[1, 3, 5]\n",
            "[2, 4, 6]\n",
            "process time :  0.029777760999991187\n"
          ]
        }
      ]
    },
    {
      "cell_type": "code",
      "source": [
        "# thread time measurement \n",
        "start=timer()\n",
        "p3=threading.Thread(target=transposeMatrix2,args=(m,))\n",
        "p3.start()\n",
        "p3.join()\n",
        "end4=timer()-start\n",
        "print(\"thread time : \",end4)"
      ],
      "metadata": {
        "colab": {
          "base_uri": "https://localhost:8080/"
        },
        "id": "IwdCGOFgaATD",
        "outputId": "3a179fb3-ff67-401e-b1a1-1836f2a2b874"
      },
      "execution_count": 36,
      "outputs": [
        {
          "output_type": "stream",
          "name": "stdout",
          "text": [
            "[1, 3, 5]\n",
            "[2, 4, 6]\n",
            "thread time :  0.004041013000005478\n"
          ]
        }
      ]
    },
    {
      "cell_type": "code",
      "source": [
        "# speedup calculation\n",
        "speed_up_pool=end1/end2\n",
        "speed_up_process=end1/end3\n",
        "speed_up_threading=end1/end4\n",
        "print('speed_up of pool : ',speed_up_pool)\n",
        "print('speed_up_process : ',speed_up_process)\n",
        "print('speed_up_threading : ',speed_up_threading)"
      ],
      "metadata": {
        "colab": {
          "base_uri": "https://localhost:8080/"
        },
        "id": "rZLeNX49aCxl",
        "outputId": "fa2a15a5-e160-46dc-8495-b6b487232d8f"
      },
      "execution_count": 37,
      "outputs": [
        {
          "output_type": "stream",
          "name": "stdout",
          "text": [
            "speed_up of pool :  55.5229982539806\n",
            "speed_up_process :  33.62667424862161\n",
            "speed_up_threading :  247.79110312158247\n"
          ]
        }
      ]
    },
    {
      "cell_type": "code",
      "source": [
        "fig = plt.figure()\n",
        "t = ['sequential', 'pool', 'process','threading']\n",
        "exe_time= [end1,end2,end3,end4]\n",
        "plt.bar(t,exe_time, color=(0.1, 0.1, 0.1, 0.1),  edgecolor='red') \n",
        "plt.xlabel(\"different functins\") \n",
        "plt.ylabel(\"time taken\") \n",
        "plt.title(\"analization of sequential,pool and process time\")\n",
        "plt.show()"
      ],
      "metadata": {
        "colab": {
          "base_uri": "https://localhost:8080/",
          "height": 295
        },
        "id": "6esjOZXmaGWh",
        "outputId": "6beebb4c-01e4-4612-a489-2c5b20075e4e"
      },
      "execution_count": 38,
      "outputs": [
        {
          "output_type": "display_data",
          "data": {
            "text/plain": [
              "<Figure size 432x288 with 1 Axes>"
            ],
            "image/png": "[encoded data removed]"
          },
          "metadata": {
            "needs_background": "light"
          }
        }
      ]
    },
    {
      "cell_type": "code",
      "source": [
        "fig1 = plt.figure(figsize=(8,4))\n",
        "t = ['pool', 'process','threading']\n",
        "exe_time = [speed_up_pool,speed_up_process,speed_up_threading]\n",
        "plt.bar(t,exe_time, color=(0.1, 0.1, 0.1, 0.1),  edgecolor='red') \n",
        "plt.xlabel(\"different functins\") \n",
        "plt.ylabel(\"speed up\") \n",
        "plt.title(\"Pool and process and multithreading speed up\")\n",
        "plt.show()"
      ],
      "metadata": {
        "colab": {
          "base_uri": "https://localhost:8080/",
          "height": 295
        },
        "id": "u5oFJA4haLL3",
        "outputId": "ad2cec03-00d9-4585-b6ff-0031980491c1"
      },
      "execution_count": 39,
      "outputs": [
        {
          "output_type": "display_data",
          "data": {
            "text/plain": [
              "<Figure size 576x288 with 1 Axes>"
            ],
            "image/png": "[encoded data removed]"
          },
          "metadata": {
            "needs_background": "light"
          }
        }
      ]
    },
    {
      "cell_type": "markdown",
      "source": [
        "#### Object 10 "
      ],
      "metadata": {
        "id": "vWK7KLIWpf0t"
      }
    },
    {
      "cell_type": "markdown",
      "source": [
        "#### Write a Program to find transpose of a matrix in sequential and parallel processing and use graph to show comparisons"
      ],
      "metadata": {
        "id": "18h-nJPecpPg"
      }
    },
    {
      "cell_type": "code",
      "source": [
        "import time \n",
        "from timeit import default_timer as timer \n",
        "import multiprocessing as mp\n",
        "import numpy as np\n",
        "import matplotlib.pyplot as plt\n",
        "import threading\n",
        "import platform\n",
        "import os"
      ],
      "metadata": {
        "id": "aP6UushwaR0S"
      },
      "execution_count": 40,
      "outputs": []
    },
    {
      "cell_type": "code",
      "source": [
        "# with sleep function\n",
        "def factorialFinding(n):\n",
        "  time.sleep(1)\n",
        "\n",
        "  fact = 1\n",
        "  for num in range(2, n + 1):\n",
        "      fact *= num\n",
        "  print(f\"The factorial of {n} is {fact}\")\n",
        "  print(\"\\n\")\n",
        "  \n",
        "\n",
        "# without sleep function\n",
        "def factorialFinding2(n):\n",
        "\n",
        "  fact = 1\n",
        "  for num in range(2, n + 1):\n",
        "      fact *= num\n",
        "  print(f\"The factorial of {n} is {fact}\")\n",
        "  print(\"\\n\")"
      ],
      "metadata": {
        "id": "oN5esqptaUHa"
      },
      "execution_count": 41,
      "outputs": []
    },
    {
      "cell_type": "code",
      "source": [
        "list1 = [2,3,4,6,8,9,2,4,5,6] "
      ],
      "metadata": {
        "id": "22GYIAbPaW4N"
      },
      "execution_count": 42,
      "outputs": []
    },
    {
      "cell_type": "code",
      "source": [
        "# sequential time measurement \n",
        "start=timer()\n",
        "for i in list1:\n",
        "  factorialFinding(i)\n",
        "end1=timer()-start\n",
        "print(\"sequential time : \",end1)"
      ],
      "metadata": {
        "colab": {
          "base_uri": "https://localhost:8080/"
        },
        "id": "vHEqoDKmaZwl",
        "outputId": "63dd885b-5689-4ef9-c26b-6e9def4aa66b"
      },
      "execution_count": 43,
      "outputs": [
        {
          "output_type": "stream",
          "name": "stdout",
          "text": [
            "The factorial of 2 is 2\n",
            "\n",
            "\n",
            "The factorial of 3 is 6\n",
            "\n",
            "\n",
            "The factorial of 4 is 24\n",
            "\n",
            "\n",
            "The factorial of 6 is 720\n",
            "\n",
            "\n",
            "The factorial of 8 is 40320\n",
            "\n",
            "\n",
            "The factorial of 9 is 362880\n",
            "\n",
            "\n",
            "The factorial of 2 is 2\n",
            "\n",
            "\n",
            "The factorial of 4 is 24\n",
            "\n",
            "\n",
            "The factorial of 5 is 120\n",
            "\n",
            "\n",
            "The factorial of 6 is 720\n",
            "\n",
            "\n",
            "sequential time :  10.013738201000024\n"
          ]
        }
      ]
    },
    {
      "cell_type": "code",
      "source": [
        "# pool time measurement \n",
        "start=timer()\n",
        "p1=mp.Pool()\n",
        "p1=map(factorialFinding,list1)\n",
        "end2=timer()-start\n",
        "print(\"pool time : \",end2)"
      ],
      "metadata": {
        "colab": {
          "base_uri": "https://localhost:8080/"
        },
        "id": "AKdsTpgTabmh",
        "outputId": "43f84021-848d-4817-f2e4-d8545878e15f"
      },
      "execution_count": 44,
      "outputs": [
        {
          "output_type": "stream",
          "name": "stdout",
          "text": [
            "pool time :  0.020728708000035567\n"
          ]
        }
      ]
    },
    {
      "cell_type": "code",
      "source": [
        "# process time measurement \n",
        "start=timer()\n",
        "for i in list1:\n",
        "  p2=mp.Process(target=factorialFinding2,args=(i,))\n",
        "  p2.start()\n",
        "  p2.join()\n",
        "end3=timer()-start\n",
        "print(\"process time : \",end3)"
      ],
      "metadata": {
        "colab": {
          "base_uri": "https://localhost:8080/"
        },
        "id": "XbkDXDCeafjY",
        "outputId": "c2a64b7a-a7f5-499d-bceb-7c67e772912d"
      },
      "execution_count": 45,
      "outputs": [
        {
          "output_type": "stream",
          "name": "stdout",
          "text": [
            "The factorial of 2 is 2\n",
            "\n",
            "\n",
            "The factorial of 3 is 6\n",
            "\n",
            "\n",
            "The factorial of 4 is 24\n",
            "\n",
            "\n",
            "The factorial of 6 is 720\n",
            "\n",
            "\n",
            "The factorial of 8 is 40320\n",
            "\n",
            "\n",
            "The factorial of 9 is 362880\n",
            "\n",
            "\n",
            "The factorial of 2 is 2\n",
            "\n",
            "\n",
            "The factorial of 4 is 24\n",
            "\n",
            "\n",
            "The factorial of 5 is 120\n",
            "\n",
            "\n",
            "The factorial of 6 is 720\n",
            "\n",
            "\n",
            "process time :  0.2583962260000021\n"
          ]
        }
      ]
    },
    {
      "cell_type": "code",
      "source": [
        "# thread time measurement \n",
        "start=timer()\n",
        "for i in list1:\n",
        "  p3=threading.Thread(target=factorialFinding2,args=(i,))\n",
        "  p3.start()\n",
        "  p3.join()\n",
        "end4=timer()-start\n",
        "print(\"thread time : \",end4)"
      ],
      "metadata": {
        "colab": {
          "base_uri": "https://localhost:8080/"
        },
        "id": "WimSZA1Nah7J",
        "outputId": "4b929c1f-efd5-49e3-e467-315166063848"
      },
      "execution_count": 46,
      "outputs": [
        {
          "output_type": "stream",
          "name": "stdout",
          "text": [
            "The factorial of 2 is 2\n",
            "\n",
            "\n",
            "The factorial of 3 is 6\n",
            "\n",
            "\n",
            "The factorial of 4 is 24\n",
            "\n",
            "\n",
            "The factorial of 6 is 720\n",
            "\n",
            "\n",
            "The factorial of 8 is 40320\n",
            "\n",
            "\n",
            "The factorial of 9 is 362880\n",
            "\n",
            "\n",
            "The factorial of 2 is 2\n",
            "\n",
            "\n",
            "The factorial of 4 is 24\n",
            "\n",
            "\n",
            "The factorial of 5 is 120\n",
            "\n",
            "\n",
            "The factorial of 6 is 720\n",
            "\n",
            "\n",
            "thread time :  0.01977235900000096\n"
          ]
        }
      ]
    },
    {
      "cell_type": "code",
      "source": [
        "# speedup calculation\n",
        "speed_up_pool=end1/end2\n",
        "speed_up_process=end1/end3\n",
        "speed_up_threading=end1/end4\n",
        "print('speed_up of pool : ',speed_up_pool)\n",
        "print('speed_up_process : ',speed_up_process)\n",
        "print('speed_up_threading : ',speed_up_threading)"
      ],
      "metadata": {
        "colab": {
          "base_uri": "https://localhost:8080/"
        },
        "id": "tJyysUyoalPo",
        "outputId": "1fa59c99-e1ed-43c2-af22-2a4a016746a3"
      },
      "execution_count": 47,
      "outputs": [
        {
          "output_type": "stream",
          "name": "stdout",
          "text": [
            "speed_up of pool :  483.08549674117853\n",
            "speed_up_process :  38.753422818953794\n",
            "speed_up_threading :  506.4513648067758\n"
          ]
        }
      ]
    },
    {
      "cell_type": "code",
      "source": [
        "fig = plt.figure()\n",
        "t = ['sequential', 'pool', 'process','threading']\n",
        "exe_time= [end1,end2,end3,end4]\n",
        "plt.bar(t,exe_time, color = 'blue', edgecolor='red') \n",
        "plt.xlabel(\"different functins\") \n",
        "plt.ylabel(\"time taken\") \n",
        "plt.title(\"analization of sequential,pool and process time\")\n",
        "plt.show()"
      ],
      "metadata": {
        "colab": {
          "base_uri": "https://localhost:8080/",
          "height": 295
        },
        "id": "tshX1ykvaodJ",
        "outputId": "5319abe2-d13d-464d-9133-3ee50a163374"
      },
      "execution_count": 48,
      "outputs": [
        {
          "output_type": "display_data",
          "data": {
            "text/plain": [
              "<Figure size 432x288 with 1 Axes>"
            ],
            "image/png": "[encoded data removed]"
          },
          "metadata": {
            "needs_background": "light"
          }
        }
      ]
    },
    {
      "cell_type": "code",
      "source": [
        "fig1 = plt.figure(figsize=(8,4))\n",
        "t = ['pool', 'process','threading']\n",
        "exe_time = [speed_up_pool,speed_up_process,speed_up_threading]\n",
        "plt.bar(t,exe_time, color = 'yellow' , edgecolor='red') \n",
        "plt.xlabel(\"different functins\") \n",
        "plt.ylabel(\"speed up\") \n",
        "plt.title(\"Pool and process and multithreading speed up\")\n",
        "plt.show()"
      ],
      "metadata": {
        "colab": {
          "base_uri": "https://localhost:8080/",
          "height": 295
        },
        "id": "9AsIo3TiatPM",
        "outputId": "01c09df4-c1ec-4d6f-b5dc-712ced9f7cc1"
      },
      "execution_count": 49,
      "outputs": [
        {
          "output_type": "display_data",
          "data": {
            "text/plain": [
              "<Figure size 576x288 with 1 Axes>"
            ],
            "image/png": "[encoded data removed]"
          },
          "metadata": {
            "needs_background": "light"
          }
        }
      ]
    },
    {
      "cell_type": "markdown",
      "source": [
        "#### Object 11 "
      ],
      "metadata": {
        "id": "fKvHIKPdaw82"
      }
    },
    {
      "cell_type": "markdown",
      "source": [
        "#### Write a Program to check if a number is Prime number or not.Use Sequential or Multiprocessing Module as well as threading module to calculate their speedup"
      ],
      "metadata": {
        "id": "oxhm5FaJc3x1"
      }
    },
    {
      "cell_type": "code",
      "source": [
        "import time\n",
        "from timeit import default_timer as timer\n",
        "import multiprocessing as mp\n",
        "import numpy as np\n",
        "import matplotlib.pyplot as plt\n",
        "import threading"
      ],
      "metadata": {
        "id": "o1VTxxasazPg"
      },
      "execution_count": 50,
      "outputs": []
    },
    {
      "cell_type": "code",
      "source": [
        "#function with sleep time\n",
        "\n",
        "def prime(n) :\n",
        "    flag = False\n",
        "\n",
        "    if n > 1 :\n",
        "        for i in range(2,n):\n",
        "            time.sleep(0.05)\n",
        "            if (n % i) == 0 :\n",
        "                flag = True\n",
        "                break\n",
        "\n",
        "\n",
        "    if (flag) : \n",
        "        print('Not Prime') \n",
        "    else :\n",
        "        print('Prime')    \n",
        "\n",
        "\n",
        "#function without sleep time\n",
        "\n",
        "def prime2(n) :\n",
        "    flag = False\n",
        "\n",
        "    if n > 1 :\n",
        "        for i in range(2,n):\n",
        "            if (n % i) == 0 :\n",
        "                flag = True\n",
        "                break\n",
        "\n",
        "    if (flag) : \n",
        "        print('Not Prime') \n",
        "    else :\n",
        "        print('Prime')\n",
        "  \n"
      ],
      "metadata": {
        "id": "mfG1X4FXa1-i"
      },
      "execution_count": 51,
      "outputs": []
    },
    {
      "cell_type": "code",
      "source": [
        "list1 = [2,3,4,8,9,10,11,31,12,24,41]"
      ],
      "metadata": {
        "id": "jfvLs0QWa4hs"
      },
      "execution_count": 52,
      "outputs": []
    },
    {
      "cell_type": "code",
      "source": [
        "# Sequential Time Measurement\n",
        "\n",
        "start = timer()\n",
        "for i in list1:\n",
        "    time.sleep(0.05)\n",
        "    prime(i)\n",
        "end1 = timer() - start\n",
        "print(\"sequential time : \", end1) "
      ],
      "metadata": {
        "colab": {
          "base_uri": "https://localhost:8080/"
        },
        "id": "qEdaP6Sqa7E-",
        "outputId": "c1e1411c-0347-41ed-b467-aa630a78ae50"
      },
      "execution_count": 53,
      "outputs": [
        {
          "output_type": "stream",
          "name": "stdout",
          "text": [
            "Prime\n",
            "Prime\n",
            "Not Prime\n",
            "Not Prime\n",
            "Not Prime\n",
            "Not Prime\n",
            "Prime\n",
            "Prime\n",
            "Not Prime\n",
            "Not Prime\n",
            "Prime\n",
            "sequential time :  4.814365815000031\n"
          ]
        }
      ]
    },
    {
      "cell_type": "code",
      "source": [
        "#pool time measurement\n",
        "start = timer()\n",
        "p1 = mp.Pool()\n",
        "p1 = map(prime,list1)\n",
        "end2 = timer() - start\n",
        "print(\"Pool Time : \", end2)"
      ],
      "metadata": {
        "colab": {
          "base_uri": "https://localhost:8080/"
        },
        "id": "Oi1J_uR2a9kk",
        "outputId": "19d0c82c-3007-4839-a303-55eb37872ef6"
      },
      "execution_count": 54,
      "outputs": [
        {
          "output_type": "stream",
          "name": "stdout",
          "text": [
            "Pool Time :  0.025164152000002105\n"
          ]
        }
      ]
    },
    {
      "cell_type": "code",
      "source": [
        "# process time measurement\n",
        "start = timer()\n",
        "for i in list1:\n",
        "    p2 = mp.Process(target=prime2,args=(i,))\n",
        "    p2.start()\n",
        "    p2.join()\n",
        "end3 = timer() - start\n",
        "print(\"Process time : \", end3)"
      ],
      "metadata": {
        "colab": {
          "base_uri": "https://localhost:8080/"
        },
        "id": "xQCcC-Dca_7p",
        "outputId": "c23a2713-85a5-4b2b-e8d5-6dc0adb4cecb"
      },
      "execution_count": 55,
      "outputs": [
        {
          "output_type": "stream",
          "name": "stdout",
          "text": [
            "Prime\n",
            "Prime\n",
            "Not Prime\n",
            "Not Prime\n",
            "Not Prime\n",
            "Not Prime\n",
            "Prime\n",
            "Prime\n",
            "Not Prime\n",
            "Not Prime\n",
            "Prime\n",
            "Process time :  0.20396771200000785\n"
          ]
        }
      ]
    },
    {
      "cell_type": "code",
      "source": [
        "# thread time measurement\n",
        "start = timer()\n",
        "for i in list1 :\n",
        "    p3 = threading.Thread(target = prime2,args=(i,))\n",
        "    p3.start()\n",
        "    p3.join()\n",
        "end4 = timer() - start\n",
        "print(\"thread time : \", end4)"
      ],
      "metadata": {
        "colab": {
          "base_uri": "https://localhost:8080/"
        },
        "id": "yAtWuycLbBqQ",
        "outputId": "2aa5b9f4-7c56-4b16-c8bd-ac53ff0ff31c"
      },
      "execution_count": 56,
      "outputs": [
        {
          "output_type": "stream",
          "name": "stdout",
          "text": [
            "Prime\n",
            "Prime\n",
            "Not Prime\n",
            "Not Prime\n",
            "Not Prime\n",
            "Not Prime\n",
            "Prime\n",
            "Prime\n",
            "Not Prime\n",
            "Not Prime\n",
            "Prime\n",
            "thread time :  0.018769835000000512\n"
          ]
        }
      ]
    },
    {
      "cell_type": "code",
      "source": [
        "#speedup calculation\n",
        "speed_up_pool = end1/end2\n",
        "speed_up_process = end1/end3\n",
        "speed_up_threading = end1/end4\n",
        "print('speed_up_pool : ', speed_up_pool)\n",
        "print('speed_up_process : ', speed_up_process)\n",
        "print('speed_up_threading : ', speed_up_threading)"
      ],
      "metadata": {
        "colab": {
          "base_uri": "https://localhost:8080/"
        },
        "id": "Qgs-1m-rbFR5",
        "outputId": "be53dc71-3160-4a1e-8b2b-253573836505"
      },
      "execution_count": 57,
      "outputs": [
        {
          "output_type": "stream",
          "name": "stdout",
          "text": [
            "speed_up_pool :  191.3184205452116\n",
            "speed_up_process :  23.603568269667335\n",
            "speed_up_threading :  256.49483945915875\n"
          ]
        }
      ]
    },
    {
      "cell_type": "code",
      "source": [
        "fig = plt.figure()\n",
        "t = ['sequential', 'pool', 'process', 'threading']\n",
        "exe_time = [end1,end2,end3,end4]\n",
        "plt.bar(t,exe_time,color = 'violet')\n",
        "plt.xlabel('different functions')\n",
        "plt.ylabel('time taken')\n",
        "plt.title('analization of sequential,pool,process and threading time')\n",
        "plt.show()"
      ],
      "metadata": {
        "colab": {
          "base_uri": "https://localhost:8080/",
          "height": 295
        },
        "id": "X89kL3-qbJJz",
        "outputId": "fc47e961-4489-4909-83d3-c4e2e8f8d518"
      },
      "execution_count": 58,
      "outputs": [
        {
          "output_type": "display_data",
          "data": {
            "text/plain": [
              "<Figure size 432x288 with 1 Axes>"
            ],
            "image/png": "[encoded data removed]"
          },
          "metadata": {
            "needs_background": "light"
          }
        }
      ]
    },
    {
      "cell_type": "code",
      "source": [
        "fig1 = plt.figure()\n",
        "t = ['pool', 'process', 'threading']\n",
        "exe_time = [speed_up_pool, speed_up_process, speed_up_threading]\n",
        "plt.bar(t,exe_time,color='green')\n",
        "plt.xlabel('different functions')\n",
        "plt.ylabel('speedup')\n",
        "plt.title('Pool and Process and multithreading speedup ')\n",
        "plt.show()"
      ],
      "metadata": {
        "colab": {
          "base_uri": "https://localhost:8080/",
          "height": 295
        },
        "id": "RETGQ1JUbMNG",
        "outputId": "0dbc7174-ff4c-45fb-ff19-a050962b779b"
      },
      "execution_count": 59,
      "outputs": [
        {
          "output_type": "display_data",
          "data": {
            "text/plain": [
              "<Figure size 432x288 with 1 Axes>"
            ],
            "image/png": "[encoded data removed]"
          },
          "metadata": {
            "needs_background": "light"
          }
        }
      ]
    },
    {
      "cell_type": "markdown",
      "source": [
        "#### Object 12 "
      ],
      "metadata": {
        "id": "Gw04sjF1bQ00"
      }
    },
    {
      "cell_type": "markdown",
      "source": [
        "#### Write a Program to Check if a number is even or odd. Calculate using multiprocessing and multithreading module. Also calculate their speedup and plot their graphs"
      ],
      "metadata": {
        "id": "SSZCBnJKc8oD"
      }
    },
    {
      "cell_type": "code",
      "source": [
        "import time\n",
        "from timeit import default_timer as timer\n",
        "import multiprocessing as mp\n",
        "import numpy as np\n",
        "import matplotlib.pyplot as plt\n",
        "import threading"
      ],
      "metadata": {
        "id": "a6r-OujjbTpK"
      },
      "execution_count": 60,
      "outputs": []
    },
    {
      "cell_type": "code",
      "source": [
        "#function with sleep time \n",
        "\n",
        "def odd_even(n) :\n",
        "  time.sleep(0.02)\n",
        "  if(n%2)== 0 :\n",
        "    print('even')\n",
        "  else :\n",
        "    print('odd')\n",
        "\n",
        "#function without sleep time\n",
        "\n",
        "def odd_even1(n):\n",
        "    if(n%2) == 0 :\n",
        "      print('even')\n",
        "    else :\n",
        "      print('odd')  "
      ],
      "metadata": {
        "id": "U8ePkNTobVri"
      },
      "execution_count": 61,
      "outputs": []
    },
    {
      "cell_type": "code",
      "source": [
        "inp = [2,3,56,24,67,63,75,723,32,234584,234621]"
      ],
      "metadata": {
        "id": "b4CcDLBHbYnh"
      },
      "execution_count": 62,
      "outputs": []
    },
    {
      "cell_type": "code",
      "source": [
        "# Sequential Time Measurement\n",
        "\n",
        "start = timer()\n",
        "for i in inp:\n",
        "    time.sleep(0.05)\n",
        "    odd_even(i)\n",
        "end1 = timer() - start\n",
        "print(\"sequential time : \", end1) "
      ],
      "metadata": {
        "colab": {
          "base_uri": "https://localhost:8080/"
        },
        "id": "KoF9zTECbair",
        "outputId": "d1c123bf-47fd-42d8-e737-701e0f2b35a3"
      },
      "execution_count": 63,
      "outputs": [
        {
          "output_type": "stream",
          "name": "stdout",
          "text": [
            "even\n",
            "odd\n",
            "even\n",
            "even\n",
            "odd\n",
            "odd\n",
            "odd\n",
            "odd\n",
            "even\n",
            "even\n",
            "odd\n",
            "sequential time :  0.7771276889999967\n"
          ]
        }
      ]
    },
    {
      "cell_type": "code",
      "source": [
        "#pool time measurement\n",
        "start = timer()\n",
        "p1 = mp.Pool()\n",
        "p1 = map(odd_even,inp)\n",
        "end2 = timer() - start\n",
        "print(\"Pool Time : \", end2)"
      ],
      "metadata": {
        "colab": {
          "base_uri": "https://localhost:8080/"
        },
        "id": "0ADC8emRbc6g",
        "outputId": "153cf9fe-ba3e-453c-c757-11a71031fe52"
      },
      "execution_count": 64,
      "outputs": [
        {
          "output_type": "stream",
          "name": "stdout",
          "text": [
            "Pool Time :  0.022811591999982284\n"
          ]
        }
      ]
    },
    {
      "cell_type": "code",
      "source": [
        "# process time measurement\n",
        "start = timer()\n",
        "for i in inp:\n",
        "    p2 = mp.Process(target=odd_even1,args=(i,))\n",
        "    p2.start()\n",
        "    p2.join()\n",
        "end3 = timer() - start\n",
        "print(\"Process time : \", end3)"
      ],
      "metadata": {
        "colab": {
          "base_uri": "https://localhost:8080/"
        },
        "id": "gZYNNO36bgC2",
        "outputId": "7b501c8e-ea95-4e36-8ad2-c897be4a9123"
      },
      "execution_count": 65,
      "outputs": [
        {
          "output_type": "stream",
          "name": "stdout",
          "text": [
            "even\n",
            "odd\n",
            "even\n",
            "even\n",
            "odd\n",
            "odd\n",
            "odd\n",
            "odd\n",
            "even\n",
            "even\n",
            "odd\n",
            "Process time :  0.20963958900000534\n"
          ]
        }
      ]
    },
    {
      "cell_type": "code",
      "source": [
        "# thread time measurement\n",
        "start = timer()\n",
        "for i in inp :\n",
        "    p3 = threading.Thread(target = odd_even1,args=(i,))\n",
        "    p3.start()\n",
        "    p3.join()\n",
        "end4 = timer() - start\n",
        "print(\"thread time : \", end4)"
      ],
      "metadata": {
        "colab": {
          "base_uri": "https://localhost:8080/"
        },
        "id": "2D2PEeoVbifS",
        "outputId": "c5ea0df7-78ff-4809-da78-110484c57d4c"
      },
      "execution_count": 66,
      "outputs": [
        {
          "output_type": "stream",
          "name": "stdout",
          "text": [
            "even\n",
            "odd\n",
            "even\n",
            "even\n",
            "odd\n",
            "odd\n",
            "odd\n",
            "odd\n",
            "even\n",
            "even\n",
            "odd\n",
            "thread time :  0.017323062000002665\n"
          ]
        }
      ]
    },
    {
      "cell_type": "code",
      "source": [
        "#speedup calculation\n",
        "speed_up_pool = end1/end2\n",
        "speed_up_process = end1/end3\n",
        "speed_up_threading = end1/end4\n",
        "print('speed_up_pool : ', speed_up_pool)\n",
        "print('speed_up_process : ', speed_up_process)\n",
        "print('speed_up_threading : ', speed_up_threading)"
      ],
      "metadata": {
        "colab": {
          "base_uri": "https://localhost:8080/"
        },
        "id": "dpPIOaDmblDo",
        "outputId": "21369594-aa93-4c0c-9f27-dc8d9897d5c2"
      },
      "execution_count": 67,
      "outputs": [
        {
          "output_type": "stream",
          "name": "stdout",
          "text": [
            "speed_up_pool :  34.067227267636575\n",
            "speed_up_process :  3.706970103819355\n",
            "speed_up_threading :  44.86087326824075\n"
          ]
        }
      ]
    },
    {
      "cell_type": "code",
      "source": [
        "fig = plt.figure()\n",
        "t = ['sequential', 'pool', 'process', 'threading']\n",
        "exe_time = [end1,end2,end3,end4]\n",
        "plt.bar(t,exe_time,color = 'red')\n",
        "plt.xlabel('different functions')\n",
        "plt.ylabel('time taken')\n",
        "plt.title('analization of sequential,pool,process and threading time')\n",
        "plt.show()"
      ],
      "metadata": {
        "colab": {
          "base_uri": "https://localhost:8080/",
          "height": 295
        },
        "id": "baszrjWoboFC",
        "outputId": "9ce4453b-a6d5-4ebe-f579-b7016a28f136"
      },
      "execution_count": 68,
      "outputs": [
        {
          "output_type": "display_data",
          "data": {
            "text/plain": [
              "<Figure size 432x288 with 1 Axes>"
            ],
            "image/png": "[encoded data removed]"
          },
          "metadata": {
            "needs_background": "light"
          }
        }
      ]
    },
    {
      "cell_type": "code",
      "source": [
        "fig1 = plt.figure(figsize=(8,4))\n",
        "t = ['pool', 'process', 'threading']\n",
        "exe_time = [speed_up_pool, speed_up_process, speed_up_threading]\n",
        "plt.bar(t,exe_time,color='yellow')\n",
        "plt.xlabel('different functions')\n",
        "plt.ylabel('speedup')\n",
        "plt.title('Pool and Process and multithreading speedup ')\n",
        "plt.show()"
      ],
      "metadata": {
        "colab": {
          "base_uri": "https://localhost:8080/",
          "height": 295
        },
        "id": "fpBlwo5_bqqV",
        "outputId": "7d720b5f-3c8e-4309-d8e1-aeaa00566d6a"
      },
      "execution_count": 69,
      "outputs": [
        {
          "output_type": "display_data",
          "data": {
            "text/plain": [
              "<Figure size 576x288 with 1 Axes>"
            ],
            "image/png": "[encoded data removed]"
          },
          "metadata": {
            "needs_background": "light"
          }
        }
      ]
    },
    {
      "cell_type": "markdown",
      "source": [
        "#### Object 13"
      ],
      "metadata": {
        "id": "wi3slpSpbvh2"
      }
    },
    {
      "cell_type": "markdown",
      "source": [
        "#### Write a Program to check if a number or a string is palindrome. Use multiprocessing and multithreading module in your program. Also calculate speedup of different methods and plot their speedup graph."
      ],
      "metadata": {
        "id": "LaVlGY4DdC4F"
      }
    },
    {
      "cell_type": "code",
      "source": [
        "import time\n",
        "from timeit import default_timer as timer\n",
        "import multiprocessing as mp\n",
        "import numpy as np\n",
        "import matplotlib.pyplot as plt\n",
        "import threading"
      ],
      "metadata": {
        "id": "7szHNcoLbxlc"
      },
      "execution_count": 70,
      "outputs": []
    },
    {
      "cell_type": "code",
      "source": [
        "# function without sleep time\n",
        "def pld1(s):\n",
        "    s=str(s)\n",
        "    if(s == s[::-1]):\n",
        "        print(\"Palindrome\")\n",
        "    else:\n",
        "        print(\"Not palindrome\")\n",
        "\n",
        "\n",
        "\n",
        "# function with sleep time\n",
        "def pld(s):\n",
        "    time.sleep(0.04)\n",
        "    s=str(s)\n",
        "    if(s == s[::-1]):\n",
        "        print(\"Palindrome\")\n",
        "    else:\n",
        "        print(\"Not Palindrome\")"
      ],
      "metadata": {
        "id": "uciHGm-7b0Rd"
      },
      "execution_count": 71,
      "outputs": []
    },
    {
      "cell_type": "code",
      "source": [
        "inp =[121,'sas','kiik', 2356,124,45,'none','noon',5665]"
      ],
      "metadata": {
        "id": "Arzyu-zxb7DH"
      },
      "execution_count": 72,
      "outputs": []
    },
    {
      "cell_type": "code",
      "source": [
        "# Sequential Time Measurement\n",
        "\n",
        "start = timer()\n",
        "for i in inp:\n",
        "    time.sleep(0.05)\n",
        "    pld(i)\n",
        "end1 = timer() - start\n",
        "print(\"sequential time : \", end1) "
      ],
      "metadata": {
        "colab": {
          "base_uri": "https://localhost:8080/"
        },
        "id": "A9jEtQ6hb7pw",
        "outputId": "d5b7bf10-642e-46f9-904f-3ca79e03990d"
      },
      "execution_count": 73,
      "outputs": [
        {
          "output_type": "stream",
          "name": "stdout",
          "text": [
            "Palindrome\n",
            "Palindrome\n",
            "Palindrome\n",
            "Not Palindrome\n",
            "Not Palindrome\n",
            "Not Palindrome\n",
            "Not Palindrome\n",
            "Palindrome\n",
            "Palindrome\n",
            "sequential time :  0.8130539380000528\n"
          ]
        }
      ]
    },
    {
      "cell_type": "code",
      "source": [
        "#pool time measurement\n",
        "start = timer()\n",
        "p1 = mp.Pool()\n",
        "p1 = map(pld,inp)\n",
        "end2 = timer() - start\n",
        "print(\"Pool Time : \", end2)"
      ],
      "metadata": {
        "colab": {
          "base_uri": "https://localhost:8080/"
        },
        "id": "wQU5kdEWb9Y9",
        "outputId": "e733c563-1b78-4500-c8d2-dd55683989af"
      },
      "execution_count": 74,
      "outputs": [
        {
          "output_type": "stream",
          "name": "stdout",
          "text": [
            "Pool Time :  0.01840612599994529\n"
          ]
        }
      ]
    },
    {
      "cell_type": "code",
      "source": [
        "# process time measurement\n",
        "start = timer()\n",
        "for i in inp:\n",
        "    p2 = mp.Process(target=pld1,args=(i,))\n",
        "    p2.start()\n",
        "    p2.join()\n",
        "end3 = timer() - start\n",
        "print(\"Process time : \", end3)"
      ],
      "metadata": {
        "colab": {
          "base_uri": "https://localhost:8080/"
        },
        "id": "C1BBPHbpcC9E",
        "outputId": "9242bf8c-73f4-4dbb-95da-56f2ba89e05b"
      },
      "execution_count": 75,
      "outputs": [
        {
          "output_type": "stream",
          "name": "stdout",
          "text": [
            "Palindrome\n",
            "Palindrome\n",
            "Palindrome\n",
            "Not palindrome\n",
            "Not palindrome\n",
            "Not palindrome\n",
            "Not palindrome\n",
            "Palindrome\n",
            "Palindrome\n",
            "Process time :  0.1687058339999794\n"
          ]
        }
      ]
    },
    {
      "cell_type": "code",
      "source": [
        "# thread time measurement\n",
        "start = timer()\n",
        "for i in inp :\n",
        "    p3 = threading.Thread(target = pld1,args=(i,))\n",
        "    p3.start()\n",
        "    p3.join()\n",
        "end4 = timer() - start\n",
        "print(\"thread time : \", end4)"
      ],
      "metadata": {
        "colab": {
          "base_uri": "https://localhost:8080/"
        },
        "id": "RNC0eGbxcFI_",
        "outputId": "d05c5f97-a78a-4d7d-ee09-a6ded2e48d9d"
      },
      "execution_count": 76,
      "outputs": [
        {
          "output_type": "stream",
          "name": "stdout",
          "text": [
            "Palindrome\n",
            "Palindrome\n",
            "Palindrome\n",
            "Not palindrome\n",
            "Not palindrome\n",
            "Not palindrome\n",
            "Not palindrome\n",
            "Palindrome\n",
            "Palindrome\n",
            "thread time :  0.014958629000034307\n"
          ]
        }
      ]
    },
    {
      "cell_type": "code",
      "source": [
        "#speedup calculation\n",
        "speed_up_pool = end1/end2\n",
        "speed_up_process = end1/end3\n",
        "speed_up_threading = end1/end4\n",
        "print('speed_up_pool : ', speed_up_pool)\n",
        "print('speed_up_process : ', speed_up_process)\n",
        "print('speed_up_threading : ', speed_up_threading)"
      ],
      "metadata": {
        "colab": {
          "base_uri": "https://localhost:8080/"
        },
        "id": "Cn7KF2nScHi7",
        "outputId": "72939f6f-2286-476c-91a5-3677045a60a1"
      },
      "execution_count": 77,
      "outputs": [
        {
          "output_type": "stream",
          "name": "stdout",
          "text": [
            "speed_up_pool :  44.173007291293644\n",
            "speed_up_process :  4.819358754363836\n",
            "speed_up_threading :  54.353506460932216\n"
          ]
        }
      ]
    },
    {
      "cell_type": "code",
      "source": [
        "fig = plt.figure()\n",
        "t = ['sequential', 'pool', 'process', 'threading']\n",
        "exe_time = [end1,end2,end3,end4]\n",
        "plt.bar(t,exe_time,color = 'blue')\n",
        "plt.xlabel('different functions')\n",
        "plt.ylabel('time taken')\n",
        "plt.title('analization of sequential,pool,process and threading time')\n",
        "plt.show()"
      ],
      "metadata": {
        "colab": {
          "base_uri": "https://localhost:8080/",
          "height": 295
        },
        "id": "2iGCtxXXcJtO",
        "outputId": "d1764fee-348e-44ed-8223-4c8aa3660e73"
      },
      "execution_count": 78,
      "outputs": [
        {
          "output_type": "display_data",
          "data": {
            "text/plain": [
              "<Figure size 432x288 with 1 Axes>"
            ],
            "image/png": "[encoded data removed]"
          },
          "metadata": {
            "needs_background": "light"
          }
        }
      ]
    },
    {
      "cell_type": "code",
      "source": [
        "fig1 = plt.figure(figsize=(8,4))\n",
        "t = ['pool', 'process', 'threading']\n",
        "exe_time = [speed_up_pool, speed_up_process, speed_up_threading]\n",
        "plt.bar(t,exe_time,color='gray')\n",
        "plt.xlabel('different functions')\n",
        "plt.ylabel('speedup')\n",
        "plt.title('Pool and Process and multithreading speedup ')\n",
        "plt.show()"
      ],
      "metadata": {
        "colab": {
          "base_uri": "https://localhost:8080/",
          "height": 295
        },
        "id": "oA_xU70pcMuA",
        "outputId": "f5f78485-6b2b-46e7-c019-21c0299f893c"
      },
      "execution_count": 79,
      "outputs": [
        {
          "output_type": "display_data",
          "data": {
            "text/plain": [
              "<Figure size 576x288 with 1 Axes>"
            ],
            "image/png": "[encoded data removed]"
          },
          "metadata": {
            "needs_background": "light"
          }
        }
      ]
    },
    {
      "cell_type": "markdown",
      "source": [
        "#### Object 14"
      ],
      "metadata": {
        "id": "jwm-1f_teLFK"
      }
    },
    {
      "cell_type": "markdown",
      "source": [
        "#### Write a sequential and parallel (multiprocessing program) to estimate the cube of the numbers in the list(array) and also compares their execution time taken by using speedup and their line graph"
      ],
      "metadata": {
        "id": "SV1TcClCdKrm"
      }
    },
    {
      "cell_type": "code",
      "source": [
        "import multiprocessing as mp \n",
        "import os \n",
        "import time\n",
        "from timeit import default_timer as timer\n",
        "import matplotlib.pyplot as plt\n",
        "\n",
        "def square(n): \n",
        "    #print(\"Worker process id for {0}: {1}\".format(n, os.getpid())) \n",
        "    print(n*n)\n",
        "def cube(n):\n",
        "  print(n*n*n) \n",
        "  \n",
        "if __name__ == \"__main__\":  \n",
        "    data = [6,7,8,5,4,2,]\n",
        "    start1=timer()\n",
        "    for i in data:\n",
        "      #creating a process class\n",
        "      p1=mp.Process(target=square,args=(i,))\n",
        "      p1.start()\n",
        "      p1.join()\n",
        "    end1=timer()-start1\n",
        "\n",
        "    start2=timer()\n",
        "    for i in data:\n",
        "      #creating a process class\n",
        "      p1=mp.Process(target=cube,args=(i,))\n",
        "      p1.start()\n",
        "      p1.join()\n",
        "    end2=timer()-start1\n",
        "    print(\"time taken by square  \" ,end1)\n",
        "    print(\"time taken by cube  \" ,end2)\n",
        "    fig = plt.figure()\n",
        "    t = ['square', 'cube']\n",
        "    exe_time = [end1,end2]\n",
        "    plt.bar(t,exe_time, color ='green') \n",
        "    plt.xlabel(\"different functins\") \n",
        "    plt.ylabel(\"time taken\") \n",
        "    plt.title(\"time taken by square and cube function by process\")\n",
        "    plt.show()\n",
        "\n"
      ],
      "metadata": {
        "colab": {
          "base_uri": "https://localhost:8080/",
          "height": 538
        },
        "id": "1hdqJ2t7dRFt",
        "outputId": "a312541e-802c-4796-ee68-a2662207c7fb"
      },
      "execution_count": 80,
      "outputs": [
        {
          "output_type": "stream",
          "name": "stdout",
          "text": [
            "36\n",
            "49\n",
            "64\n",
            "25\n",
            "16\n",
            "4\n",
            "216\n",
            "343\n",
            "512\n",
            "125\n",
            "64\n",
            "8\n",
            "time taken by square   0.11352600300006088\n",
            "time taken by cube   0.21877522700003738\n"
          ]
        },
        {
          "output_type": "display_data",
          "data": {
            "text/plain": [
              "<Figure size 432x288 with 1 Axes>"
            ],
            "image/png": "[encoded data removed]"
          },
          "metadata": {
            "needs_background": "light"
          }
        }
      ]
    },
    {
      "cell_type": "code",
      "source": [
        "import multiprocessing as mp \n",
        "import os \n",
        "from timeit import default_timer as timer \n",
        "import time\n",
        "\n",
        "def cube(n):\n",
        "  return (n*n*n) \n",
        "\n",
        "start=timer()\n",
        "# creating a list\n",
        "mylist = [1,2,3,4,5]\n",
        "\n",
        "# creating a pool\n",
        "p = mp.Pool() \n",
        "\n",
        "# mapping and broadcasting\n",
        "result = p.map(cube, mylist)\n",
        "end2=timer()-start\n",
        "# final result\n",
        "print(\"Result is \",result) \n",
        "print(\"Total Time is\",end2)\n",
        "print(\"parallel processing time is \" ,end2)\n",
        "print(\"length of list : \",len(mylist))\n",
        "\n",
        "fig = plt.figure()\n",
        "t = ['sequential', 'parallel(pool)']\n",
        "exe_time = [end1,end2]\n",
        "plt.bar(t,exe_time, color ='green') \n",
        "plt.xlabel(\"different functins\") \n",
        "plt.ylabel(\"time taken\") \n",
        "plt.title(\"time taken by sequential and pool process\")\n",
        "plt.show()\n",
        "\n",
        "\n",
        "\n",
        "## Function to plot \n",
        "plt.plot(mylist, result) \n",
        "  \n",
        "# function to show the plot \n",
        "plt.show() \n",
        "\n",
        "## Function to plot line graph \n",
        "plt.plot(t, exe_time) \n",
        "  \n",
        "# function to show the plot \n",
        "plt.show() "
      ],
      "metadata": {
        "colab": {
          "base_uri": "https://localhost:8080/",
          "height": 860
        },
        "id": "6bXhdvZDdZYx",
        "outputId": "939a7160-0ae3-4a7b-b442-3b07ddd0a0b9"
      },
      "execution_count": 81,
      "outputs": [
        {
          "output_type": "stream",
          "name": "stdout",
          "text": [
            "Result is  [1, 8, 27, 64, 125]\n",
            "Total Time is 0.02343720699991536\n",
            "parallel processing time is  0.02343720699991536\n",
            "length of list :  5\n"
          ]
        },
        {
          "output_type": "display_data",
          "data": {
            "text/plain": [
              "<Figure size 432x288 with 1 Axes>"
            ],
            "image/png": "[encoded data removed]"
          },
          "metadata": {
            "needs_background": "light"
          }
        },
        {
          "output_type": "display_data",
          "data": {
            "text/plain": [
              "<Figure size 432x288 with 1 Axes>"
            ],
            "image/png": "[encoded data removed]"
          },
          "metadata": {
            "needs_background": "light"
          }
        },
        {
          "output_type": "display_data",
          "data": {
            "text/plain": [
              "<Figure size 432x288 with 1 Axes>"
            ],
            "image/png": "[encoded data removed]"
          },
          "metadata": {
            "needs_background": "light"
          }
        }
      ]
    },
    {
      "cell_type": "markdown",
      "source": [
        "Sequential Execution"
      ],
      "metadata": {
        "id": "Jx6xftXOdjP8"
      }
    },
    {
      "cell_type": "code",
      "source": [
        "import time\n",
        "from timeit import default_timer as timer\n",
        "from multiprocessing import Pool, cpu_count\n",
        "\n",
        "\n",
        "def power(x, n):\n",
        "\n",
        "    time.sleep(1)\n",
        "\n",
        "    return x ** n\n",
        "\n",
        "\n",
        "def main():\n",
        "\n",
        "    start = timer()\n",
        "\n",
        "    print(f'starting computations on {cpu_count()} cores')\n",
        "\n",
        "    values = [1,2,3,4,5]\n",
        "    values1=[3,3,3,3,3]\n",
        "    res = list(map(power,values,values1))\n",
        "    print(res)\n",
        "    end = timer()\n",
        "    print(f'elapsed time: {end - start}')\n",
        "\n",
        "\n",
        "if __name__ == '__main__':\n",
        "    main()"
      ],
      "metadata": {
        "colab": {
          "base_uri": "https://localhost:8080/"
        },
        "id": "L1hnp_Vtdm-F",
        "outputId": "c032b7c4-b2f1-4950-94f0-2b7566d699bd"
      },
      "execution_count": 82,
      "outputs": [
        {
          "output_type": "stream",
          "name": "stdout",
          "text": [
            "starting computations on 2 cores\n",
            "[1, 8, 27, 64, 125]\n",
            "elapsed time: 5.005692298999975\n"
          ]
        }
      ]
    },
    {
      "cell_type": "code",
      "source": [
        "import time\n",
        "from timeit import default_timer as timer\n",
        "from multiprocessing import Pool, cpu_count\n",
        "\n",
        "\n",
        "def power(x, n):\n",
        "\n",
        "    time.sleep(1)\n",
        "\n",
        "    return x ** n\n",
        "\n",
        "\n",
        "def main():\n",
        "\n",
        "    start = timer()\n",
        "\n",
        "    print(f'starting computations on {cpu_count()} cores')\n",
        "\n",
        "    values = [2,4,5,6,4,7,2]\n",
        "    values1=[3,3,3,3,3,3,3]\n",
        "    res = list(map(power,values,values1))\n",
        "    print(res)\n",
        "    end = timer()\n",
        "    print(f'elapsed time: {end - start}')\n",
        "\n",
        "\n",
        "if __name__ == '__main__':\n",
        "    main()"
      ],
      "metadata": {
        "colab": {
          "base_uri": "https://localhost:8080/"
        },
        "id": "NbBpC1JVdvXx",
        "outputId": "7682badd-0b79-4de8-f668-7937706ec7d3"
      },
      "execution_count": 83,
      "outputs": [
        {
          "output_type": "stream",
          "name": "stdout",
          "text": [
            "starting computations on 2 cores\n",
            "[8, 64, 125, 216, 64, 343, 8]\n",
            "elapsed time: 7.007130843000027\n"
          ]
        }
      ]
    },
    {
      "cell_type": "code",
      "source": [
        "import time\n",
        "from timeit import default_timer as timer\n",
        "from multiprocessing import Pool, cpu_count\n",
        "\n",
        "\n",
        "def power(x, n):\n",
        "\n",
        "    time.sleep(1)\n",
        "\n",
        "    return x ** n\n",
        "\n",
        "\n",
        "def main():\n",
        "\n",
        "    start = timer()\n",
        "\n",
        "    print(f'starting computations on {cpu_count()} cores')\n",
        "\n",
        "    values = [2,4,5,6,4,7,2,4,5]\n",
        "    values1=[3,3,3,3,3,3,3,3,3]\n",
        "    res = list(map(power,values,values1))\n",
        "    print(res)\n",
        "    end = timer()\n",
        "    print(f'elapsed time: {end - start}')\n",
        "\n",
        "\n",
        "if __name__ == '__main__':\n",
        "    main()"
      ],
      "metadata": {
        "colab": {
          "base_uri": "https://localhost:8080/"
        },
        "id": "nQZ1vG1RdxR7",
        "outputId": "f4977479-7325-4f5c-c2e5-31c83bd235c5"
      },
      "execution_count": 84,
      "outputs": [
        {
          "output_type": "stream",
          "name": "stdout",
          "text": [
            "starting computations on 2 cores\n",
            "[8, 64, 125, 216, 64, 343, 8, 64, 125]\n",
            "elapsed time: 9.010302247000027\n"
          ]
        }
      ]
    },
    {
      "cell_type": "code",
      "source": [
        "import time\n",
        "from timeit import default_timer as timer\n",
        "from multiprocessing import Pool, cpu_count\n",
        "\n",
        "\n",
        "def power(x, n):\n",
        "\n",
        "    time.sleep(1)\n",
        "\n",
        "    return x ** n\n",
        "\n",
        "\n",
        "def main():\n",
        "\n",
        "    start = timer()\n",
        "\n",
        "    print(f'starting computations on {cpu_count()} cores')\n",
        "\n",
        "    values = [2,4,5,6,4,7,2,4,5,9,2]\n",
        "    values1=[3,3,3,3,3,3,3,3,3,3,3]\n",
        "    res = list(map(power,values,values1))\n",
        "    print(res)\n",
        "    end = timer()\n",
        "    print(f'elapsed time: {end - start}')\n",
        "\n",
        "\n",
        "if __name__ == '__main__':\n",
        "    main()"
      ],
      "metadata": {
        "colab": {
          "base_uri": "https://localhost:8080/"
        },
        "id": "DRyGeXJsd0uc",
        "outputId": "040c0aed-72cb-43d5-ac98-4bf82a0be85d"
      },
      "execution_count": 85,
      "outputs": [
        {
          "output_type": "stream",
          "name": "stdout",
          "text": [
            "starting computations on 2 cores\n",
            "[8, 64, 125, 216, 64, 343, 8, 64, 125, 729, 8]\n",
            "elapsed time: 11.011173783000004\n"
          ]
        }
      ]
    },
    {
      "cell_type": "markdown",
      "source": [
        "Parallel Execution"
      ],
      "metadata": {
        "id": "dpFBHev3d59M"
      }
    },
    {
      "cell_type": "code",
      "source": [
        "import time\n",
        "from timeit import default_timer as timer\n",
        "from multiprocessing import Pool, cpu_count\n",
        "import sys\n",
        "\n",
        "\n",
        "def power(x, n):\n",
        "\n",
        "    time.sleep(1)\n",
        "\n",
        "    return x ** n\n",
        "\n",
        "\n",
        "def main():\n",
        "\n",
        "    start = timer()\n",
        "\n",
        "    print(f'starting computations on {cpu_count()} cores')\n",
        "\n",
        "    values = ((2, 3), (4, 3), (5, 3),(6,3),(4,3))\n",
        "\n",
        "    with Pool() as pool:\n",
        "        res = pool.starmap(power, values)\n",
        "        print(res)\n",
        "\n",
        "    end = timer()\n",
        "    print(f'elapsed time: {end - start}')\n",
        "\n",
        "\n",
        "if __name__ == '__main__':\n",
        "    main()"
      ],
      "metadata": {
        "colab": {
          "base_uri": "https://localhost:8080/"
        },
        "id": "7-hxmINtd807",
        "outputId": "b228d26f-456e-42db-dc84-d8c1fe493bb7"
      },
      "execution_count": 86,
      "outputs": [
        {
          "output_type": "stream",
          "name": "stdout",
          "text": [
            "starting computations on 2 cores\n",
            "[8, 64, 125, 216, 64]\n",
            "elapsed time: 3.1347900629999685\n"
          ]
        }
      ]
    },
    {
      "cell_type": "code",
      "source": [
        "import time\n",
        "from timeit import default_timer as timer\n",
        "from multiprocessing import Pool, cpu_count\n",
        "import sys\n",
        "\n",
        "\n",
        "def power(x, n):\n",
        "\n",
        "    time.sleep(1)\n",
        "\n",
        "    return x ** n\n",
        "\n",
        "\n",
        "def main():\n",
        "\n",
        "    start = timer()\n",
        "\n",
        "    print(f'starting computations on {cpu_count()} cores')\n",
        "\n",
        "    values = ((2, 3), (4, 3), (5, 3),(6,3),(4,3),(7,3),(2,3))\n",
        "\n",
        "    with Pool() as pool:\n",
        "        res = pool.starmap(power, values)\n",
        "        print(res)\n",
        "\n",
        "    end = timer()\n",
        "    print(f'elapsed time: {end - start}')\n",
        "\n",
        "\n",
        "if __name__ == '__main__':\n",
        "    main()"
      ],
      "metadata": {
        "colab": {
          "base_uri": "https://localhost:8080/"
        },
        "id": "8K9GWMkeeAeQ",
        "outputId": "97e267f2-d699-46b0-cd9a-d15db27ddec6"
      },
      "execution_count": 87,
      "outputs": [
        {
          "output_type": "stream",
          "name": "stdout",
          "text": [
            "starting computations on 2 cores\n",
            "[8, 64, 125, 216, 64, 343, 8]\n",
            "elapsed time: 4.133267399000033\n"
          ]
        }
      ]
    },
    {
      "cell_type": "code",
      "source": [
        "import time\n",
        "from timeit import default_timer as timer\n",
        "from multiprocessing import Pool, cpu_count\n",
        "import sys\n",
        "\n",
        "\n",
        "def power(x, n):\n",
        "\n",
        "    time.sleep(1)\n",
        "\n",
        "    return x ** n\n",
        "\n",
        "\n",
        "def main():\n",
        "\n",
        "    start = timer()\n",
        "\n",
        "    print(f'starting computations on {cpu_count()} cores')\n",
        "\n",
        "    values = ((2, 3), (4, 3), (5, 3),(6,3),(4,3),(7,3),(2,3),(4,3),(5,3))\n",
        "\n",
        "    with Pool() as pool:\n",
        "        res = pool.starmap(power, values)\n",
        "        print(res)\n",
        "\n",
        "    end = timer()\n",
        "    print(f'elapsed time: {end - start}')\n",
        "\n",
        "\n",
        "if __name__ == '__main__':\n",
        "    main()"
      ],
      "metadata": {
        "colab": {
          "base_uri": "https://localhost:8080/"
        },
        "id": "XJS8bNZXeDnM",
        "outputId": "175793f5-7816-4ab5-ce14-5a9b849b965e"
      },
      "execution_count": 88,
      "outputs": [
        {
          "output_type": "stream",
          "name": "stdout",
          "text": [
            "starting computations on 2 cores\n",
            "[8, 64, 125, 216, 64, 343, 8, 64, 125]\n",
            "elapsed time: 5.034206296999969\n"
          ]
        }
      ]
    },
    {
      "cell_type": "code",
      "source": [
        "import time\n",
        "from timeit import default_timer as timer\n",
        "from multiprocessing import Pool, cpu_count\n",
        "import sys\n",
        "\n",
        "\n",
        "def power(x, n):\n",
        "\n",
        "    time.sleep(1)\n",
        "\n",
        "    return x ** n\n",
        "\n",
        "\n",
        "def main():\n",
        "\n",
        "    start = timer()\n",
        "\n",
        "    print(f'starting computations on {cpu_count()} cores')\n",
        "\n",
        "    values = ((2, 3), (4, 3), (5, 3),(6,3),(4,3),(7,3),(2,3),(4,3),(5,3),(9,3),(2,3))\n",
        "\n",
        "    with Pool() as pool:\n",
        "        res = pool.starmap(power, values)\n",
        "        print(res)\n",
        "\n",
        "    end = timer()\n",
        "    print(f'elapsed time: {end - start}')\n",
        "\n",
        "\n",
        "if __name__ == '__main__':\n",
        "    main()"
      ],
      "metadata": {
        "colab": {
          "base_uri": "https://localhost:8080/"
        },
        "id": "f5TXdx9SeGXx",
        "outputId": "b8dcfe35-4bc8-4b86-a370-f7899bdf234f"
      },
      "execution_count": 89,
      "outputs": [
        {
          "output_type": "stream",
          "name": "stdout",
          "text": [
            "starting computations on 2 cores\n",
            "[8, 64, 125, 216, 64, 343, 8, 64, 125, 729, 8]\n",
            "elapsed time: 6.034502059000033\n"
          ]
        }
      ]
    },
    {
      "cell_type": "markdown",
      "source": [
        "Experimenting With Matplotlib For Optimization Comparision"
      ],
      "metadata": {
        "id": "CzQNRgsOeJsZ"
      }
    },
    {
      "cell_type": "code",
      "source": [
        "import matplotlib.pyplot as plt\n",
        "\n",
        "plt.title(\"Sequential time Vs Parallel time\")\n",
        "plt.ylabel('Time in second')\n",
        "plt.xlabel('Data length')\n",
        "\n",
        "data_size = [5,7,9,11]\n",
        "sequential_time = [5.007,7.009,9.009,11.019] \n",
        "parallel_time = [3.031,4.034,5.033,6.044] \n",
        "  \n",
        "# Function to plot \n",
        "plt.plot(data_size,sequential_time,label=\"Sequential Time\")\n",
        "plt.plot(data_size,parallel_time,label=\"Parallel Time\") \n",
        "  \n",
        "# function to show the plot \n",
        "plt.legend() "
      ],
      "metadata": {
        "colab": {
          "base_uri": "https://localhost:8080/",
          "height": 312
        },
        "id": "yVJYDJHteKaF",
        "outputId": "19905a04-342d-4350-99ee-e8120bcfe565"
      },
      "execution_count": 90,
      "outputs": [
        {
          "output_type": "execute_result",
          "data": {
            "text/plain": [
              "<matplotlib.legend.Legend at 0x7f3de48bdf50>"
            ]
          },
          "metadata": {},
          "execution_count": 90
        },
        {
          "output_type": "display_data",
          "data": {
            "text/plain": [
              "<Figure size 432x288 with 1 Axes>"
            ],
            "image/png": "[encoded data removed]"
          },
          "metadata": {
            "needs_background": "light"
          }
        }
      ]
    },
    {
      "cell_type": "markdown",
      "source": [
        "Speedup Graph"
      ],
      "metadata": {
        "id": "84Pdl797eQlI"
      }
    },
    {
      "cell_type": "code",
      "source": [
        "import matplotlib.pyplot as plt\n",
        "\n",
        "plt.title(\"Speed Up Time\")\n",
        "plt.ylabel('Time in second')\n",
        "plt.xlabel('Data length')\n",
        "\n",
        "data_size = [5,7,9,11]\n",
        "speedup_data = [1.65,1.737,1.789,1.823]\n",
        "  \n",
        "# Function to plot \n",
        "plt.plot(data_size,speedup_data,label=\"Speed Up Time\")\n",
        "  \n",
        "# function to show the plot \n",
        "plt.legend()"
      ],
      "metadata": {
        "colab": {
          "base_uri": "https://localhost:8080/",
          "height": 312
        },
        "id": "LzPMtMPUeNjd",
        "outputId": "a1c8d915-4ac6-490a-b5d8-66bcc37393a5"
      },
      "execution_count": 91,
      "outputs": [
        {
          "output_type": "execute_result",
          "data": {
            "text/plain": [
              "<matplotlib.legend.Legend at 0x7f3de16e93d0>"
            ]
          },
          "metadata": {},
          "execution_count": 91
        },
        {
          "output_type": "display_data",
          "data": {
            "text/plain": [
              "<Figure size 432x288 with 1 Axes>"
            ],
            "image/png": "[encoded data removed]"
          },
          "metadata": {
            "needs_background": "light"
          }
        }
      ]
    }
  ]
}